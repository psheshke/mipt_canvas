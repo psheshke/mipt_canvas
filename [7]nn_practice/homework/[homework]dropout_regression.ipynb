{
  "nbformat": 4,
  "nbformat_minor": 0,
  "metadata": {
    "colab": {
      "name": "[homework]dropout_regression.ipynb",
      "version": "0.3.2",
      "provenance": [],
      "collapsed_sections": []
    },
    "language_info": {
      "codemirror_mode": {
        "name": "ipython",
        "version": 3
      },
      "file_extension": ".py",
      "mimetype": "text/x-python",
      "name": "python",
      "nbconvert_exporter": "python",
      "pygments_lexer": "ipython3",
      "version": "3.7.0"
    },
    "kernelspec": {
      "name": "python3",
      "display_name": "Python 3"
    },
    "accelerator": "GPU"
  },
  "cells": [
    {
      "metadata": {
        "colab_type": "text",
        "id": "WBVp9yfvvfUf"
      },
      "cell_type": "markdown",
      "source": [
        "<img src=\"https://s8.hostingkartinok.com/uploads/images/2018/08/308b49fcfbc619d629fe4604bceb67ac.jpg\" width=500, height=450>\n",
        "<h3 style=\"text-align: center;\"><b>Физтех-Школа Прикладной математики и информатики (ФПМИ) МФТИ</b></h3>"
      ]
    },
    {
      "metadata": {
        "colab_type": "text",
        "id": "pZIKE7fZvfUn"
      },
      "cell_type": "markdown",
      "source": [
        "---"
      ]
    },
    {
      "metadata": {
        "colab_type": "text",
        "id": "BhPX6kQivfUo"
      },
      "cell_type": "markdown",
      "source": [
        "<h2 style=\"text-align: center;\"><b>Домашнее задание: применение Dropout (на примере задачи регрессии)</b></h2>"
      ]
    },
    {
      "metadata": {
        "colab_type": "code",
        "id": "VeNj0ZSrvfUw",
        "outputId": "346aa012-8fa5-4540-f858-377c1ea55325",
        "colab": {
          "base_uri": "https://localhost:8080/",
          "height": 389
        }
      },
      "cell_type": "code",
      "source": [
        "from IPython.display import Image, clear_output\n",
        "from IPython.core.display import HTML \n",
        "Image(url= \"http://juice-health.ru/images/technology/32.png\")"
      ],
      "execution_count": 1,
      "outputs": [
        {
          "output_type": "execute_result",
          "data": {
            "text/html": [
              "<img src=\"http://juice-health.ru/images/technology/32.png\"/>"
            ],
            "text/plain": [
              "<IPython.core.display.Image object>"
            ]
          },
          "metadata": {
            "tags": []
          },
          "execution_count": 1
        }
      ]
    },
    {
      "metadata": {
        "colab_type": "text",
        "id": "cu73v5wKvfU_"
      },
      "cell_type": "markdown",
      "source": [
        "## Проблема"
      ]
    },
    {
      "metadata": {
        "colab_type": "text",
        "id": "jPOYiAkQvfVA"
      },
      "cell_type": "markdown",
      "source": [
        "Переобучение (overfitting) — одна из проблем глубоких нейронных сетей, состоящая в следующем: модель хорошо объясняет только примеры из обучающей выборки, адаптируясь к обучающим примерам, вместо того чтобы учиться классифицировать примеры, не участвовавшие в обучении (теряя способность к обобщению)."
      ]
    },
    {
      "metadata": {
        "colab_type": "code",
        "id": "OvzJVq33vfVG",
        "outputId": "6fd369d7-4626-43be-c2aa-3d4b5448d12f",
        "colab": {
          "base_uri": "https://localhost:8080/",
          "height": 277
        }
      },
      "cell_type": "code",
      "source": [
        "Image(url= \"https://upload.wikimedia.org/wikipedia/commons/6/68/Overfitted_Data.png\")"
      ],
      "execution_count": 2,
      "outputs": [
        {
          "output_type": "execute_result",
          "data": {
            "text/html": [
              "<img src=\"https://upload.wikimedia.org/wikipedia/commons/6/68/Overfitted_Data.png\"/>"
            ],
            "text/plain": [
              "<IPython.core.display.Image object>"
            ]
          },
          "metadata": {
            "tags": []
          },
          "execution_count": 2
        }
      ]
    },
    {
      "metadata": {
        "colab_type": "text",
        "id": "piUbQ89UvfVT"
      },
      "cell_type": "markdown",
      "source": [
        "## Идея"
      ]
    },
    {
      "metadata": {
        "colab_type": "text",
        "id": "-MBwlQauvfVU"
      },
      "cell_type": "markdown",
      "source": [
        "Главная идея Dropout — вместо обучения одной нейронной сети обучить ансамбль нескольких нейронных сетей, а затем усреднить полученные результаты."
      ]
    },
    {
      "metadata": {
        "colab_type": "text",
        "id": "Ywri47tWvfVa"
      },
      "cell_type": "markdown",
      "source": [
        "## Реализация"
      ]
    },
    {
      "metadata": {
        "colab_type": "text",
        "id": "MPQ6I2DevfVc"
      },
      "cell_type": "markdown",
      "source": [
        "Сети для обучения получаются с помощью исключения из сети (dropping out) нейронов с вероятностью $p$(в семинаре $keep\\_rate$), таким образом, вероятность того, что нейрон останется в сети, составляет $q = 1 - p$. “Исключение” нейрона означает, что при любых входных данных или параметрах он возвращает 0."
      ]
    },
    {
      "metadata": {
        "colab_type": "text",
        "id": "k6SloOGsvfW5"
      },
      "cell_type": "markdown",
      "source": [
        " Слева — нейронная сеть до того, как к ней применили Dropout, справа — та же сеть после Dropout."
      ]
    },
    {
      "metadata": {
        "colab_type": "code",
        "id": "Tx7UftZRvfW6",
        "outputId": "a57d128e-f2f4-4ed6-a270-922a0fb94f80",
        "colab": {
          "base_uri": "https://localhost:8080/",
          "height": 349
        }
      },
      "cell_type": "code",
      "source": [
        "Image(url= \"https://hsto.org/web/dd8/171/16f/dd817116fc2348e78272577153e31d2d.jpeg\")"
      ],
      "execution_count": 3,
      "outputs": [
        {
          "output_type": "execute_result",
          "data": {
            "text/html": [
              "<img src=\"https://hsto.org/web/dd8/171/16f/dd817116fc2348e78272577153e31d2d.jpeg\"/>"
            ],
            "text/plain": [
              "<IPython.core.display.Image object>"
            ]
          },
          "metadata": {
            "tags": []
          },
          "execution_count": 3
        }
      ]
    },
    {
      "metadata": {
        "colab_type": "text",
        "id": "Ig2AniOfvfW_"
      },
      "cell_type": "markdown",
      "source": [
        "## Результат"
      ]
    },
    {
      "metadata": {
        "colab_type": "text",
        "id": "wdjTJCyCvfXB"
      },
      "cell_type": "markdown",
      "source": [
        "Исключенные нейроны не вносят свой вклад в процесс обучения ни на одном из этапов алгоритма обратного распространения ошибки (backpropagation), поэтому исключение хотя бы одного из нейронов равносильно обучению новой нейронной сети.\n",
        "В двух словах, Dropout хорошо работает на практике, потому что предотвращает взаимоадаптацию нейронов на этапе обучения."
      ]
    },
    {
      "metadata": {
        "colab_type": "text",
        "id": "R7FGntZMvfXC"
      },
      "cell_type": "markdown",
      "source": [
        "-----------------------------------------------------------------------------"
      ]
    },
    {
      "metadata": {
        "colab_type": "text",
        "id": "YW479771vfXE"
      },
      "cell_type": "markdown",
      "source": [
        "Посмотрим, как хорошо на практике работает Dropout. Будем решать задачу регресиию. Сгенерируем две выборки $test\\_y$, $y$ из одного распределения и будем обучаться на $y$, а смотреть ошибку на $test\\_y$. Будем использовать два способа обучения: c использованием Dropout и без него. "
      ]
    },
    {
      "metadata": {
        "colab_type": "code",
        "id": "KJEWLYnxvfXF",
        "colab": {}
      },
      "cell_type": "code",
      "source": [
        "import torch\n",
        "import numpy as np\n",
        "import matplotlib.pyplot as plt\n",
        "from time import sleep\n",
        "%config InlineBackend.figure_format = 'svg' \n",
        "torch.manual_seed(2)   \n",
        "np.random.seed(2)"
      ],
      "execution_count": 0,
      "outputs": []
    },
    {
      "metadata": {
        "colab_type": "text",
        "id": "tPpp3rgQvfXI"
      },
      "cell_type": "markdown",
      "source": [
        "Мы показываем вам, как были сгенерированы $y$ и $test\\_y$, но, чтобы наблюдать правильность выполнения задания, мы зафиксировали какие-то рандомные выборки из этого распределения."
      ]
    },
    {
      "metadata": {
        "colab_type": "code",
        "id": "6PGmfcYCvfXJ",
        "scrolled": false,
        "colab": {}
      },
      "cell_type": "code",
      "source": [
        "# Кол-во точек \n",
        "N_SAMPLES = 20\n",
        "\n",
        "# Строим выборку для обучения \n",
        "x = torch.linspace(-1, 1, N_SAMPLES).view(N_SAMPLES, -1)\n",
        "#y = x + 0.3 * torch.normal(torch.zeros(N_SAMPLES, 1), torch.ones(N_SAMPLES, 1))\n",
        "y = torch.tensor([[-1.3122],[-0.6198],[-1.1807],[-1.0171],[-0.5700],[-0.4886],[-0.0489],[ 0.0027],[-0.4012],[ 0.1495]\n",
        "                  ,[-0.2844],[ 0.1303],[ 0.3053],[ 0.7042],[ 0.5683],[ 1.1048],[ 0.4623],[ 0.4167],[ 0.8422],[ 1.2097]])\n",
        "\n",
        "# Строим тестовую выборку\n",
        "test_x = torch.linspace(-1, 1, N_SAMPLES).view(N_SAMPLES, -1)\n",
        "#test_y = test_x + 0.3 * torch.normal(torch.zeros(N_SAMPLES, 1), torch.ones(N_SAMPLES, 1))\n",
        "test_y = torch.tensor([[-1.3883],[-0.9020],[-0.8601],[-0.8968],[-0.2950],[-1.0038],[-0.5611],[ 0.4919],[-0.4285],[-0.0572],\n",
        "                       [ 0.4683],[ 0.9315],[ 0.1591],[ 0.3946],[ 0.1438],[ 0.7278],[ 1.1072],[ 0.6730],[ 1.0141],[ 0.6687]])"
      ],
      "execution_count": 0,
      "outputs": []
    },
    {
      "metadata": {
        "colab_type": "text",
        "id": "IPsKn_DhvfXL"
      },
      "cell_type": "markdown",
      "source": [
        "Отобразим наши данные:"
      ]
    },
    {
      "metadata": {
        "colab_type": "code",
        "id": "2c8oHg95vfXM",
        "scrolled": true,
        "outputId": "21d07490-0e40-498d-882b-56fc2f354f84",
        "colab": {
          "base_uri": "https://localhost:8080/",
          "height": 357
        }
      },
      "cell_type": "code",
      "source": [
        "plt.scatter(x.data.numpy(), y.data.numpy(), c='magenta', s=20, alpha=0.6, label='train')\n",
        "plt.scatter(test_x.data.numpy(), test_y.data.numpy(), c='cyan', s=20, alpha=0.6, label='test')\n",
        "plt.legend(loc='upper left')\n",
        "plt.ylim((-2.5, 2.5))\n",
        "plt.show()"
      ],
      "execution_count": 6,
      "outputs": [
        {
          "output_type": "display_data",
          "data": {
            "text/plain": [
              "<Figure size 432x288 with 1 Axes>"
            ],
            "image/svg+xml": "<?xml version=\"1.0\" encoding=\"utf-8\" standalone=\"no\"?>\n<!DOCTYPE svg PUBLIC \"-//W3C//DTD SVG 1.1//EN\"\n  \"http://www.w3.org/Graphics/SVG/1.1/DTD/svg11.dtd\">\n<!-- Created with matplotlib (https://matplotlib.org/) -->\n<svg height=\"252.018125pt\" version=\"1.1\" viewBox=\"0 0 374.442187 252.018125\" width=\"374.442187pt\" xmlns=\"http://www.w3.org/2000/svg\" xmlns:xlink=\"http://www.w3.org/1999/xlink\">\n <defs>\n  <style type=\"text/css\">\n*{stroke-linecap:butt;stroke-linejoin:round;}\n  </style>\n </defs>\n <g id=\"figure_1\">\n  <g id=\"patch_1\">\n   <path d=\"M 0 252.018125 \nL 374.442187 252.018125 \nL 374.442187 0 \nL 0 0 \nz\n\" style=\"fill:none;\"/>\n  </g>\n  <g id=\"axes_1\">\n   <g id=\"patch_2\">\n    <path d=\"M 28.942188 228.14 \nL 363.742188 228.14 \nL 363.742188 10.7 \nL 28.942188 10.7 \nz\n\" style=\"fill:#ffffff;\"/>\n   </g>\n   <g id=\"PathCollection_1\">\n    <defs>\n     <path d=\"M 0 2.236068 \nC 0.593012 2.236068 1.161816 2.000462 1.581139 1.581139 \nC 2.000462 1.161816 2.236068 0.593012 2.236068 0 \nC 2.236068 -0.593012 2.000462 -1.161816 1.581139 -1.581139 \nC 1.161816 -2.000462 0.593012 -2.236068 0 -2.236068 \nC -0.593012 -2.236068 -1.161816 -2.000462 -1.581139 -1.581139 \nC -2.000462 -1.161816 -2.236068 -0.593012 -2.236068 0 \nC -2.236068 0.593012 -2.000462 1.161816 -1.581139 1.581139 \nC -1.161816 2.000462 -0.593012 2.236068 0 2.236068 \nz\n\" id=\"m1e9f1f5246\" style=\"stroke:#ff00ff;stroke-opacity:0.6;\"/>\n    </defs>\n    <g clip-path=\"url(#p085befb0ee)\">\n     <use style=\"fill:#ff00ff;fill-opacity:0.6;stroke:#ff00ff;stroke-opacity:0.6;\" x=\"46.378561\" xlink:href=\"#m1e9f1f5246\" y=\"176.484951\"/>\n     <use style=\"fill:#ff00ff;fill-opacity:0.6;stroke:#ff00ff;stroke-opacity:0.6;\" x=\"62.164208\" xlink:href=\"#m1e9f1f5246\" y=\"146.373861\"/>\n     <use style=\"fill:#ff00ff;fill-opacity:0.6;stroke:#ff00ff;stroke-opacity:0.6;\" x=\"77.949856\" xlink:href=\"#m1e9f1f5246\" y=\"170.766279\"/>\n     <use style=\"fill:#ff00ff;fill-opacity:0.6;stroke:#ff00ff;stroke-opacity:0.6;\" x=\"93.735494\" xlink:href=\"#m1e9f1f5246\" y=\"163.651644\"/>\n     <use style=\"fill:#ff00ff;fill-opacity:0.6;stroke:#ff00ff;stroke-opacity:0.6;\" x=\"109.521141\" xlink:href=\"#m1e9f1f5246\" y=\"144.20816\"/>\n     <use style=\"fill:#ff00ff;fill-opacity:0.6;stroke:#ff00ff;stroke-opacity:0.6;\" x=\"125.306788\" xlink:href=\"#m1e9f1f5246\" y=\"140.668236\"/>\n     <use style=\"fill:#ff00ff;fill-opacity:0.6;stroke:#ff00ff;stroke-opacity:0.6;\" x=\"141.092427\" xlink:href=\"#m1e9f1f5246\" y=\"121.546563\"/>\n     <use style=\"fill:#ff00ff;fill-opacity:0.6;stroke:#ff00ff;stroke-opacity:0.6;\" x=\"156.878074\" xlink:href=\"#m1e9f1f5246\" y=\"119.302582\"/>\n     <use style=\"fill:#ff00ff;fill-opacity:0.6;stroke:#ff00ff;stroke-opacity:0.6;\" x=\"172.663721\" xlink:href=\"#m1e9f1f5246\" y=\"136.867385\"/>\n     <use style=\"fill:#ff00ff;fill-opacity:0.6;stroke:#ff00ff;stroke-opacity:0.6;\" x=\"188.449368\" xlink:href=\"#m1e9f1f5246\" y=\"112.918544\"/>\n     <use style=\"fill:#ff00ff;fill-opacity:0.6;stroke:#ff00ff;stroke-opacity:0.6;\" x=\"204.235016\" xlink:href=\"#m1e9f1f5246\" y=\"131.787987\"/>\n     <use style=\"fill:#ff00ff;fill-opacity:0.6;stroke:#ff00ff;stroke-opacity:0.6;\" x=\"220.020654\" xlink:href=\"#m1e9f1f5246\" y=\"113.753514\"/>\n     <use style=\"fill:#ff00ff;fill-opacity:0.6;stroke:#ff00ff;stroke-opacity:0.6;\" x=\"235.806292\" xlink:href=\"#m1e9f1f5246\" y=\"106.143114\"/>\n     <use style=\"fill:#ff00ff;fill-opacity:0.6;stroke:#ff00ff;stroke-opacity:0.6;\" x=\"251.591948\" xlink:href=\"#m1e9f1f5246\" y=\"88.795749\"/>\n     <use style=\"fill:#ff00ff;fill-opacity:0.6;stroke:#ff00ff;stroke-opacity:0.6;\" x=\"267.377587\" xlink:href=\"#m1e9f1f5246\" y=\"94.705769\"/>\n     <use style=\"fill:#ff00ff;fill-opacity:0.6;stroke:#ff00ff;stroke-opacity:0.6;\" x=\"283.163243\" xlink:href=\"#m1e9f1f5246\" y=\"71.374458\"/>\n     <use style=\"fill:#ff00ff;fill-opacity:0.6;stroke:#ff00ff;stroke-opacity:0.6;\" x=\"298.948881\" xlink:href=\"#m1e9f1f5246\" y=\"99.315497\"/>\n     <use style=\"fill:#ff00ff;fill-opacity:0.6;stroke:#ff00ff;stroke-opacity:0.6;\" x=\"314.734519\" xlink:href=\"#m1e9f1f5246\" y=\"101.29855\"/>\n     <use style=\"fill:#ff00ff;fill-opacity:0.6;stroke:#ff00ff;stroke-opacity:0.6;\" x=\"330.520176\" xlink:href=\"#m1e9f1f5246\" y=\"82.794407\"/>\n     <use style=\"fill:#ff00ff;fill-opacity:0.6;stroke:#ff00ff;stroke-opacity:0.6;\" x=\"346.305814\" xlink:href=\"#m1e9f1f5246\" y=\"66.812567\"/>\n    </g>\n   </g>\n   <g id=\"PathCollection_2\">\n    <defs>\n     <path d=\"M 0 2.236068 \nC 0.593012 2.236068 1.161816 2.000462 1.581139 1.581139 \nC 2.000462 1.161816 2.236068 0.593012 2.236068 0 \nC 2.236068 -0.593012 2.000462 -1.161816 1.581139 -1.581139 \nC 1.161816 -2.000462 0.593012 -2.236068 0 -2.236068 \nC -0.593012 -2.236068 -1.161816 -2.000462 -1.581139 -1.581139 \nC -2.000462 -1.161816 -2.236068 -0.593012 -2.236068 0 \nC -2.236068 0.593012 -2.000462 1.161816 -1.581139 1.581139 \nC -1.161816 2.000462 -0.593012 2.236068 0 2.236068 \nz\n\" id=\"m613da8bad0\" style=\"stroke:#00ffff;stroke-opacity:0.6;\"/>\n    </defs>\n    <g clip-path=\"url(#p085befb0ee)\">\n     <use style=\"fill:#00ffff;fill-opacity:0.6;stroke:#00ffff;stroke-opacity:0.6;\" x=\"46.378561\" xlink:href=\"#m613da8bad0\" y=\"179.794388\"/>\n     <use style=\"fill:#00ffff;fill-opacity:0.6;stroke:#00ffff;stroke-opacity:0.6;\" x=\"62.164208\" xlink:href=\"#m613da8bad0\" y=\"158.646176\"/>\n     <use style=\"fill:#00ffff;fill-opacity:0.6;stroke:#00ffff;stroke-opacity:0.6;\" x=\"77.949856\" xlink:href=\"#m613da8bad0\" y=\"156.824028\"/>\n     <use style=\"fill:#00ffff;fill-opacity:0.6;stroke:#00ffff;stroke-opacity:0.6;\" x=\"93.735494\" xlink:href=\"#m613da8bad0\" y=\"158.420038\"/>\n     <use style=\"fill:#00ffff;fill-opacity:0.6;stroke:#00ffff;stroke-opacity:0.6;\" x=\"109.521141\" xlink:href=\"#m613da8bad0\" y=\"132.248959\"/>\n     <use style=\"fill:#00ffff;fill-opacity:0.6;stroke:#00ffff;stroke-opacity:0.6;\" x=\"125.306788\" xlink:href=\"#m613da8bad0\" y=\"163.073256\"/>\n     <use style=\"fill:#00ffff;fill-opacity:0.6;stroke:#00ffff;stroke-opacity:0.6;\" x=\"141.092427\" xlink:href=\"#m613da8bad0\" y=\"143.821117\"/>\n     <use style=\"fill:#00ffff;fill-opacity:0.6;stroke:#00ffff;stroke-opacity:0.6;\" x=\"156.878074\" xlink:href=\"#m613da8bad0\" y=\"98.028253\"/>\n     <use style=\"fill:#00ffff;fill-opacity:0.6;stroke:#00ffff;stroke-opacity:0.6;\" x=\"172.663721\" xlink:href=\"#m613da8bad0\" y=\"138.054608\"/>\n     <use style=\"fill:#00ffff;fill-opacity:0.6;stroke:#00ffff;stroke-opacity:0.6;\" x=\"188.449368\" xlink:href=\"#m613da8bad0\" y=\"121.907514\"/>\n     <use style=\"fill:#00ffff;fill-opacity:0.6;stroke:#00ffff;stroke-opacity:0.6;\" x=\"204.235016\" xlink:href=\"#m613da8bad0\" y=\"99.054569\"/>\n     <use style=\"fill:#00ffff;fill-opacity:0.6;stroke:#00ffff;stroke-opacity:0.6;\" x=\"220.020654\" xlink:href=\"#m613da8bad0\" y=\"78.910927\"/>\n     <use style=\"fill:#00ffff;fill-opacity:0.6;stroke:#00ffff;stroke-opacity:0.6;\" x=\"235.806292\" xlink:href=\"#m613da8bad0\" y=\"112.501059\"/>\n     <use style=\"fill:#00ffff;fill-opacity:0.6;stroke:#00ffff;stroke-opacity:0.6;\" x=\"251.591948\" xlink:href=\"#m613da8bad0\" y=\"102.259635\"/>\n     <use style=\"fill:#00ffff;fill-opacity:0.6;stroke:#00ffff;stroke-opacity:0.6;\" x=\"267.377587\" xlink:href=\"#m613da8bad0\" y=\"113.166425\"/>\n     <use style=\"fill:#00ffff;fill-opacity:0.6;stroke:#00ffff;stroke-opacity:0.6;\" x=\"283.163243\" xlink:href=\"#m613da8bad0\" y=\"87.769433\"/>\n     <use style=\"fill:#00ffff;fill-opacity:0.6;stroke:#00ffff;stroke-opacity:0.6;\" x=\"298.948881\" xlink:href=\"#m613da8bad0\" y=\"71.270085\"/>\n     <use style=\"fill:#00ffff;fill-opacity:0.6;stroke:#00ffff;stroke-opacity:0.6;\" x=\"314.734519\" xlink:href=\"#m613da8bad0\" y=\"90.152577\"/>\n     <use style=\"fill:#00ffff;fill-opacity:0.6;stroke:#00ffff;stroke-opacity:0.6;\" x=\"330.520176\" xlink:href=\"#m613da8bad0\" y=\"75.318821\"/>\n     <use style=\"fill:#00ffff;fill-opacity:0.6;stroke:#00ffff;stroke-opacity:0.6;\" x=\"346.305814\" xlink:href=\"#m613da8bad0\" y=\"90.339575\"/>\n    </g>\n   </g>\n   <g id=\"matplotlib.axis_1\">\n    <g id=\"xtick_1\">\n     <g id=\"line2d_1\">\n      <defs>\n       <path d=\"M 0 0 \nL 0 3.5 \n\" id=\"m9af242f70a\" style=\"stroke:#000000;stroke-width:0.8;\"/>\n      </defs>\n      <g>\n       <use style=\"stroke:#000000;stroke-width:0.8;\" x=\"46.378561\" xlink:href=\"#m9af242f70a\" y=\"228.14\"/>\n      </g>\n     </g>\n     <g id=\"text_1\">\n      <!-- −1.00 -->\n      <defs>\n       <path d=\"M 10.59375 35.5 \nL 73.1875 35.5 \nL 73.1875 27.203125 \nL 10.59375 27.203125 \nz\n\" id=\"DejaVuSans-8722\"/>\n       <path d=\"M 12.40625 8.296875 \nL 28.515625 8.296875 \nL 28.515625 63.921875 \nL 10.984375 60.40625 \nL 10.984375 69.390625 \nL 28.421875 72.90625 \nL 38.28125 72.90625 \nL 38.28125 8.296875 \nL 54.390625 8.296875 \nL 54.390625 0 \nL 12.40625 0 \nz\n\" id=\"DejaVuSans-49\"/>\n       <path d=\"M 10.6875 12.40625 \nL 21 12.40625 \nL 21 0 \nL 10.6875 0 \nz\n\" id=\"DejaVuSans-46\"/>\n       <path d=\"M 31.78125 66.40625 \nQ 24.171875 66.40625 20.328125 58.90625 \nQ 16.5 51.421875 16.5 36.375 \nQ 16.5 21.390625 20.328125 13.890625 \nQ 24.171875 6.390625 31.78125 6.390625 \nQ 39.453125 6.390625 43.28125 13.890625 \nQ 47.125 21.390625 47.125 36.375 \nQ 47.125 51.421875 43.28125 58.90625 \nQ 39.453125 66.40625 31.78125 66.40625 \nz\nM 31.78125 74.21875 \nQ 44.046875 74.21875 50.515625 64.515625 \nQ 56.984375 54.828125 56.984375 36.375 \nQ 56.984375 17.96875 50.515625 8.265625 \nQ 44.046875 -1.421875 31.78125 -1.421875 \nQ 19.53125 -1.421875 13.0625 8.265625 \nQ 6.59375 17.96875 6.59375 36.375 \nQ 6.59375 54.828125 13.0625 64.515625 \nQ 19.53125 74.21875 31.78125 74.21875 \nz\n\" id=\"DejaVuSans-48\"/>\n      </defs>\n      <g transform=\"translate(31.055905 242.738437)scale(0.1 -0.1)\">\n       <use xlink:href=\"#DejaVuSans-8722\"/>\n       <use x=\"83.789062\" xlink:href=\"#DejaVuSans-49\"/>\n       <use x=\"147.412109\" xlink:href=\"#DejaVuSans-46\"/>\n       <use x=\"179.199219\" xlink:href=\"#DejaVuSans-48\"/>\n       <use x=\"242.822266\" xlink:href=\"#DejaVuSans-48\"/>\n      </g>\n     </g>\n    </g>\n    <g id=\"xtick_2\">\n     <g id=\"line2d_2\">\n      <g>\n       <use style=\"stroke:#000000;stroke-width:0.8;\" x=\"83.869468\" xlink:href=\"#m9af242f70a\" y=\"228.14\"/>\n      </g>\n     </g>\n     <g id=\"text_2\">\n      <!-- −0.75 -->\n      <defs>\n       <path d=\"M 8.203125 72.90625 \nL 55.078125 72.90625 \nL 55.078125 68.703125 \nL 28.609375 0 \nL 18.3125 0 \nL 43.21875 64.59375 \nL 8.203125 64.59375 \nz\n\" id=\"DejaVuSans-55\"/>\n       <path d=\"M 10.796875 72.90625 \nL 49.515625 72.90625 \nL 49.515625 64.59375 \nL 19.828125 64.59375 \nL 19.828125 46.734375 \nQ 21.96875 47.46875 24.109375 47.828125 \nQ 26.265625 48.1875 28.421875 48.1875 \nQ 40.625 48.1875 47.75 41.5 \nQ 54.890625 34.8125 54.890625 23.390625 \nQ 54.890625 11.625 47.5625 5.09375 \nQ 40.234375 -1.421875 26.90625 -1.421875 \nQ 22.3125 -1.421875 17.546875 -0.640625 \nQ 12.796875 0.140625 7.71875 1.703125 \nL 7.71875 11.625 \nQ 12.109375 9.234375 16.796875 8.0625 \nQ 21.484375 6.890625 26.703125 6.890625 \nQ 35.15625 6.890625 40.078125 11.328125 \nQ 45.015625 15.765625 45.015625 23.390625 \nQ 45.015625 31 40.078125 35.4375 \nQ 35.15625 39.890625 26.703125 39.890625 \nQ 22.75 39.890625 18.8125 39.015625 \nQ 14.890625 38.140625 10.796875 36.28125 \nz\n\" id=\"DejaVuSans-53\"/>\n      </defs>\n      <g transform=\"translate(68.546811 242.738437)scale(0.1 -0.1)\">\n       <use xlink:href=\"#DejaVuSans-8722\"/>\n       <use x=\"83.789062\" xlink:href=\"#DejaVuSans-48\"/>\n       <use x=\"147.412109\" xlink:href=\"#DejaVuSans-46\"/>\n       <use x=\"179.199219\" xlink:href=\"#DejaVuSans-55\"/>\n       <use x=\"242.822266\" xlink:href=\"#DejaVuSans-53\"/>\n      </g>\n     </g>\n    </g>\n    <g id=\"xtick_3\">\n     <g id=\"line2d_3\">\n      <g>\n       <use style=\"stroke:#000000;stroke-width:0.8;\" x=\"121.360374\" xlink:href=\"#m9af242f70a\" y=\"228.14\"/>\n      </g>\n     </g>\n     <g id=\"text_3\">\n      <!-- −0.50 -->\n      <g transform=\"translate(106.037718 242.738437)scale(0.1 -0.1)\">\n       <use xlink:href=\"#DejaVuSans-8722\"/>\n       <use x=\"83.789062\" xlink:href=\"#DejaVuSans-48\"/>\n       <use x=\"147.412109\" xlink:href=\"#DejaVuSans-46\"/>\n       <use x=\"179.199219\" xlink:href=\"#DejaVuSans-53\"/>\n       <use x=\"242.822266\" xlink:href=\"#DejaVuSans-48\"/>\n      </g>\n     </g>\n    </g>\n    <g id=\"xtick_4\">\n     <g id=\"line2d_4\">\n      <g>\n       <use style=\"stroke:#000000;stroke-width:0.8;\" x=\"158.851281\" xlink:href=\"#m9af242f70a\" y=\"228.14\"/>\n      </g>\n     </g>\n     <g id=\"text_4\">\n      <!-- −0.25 -->\n      <defs>\n       <path d=\"M 19.1875 8.296875 \nL 53.609375 8.296875 \nL 53.609375 0 \nL 7.328125 0 \nL 7.328125 8.296875 \nQ 12.9375 14.109375 22.625 23.890625 \nQ 32.328125 33.6875 34.8125 36.53125 \nQ 39.546875 41.84375 41.421875 45.53125 \nQ 43.3125 49.21875 43.3125 52.78125 \nQ 43.3125 58.59375 39.234375 62.25 \nQ 35.15625 65.921875 28.609375 65.921875 \nQ 23.96875 65.921875 18.8125 64.3125 \nQ 13.671875 62.703125 7.8125 59.421875 \nL 7.8125 69.390625 \nQ 13.765625 71.78125 18.9375 73 \nQ 24.125 74.21875 28.421875 74.21875 \nQ 39.75 74.21875 46.484375 68.546875 \nQ 53.21875 62.890625 53.21875 53.421875 \nQ 53.21875 48.921875 51.53125 44.890625 \nQ 49.859375 40.875 45.40625 35.40625 \nQ 44.1875 33.984375 37.640625 27.21875 \nQ 31.109375 20.453125 19.1875 8.296875 \nz\n\" id=\"DejaVuSans-50\"/>\n      </defs>\n      <g transform=\"translate(143.528625 242.738437)scale(0.1 -0.1)\">\n       <use xlink:href=\"#DejaVuSans-8722\"/>\n       <use x=\"83.789062\" xlink:href=\"#DejaVuSans-48\"/>\n       <use x=\"147.412109\" xlink:href=\"#DejaVuSans-46\"/>\n       <use x=\"179.199219\" xlink:href=\"#DejaVuSans-50\"/>\n       <use x=\"242.822266\" xlink:href=\"#DejaVuSans-53\"/>\n      </g>\n     </g>\n    </g>\n    <g id=\"xtick_5\">\n     <g id=\"line2d_5\">\n      <g>\n       <use style=\"stroke:#000000;stroke-width:0.8;\" x=\"196.342188\" xlink:href=\"#m9af242f70a\" y=\"228.14\"/>\n      </g>\n     </g>\n     <g id=\"text_5\">\n      <!-- 0.00 -->\n      <g transform=\"translate(185.209375 242.738437)scale(0.1 -0.1)\">\n       <use xlink:href=\"#DejaVuSans-48\"/>\n       <use x=\"63.623047\" xlink:href=\"#DejaVuSans-46\"/>\n       <use x=\"95.410156\" xlink:href=\"#DejaVuSans-48\"/>\n       <use x=\"159.033203\" xlink:href=\"#DejaVuSans-48\"/>\n      </g>\n     </g>\n    </g>\n    <g id=\"xtick_6\">\n     <g id=\"line2d_6\">\n      <g>\n       <use style=\"stroke:#000000;stroke-width:0.8;\" x=\"233.833094\" xlink:href=\"#m9af242f70a\" y=\"228.14\"/>\n      </g>\n     </g>\n     <g id=\"text_6\">\n      <!-- 0.25 -->\n      <g transform=\"translate(222.700282 242.738437)scale(0.1 -0.1)\">\n       <use xlink:href=\"#DejaVuSans-48\"/>\n       <use x=\"63.623047\" xlink:href=\"#DejaVuSans-46\"/>\n       <use x=\"95.410156\" xlink:href=\"#DejaVuSans-50\"/>\n       <use x=\"159.033203\" xlink:href=\"#DejaVuSans-53\"/>\n      </g>\n     </g>\n    </g>\n    <g id=\"xtick_7\">\n     <g id=\"line2d_7\">\n      <g>\n       <use style=\"stroke:#000000;stroke-width:0.8;\" x=\"271.324001\" xlink:href=\"#m9af242f70a\" y=\"228.14\"/>\n      </g>\n     </g>\n     <g id=\"text_7\">\n      <!-- 0.50 -->\n      <g transform=\"translate(260.191188 242.738437)scale(0.1 -0.1)\">\n       <use xlink:href=\"#DejaVuSans-48\"/>\n       <use x=\"63.623047\" xlink:href=\"#DejaVuSans-46\"/>\n       <use x=\"95.410156\" xlink:href=\"#DejaVuSans-53\"/>\n       <use x=\"159.033203\" xlink:href=\"#DejaVuSans-48\"/>\n      </g>\n     </g>\n    </g>\n    <g id=\"xtick_8\">\n     <g id=\"line2d_8\">\n      <g>\n       <use style=\"stroke:#000000;stroke-width:0.8;\" x=\"308.814907\" xlink:href=\"#m9af242f70a\" y=\"228.14\"/>\n      </g>\n     </g>\n     <g id=\"text_8\">\n      <!-- 0.75 -->\n      <g transform=\"translate(297.682095 242.738437)scale(0.1 -0.1)\">\n       <use xlink:href=\"#DejaVuSans-48\"/>\n       <use x=\"63.623047\" xlink:href=\"#DejaVuSans-46\"/>\n       <use x=\"95.410156\" xlink:href=\"#DejaVuSans-55\"/>\n       <use x=\"159.033203\" xlink:href=\"#DejaVuSans-53\"/>\n      </g>\n     </g>\n    </g>\n    <g id=\"xtick_9\">\n     <g id=\"line2d_9\">\n      <g>\n       <use style=\"stroke:#000000;stroke-width:0.8;\" x=\"346.305814\" xlink:href=\"#m9af242f70a\" y=\"228.14\"/>\n      </g>\n     </g>\n     <g id=\"text_9\">\n      <!-- 1.00 -->\n      <g transform=\"translate(335.173001 242.738437)scale(0.1 -0.1)\">\n       <use xlink:href=\"#DejaVuSans-49\"/>\n       <use x=\"63.623047\" xlink:href=\"#DejaVuSans-46\"/>\n       <use x=\"95.410156\" xlink:href=\"#DejaVuSans-48\"/>\n       <use x=\"159.033203\" xlink:href=\"#DejaVuSans-48\"/>\n      </g>\n     </g>\n    </g>\n   </g>\n   <g id=\"matplotlib.axis_2\">\n    <g id=\"ytick_1\">\n     <g id=\"line2d_10\">\n      <defs>\n       <path d=\"M 0 0 \nL -3.5 0 \n\" id=\"m2b22692993\" style=\"stroke:#000000;stroke-width:0.8;\"/>\n      </defs>\n      <g>\n       <use style=\"stroke:#000000;stroke-width:0.8;\" x=\"28.942188\" xlink:href=\"#m2b22692993\" y=\"206.396\"/>\n      </g>\n     </g>\n     <g id=\"text_10\">\n      <!-- −2 -->\n      <g transform=\"translate(7.2 210.195219)scale(0.1 -0.1)\">\n       <use xlink:href=\"#DejaVuSans-8722\"/>\n       <use x=\"83.789062\" xlink:href=\"#DejaVuSans-50\"/>\n      </g>\n     </g>\n    </g>\n    <g id=\"ytick_2\">\n     <g id=\"line2d_11\">\n      <g>\n       <use style=\"stroke:#000000;stroke-width:0.8;\" x=\"28.942188\" xlink:href=\"#m2b22692993\" y=\"162.908\"/>\n      </g>\n     </g>\n     <g id=\"text_11\">\n      <!-- −1 -->\n      <g transform=\"translate(7.2 166.707219)scale(0.1 -0.1)\">\n       <use xlink:href=\"#DejaVuSans-8722\"/>\n       <use x=\"83.789062\" xlink:href=\"#DejaVuSans-49\"/>\n      </g>\n     </g>\n    </g>\n    <g id=\"ytick_3\">\n     <g id=\"line2d_12\">\n      <g>\n       <use style=\"stroke:#000000;stroke-width:0.8;\" x=\"28.942188\" xlink:href=\"#m2b22692993\" y=\"119.42\"/>\n      </g>\n     </g>\n     <g id=\"text_12\">\n      <!-- 0 -->\n      <g transform=\"translate(15.579688 123.219219)scale(0.1 -0.1)\">\n       <use xlink:href=\"#DejaVuSans-48\"/>\n      </g>\n     </g>\n    </g>\n    <g id=\"ytick_4\">\n     <g id=\"line2d_13\">\n      <g>\n       <use style=\"stroke:#000000;stroke-width:0.8;\" x=\"28.942188\" xlink:href=\"#m2b22692993\" y=\"75.932\"/>\n      </g>\n     </g>\n     <g id=\"text_13\">\n      <!-- 1 -->\n      <g transform=\"translate(15.579688 79.731219)scale(0.1 -0.1)\">\n       <use xlink:href=\"#DejaVuSans-49\"/>\n      </g>\n     </g>\n    </g>\n    <g id=\"ytick_5\">\n     <g id=\"line2d_14\">\n      <g>\n       <use style=\"stroke:#000000;stroke-width:0.8;\" x=\"28.942188\" xlink:href=\"#m2b22692993\" y=\"32.444\"/>\n      </g>\n     </g>\n     <g id=\"text_14\">\n      <!-- 2 -->\n      <g transform=\"translate(15.579688 36.243219)scale(0.1 -0.1)\">\n       <use xlink:href=\"#DejaVuSans-50\"/>\n      </g>\n     </g>\n    </g>\n   </g>\n   <g id=\"patch_3\">\n    <path d=\"M 28.942188 228.14 \nL 28.942188 10.7 \n\" style=\"fill:none;stroke:#000000;stroke-linecap:square;stroke-linejoin:miter;stroke-width:0.8;\"/>\n   </g>\n   <g id=\"patch_4\">\n    <path d=\"M 363.742188 228.14 \nL 363.742188 10.7 \n\" style=\"fill:none;stroke:#000000;stroke-linecap:square;stroke-linejoin:miter;stroke-width:0.8;\"/>\n   </g>\n   <g id=\"patch_5\">\n    <path d=\"M 28.942188 228.14 \nL 363.742188 228.14 \n\" style=\"fill:none;stroke:#000000;stroke-linecap:square;stroke-linejoin:miter;stroke-width:0.8;\"/>\n   </g>\n   <g id=\"patch_6\">\n    <path d=\"M 28.942188 10.7 \nL 363.742188 10.7 \n\" style=\"fill:none;stroke:#000000;stroke-linecap:square;stroke-linejoin:miter;stroke-width:0.8;\"/>\n   </g>\n   <g id=\"legend_1\">\n    <g id=\"patch_7\">\n     <path d=\"M 35.942188 48.05625 \nL 91.217188 48.05625 \nQ 93.217188 48.05625 93.217188 46.05625 \nL 93.217188 17.7 \nQ 93.217188 15.7 91.217188 15.7 \nL 35.942188 15.7 \nQ 33.942188 15.7 33.942188 17.7 \nL 33.942188 46.05625 \nQ 33.942188 48.05625 35.942188 48.05625 \nz\n\" style=\"fill:#ffffff;opacity:0.8;stroke:#cccccc;stroke-linejoin:miter;\"/>\n    </g>\n    <g id=\"PathCollection_3\">\n     <g>\n      <use style=\"fill:#ff00ff;fill-opacity:0.6;stroke:#ff00ff;stroke-opacity:0.6;\" x=\"47.942188\" xlink:href=\"#m1e9f1f5246\" y=\"24.673437\"/>\n     </g>\n    </g>\n    <g id=\"text_15\">\n     <!-- train -->\n     <defs>\n      <path d=\"M 18.3125 70.21875 \nL 18.3125 54.6875 \nL 36.8125 54.6875 \nL 36.8125 47.703125 \nL 18.3125 47.703125 \nL 18.3125 18.015625 \nQ 18.3125 11.328125 20.140625 9.421875 \nQ 21.96875 7.515625 27.59375 7.515625 \nL 36.8125 7.515625 \nL 36.8125 0 \nL 27.59375 0 \nQ 17.1875 0 13.234375 3.875 \nQ 9.28125 7.765625 9.28125 18.015625 \nL 9.28125 47.703125 \nL 2.6875 47.703125 \nL 2.6875 54.6875 \nL 9.28125 54.6875 \nL 9.28125 70.21875 \nz\n\" id=\"DejaVuSans-116\"/>\n      <path d=\"M 41.109375 46.296875 \nQ 39.59375 47.171875 37.8125 47.578125 \nQ 36.03125 48 33.890625 48 \nQ 26.265625 48 22.1875 43.046875 \nQ 18.109375 38.09375 18.109375 28.8125 \nL 18.109375 0 \nL 9.078125 0 \nL 9.078125 54.6875 \nL 18.109375 54.6875 \nL 18.109375 46.1875 \nQ 20.953125 51.171875 25.484375 53.578125 \nQ 30.03125 56 36.53125 56 \nQ 37.453125 56 38.578125 55.875 \nQ 39.703125 55.765625 41.0625 55.515625 \nz\n\" id=\"DejaVuSans-114\"/>\n      <path d=\"M 34.28125 27.484375 \nQ 23.390625 27.484375 19.1875 25 \nQ 14.984375 22.515625 14.984375 16.5 \nQ 14.984375 11.71875 18.140625 8.90625 \nQ 21.296875 6.109375 26.703125 6.109375 \nQ 34.1875 6.109375 38.703125 11.40625 \nQ 43.21875 16.703125 43.21875 25.484375 \nL 43.21875 27.484375 \nz\nM 52.203125 31.203125 \nL 52.203125 0 \nL 43.21875 0 \nL 43.21875 8.296875 \nQ 40.140625 3.328125 35.546875 0.953125 \nQ 30.953125 -1.421875 24.3125 -1.421875 \nQ 15.921875 -1.421875 10.953125 3.296875 \nQ 6 8.015625 6 15.921875 \nQ 6 25.140625 12.171875 29.828125 \nQ 18.359375 34.515625 30.609375 34.515625 \nL 43.21875 34.515625 \nL 43.21875 35.40625 \nQ 43.21875 41.609375 39.140625 45 \nQ 35.0625 48.390625 27.6875 48.390625 \nQ 23 48.390625 18.546875 47.265625 \nQ 14.109375 46.140625 10.015625 43.890625 \nL 10.015625 52.203125 \nQ 14.9375 54.109375 19.578125 55.046875 \nQ 24.21875 56 28.609375 56 \nQ 40.484375 56 46.34375 49.84375 \nQ 52.203125 43.703125 52.203125 31.203125 \nz\n\" id=\"DejaVuSans-97\"/>\n      <path d=\"M 9.421875 54.6875 \nL 18.40625 54.6875 \nL 18.40625 0 \nL 9.421875 0 \nz\nM 9.421875 75.984375 \nL 18.40625 75.984375 \nL 18.40625 64.59375 \nL 9.421875 64.59375 \nz\n\" id=\"DejaVuSans-105\"/>\n      <path d=\"M 54.890625 33.015625 \nL 54.890625 0 \nL 45.90625 0 \nL 45.90625 32.71875 \nQ 45.90625 40.484375 42.875 44.328125 \nQ 39.84375 48.1875 33.796875 48.1875 \nQ 26.515625 48.1875 22.3125 43.546875 \nQ 18.109375 38.921875 18.109375 30.90625 \nL 18.109375 0 \nL 9.078125 0 \nL 9.078125 54.6875 \nL 18.109375 54.6875 \nL 18.109375 46.1875 \nQ 21.34375 51.125 25.703125 53.5625 \nQ 30.078125 56 35.796875 56 \nQ 45.21875 56 50.046875 50.171875 \nQ 54.890625 44.34375 54.890625 33.015625 \nz\n\" id=\"DejaVuSans-110\"/>\n     </defs>\n     <g transform=\"translate(65.942188 27.298437)scale(0.1 -0.1)\">\n      <use xlink:href=\"#DejaVuSans-116\"/>\n      <use x=\"39.208984\" xlink:href=\"#DejaVuSans-114\"/>\n      <use x=\"80.322266\" xlink:href=\"#DejaVuSans-97\"/>\n      <use x=\"141.601562\" xlink:href=\"#DejaVuSans-105\"/>\n      <use x=\"169.384766\" xlink:href=\"#DejaVuSans-110\"/>\n     </g>\n    </g>\n    <g id=\"PathCollection_4\">\n     <g>\n      <use style=\"fill:#00ffff;fill-opacity:0.6;stroke:#00ffff;stroke-opacity:0.6;\" x=\"47.942188\" xlink:href=\"#m613da8bad0\" y=\"39.351562\"/>\n     </g>\n    </g>\n    <g id=\"text_16\">\n     <!-- test -->\n     <defs>\n      <path d=\"M 56.203125 29.59375 \nL 56.203125 25.203125 \nL 14.890625 25.203125 \nQ 15.484375 15.921875 20.484375 11.0625 \nQ 25.484375 6.203125 34.421875 6.203125 \nQ 39.59375 6.203125 44.453125 7.46875 \nQ 49.3125 8.734375 54.109375 11.28125 \nL 54.109375 2.78125 \nQ 49.265625 0.734375 44.1875 -0.34375 \nQ 39.109375 -1.421875 33.890625 -1.421875 \nQ 20.796875 -1.421875 13.15625 6.1875 \nQ 5.515625 13.8125 5.515625 26.8125 \nQ 5.515625 40.234375 12.765625 48.109375 \nQ 20.015625 56 32.328125 56 \nQ 43.359375 56 49.78125 48.890625 \nQ 56.203125 41.796875 56.203125 29.59375 \nz\nM 47.21875 32.234375 \nQ 47.125 39.59375 43.09375 43.984375 \nQ 39.0625 48.390625 32.421875 48.390625 \nQ 24.90625 48.390625 20.390625 44.140625 \nQ 15.875 39.890625 15.1875 32.171875 \nz\n\" id=\"DejaVuSans-101\"/>\n      <path d=\"M 44.28125 53.078125 \nL 44.28125 44.578125 \nQ 40.484375 46.53125 36.375 47.5 \nQ 32.28125 48.484375 27.875 48.484375 \nQ 21.1875 48.484375 17.84375 46.4375 \nQ 14.5 44.390625 14.5 40.28125 \nQ 14.5 37.15625 16.890625 35.375 \nQ 19.28125 33.59375 26.515625 31.984375 \nL 29.59375 31.296875 \nQ 39.15625 29.25 43.1875 25.515625 \nQ 47.21875 21.78125 47.21875 15.09375 \nQ 47.21875 7.46875 41.1875 3.015625 \nQ 35.15625 -1.421875 24.609375 -1.421875 \nQ 20.21875 -1.421875 15.453125 -0.5625 \nQ 10.6875 0.296875 5.421875 2 \nL 5.421875 11.28125 \nQ 10.40625 8.6875 15.234375 7.390625 \nQ 20.0625 6.109375 24.8125 6.109375 \nQ 31.15625 6.109375 34.5625 8.28125 \nQ 37.984375 10.453125 37.984375 14.40625 \nQ 37.984375 18.0625 35.515625 20.015625 \nQ 33.0625 21.96875 24.703125 23.78125 \nL 21.578125 24.515625 \nQ 13.234375 26.265625 9.515625 29.90625 \nQ 5.8125 33.546875 5.8125 39.890625 \nQ 5.8125 47.609375 11.28125 51.796875 \nQ 16.75 56 26.8125 56 \nQ 31.78125 56 36.171875 55.265625 \nQ 40.578125 54.546875 44.28125 53.078125 \nz\n\" id=\"DejaVuSans-115\"/>\n     </defs>\n     <g transform=\"translate(65.942188 41.976562)scale(0.1 -0.1)\">\n      <use xlink:href=\"#DejaVuSans-116\"/>\n      <use x=\"39.208984\" xlink:href=\"#DejaVuSans-101\"/>\n      <use x=\"100.732422\" xlink:href=\"#DejaVuSans-115\"/>\n      <use x=\"152.832031\" xlink:href=\"#DejaVuSans-116\"/>\n     </g>\n    </g>\n   </g>\n  </g>\n </g>\n <defs>\n  <clipPath id=\"p085befb0ee\">\n   <rect height=\"217.44\" width=\"334.8\" x=\"28.942188\" y=\"10.7\"/>\n  </clipPath>\n </defs>\n</svg>\n"
          },
          "metadata": {
            "tags": []
          }
        }
      ]
    },
    {
      "metadata": {
        "colab_type": "text",
        "id": "8Lwxofc5vfXO"
      },
      "cell_type": "markdown",
      "source": [
        " <b>Важно! На вход нам подается один нейрон, так как точка $x$ имеет один признак(координату), всего объектов 20. Для каждого объкта независимо от других прогнозируется его $y$, но линейное преобразование на определенном слое для каждого объекта одинаково, а веса этого слоя определяются из минимизации суммарной ошибки на $y$</b>\n",
        " \n",
        " Создадим нейронную сеть с 3 линейными слоями и в качестве нелинейности используем ReLU:"
      ]
    },
    {
      "metadata": {
        "colab_type": "code",
        "id": "Wp91h2vEvfXO",
        "outputId": "dff53bd7-0d86-43ad-f229-c3d3ceb2cfd7",
        "colab": {
          "base_uri": "https://localhost:8080/",
          "height": 136
        }
      },
      "cell_type": "code",
      "source": [
        "N_HIDDEN = 300\n",
        "torch.manual_seed(2)   \n",
        "np.random.seed(2)\n",
        "net_overfitting = torch.nn.Sequential(\n",
        "    torch.nn.Linear(1, N_HIDDEN),\n",
        "    torch.nn.ReLU(),\n",
        "    torch.nn.Linear(N_HIDDEN, N_HIDDEN),\n",
        "    torch.nn.ReLU(),\n",
        "    torch.nn.Linear(N_HIDDEN, 1),\n",
        ")\n",
        "print(net_overfitting)  # архитектура сети"
      ],
      "execution_count": 7,
      "outputs": [
        {
          "output_type": "stream",
          "text": [
            "Sequential(\n",
            "  (0): Linear(in_features=1, out_features=300, bias=True)\n",
            "  (1): ReLU()\n",
            "  (2): Linear(in_features=300, out_features=300, bias=True)\n",
            "  (3): ReLU()\n",
            "  (4): Linear(in_features=300, out_features=1, bias=True)\n",
            ")\n"
          ],
          "name": "stdout"
        }
      ]
    },
    {
      "metadata": {
        "colab_type": "text",
        "id": "ZUZm0BGevfXS"
      },
      "cell_type": "markdown",
      "source": [
        "<b>Порядок Dropout и ReLU не влияет на результат, так как неважно, выбрасывать нейрон после активации или до."
      ]
    },
    {
      "metadata": {
        "colab_type": "text",
        "id": "G_BHqEMPvfXX"
      },
      "cell_type": "markdown",
      "source": [
        "Добавим Dropout после первого и второго слоя с keep_rate=0.5, то есть удаляем нейрон с вероятностью 0.5:"
      ]
    },
    {
      "metadata": {
        "colab_type": "code",
        "id": "33jqkwV0vfXZ",
        "outputId": "bb37b423-d2f9-498e-fc78-5ca0de085172",
        "colab": {
          "base_uri": "https://localhost:8080/",
          "height": 170
        }
      },
      "cell_type": "code",
      "source": [
        "torch.manual_seed(2)   \n",
        "np.random.seed(2)\n",
        "net_dropped = torch.nn.Sequential(\n",
        "    torch.nn.Linear(1, N_HIDDEN),\n",
        "    torch.nn.ReLU(),\n",
        "    torch.nn.Dropout(0.5),\n",
        "    torch.nn.Linear(N_HIDDEN, N_HIDDEN),\n",
        "    torch.nn.ReLU(),\n",
        "    torch.nn.Dropout(0.5),\n",
        "    torch.nn.Linear(N_HIDDEN, 1),\n",
        ")\n",
        "print(net_dropped) # архитектура сети"
      ],
      "execution_count": 8,
      "outputs": [
        {
          "output_type": "stream",
          "text": [
            "Sequential(\n",
            "  (0): Linear(in_features=1, out_features=300, bias=True)\n",
            "  (1): ReLU()\n",
            "  (2): Dropout(p=0.5)\n",
            "  (3): Linear(in_features=300, out_features=300, bias=True)\n",
            "  (4): ReLU()\n",
            "  (5): Dropout(p=0.5)\n",
            "  (6): Linear(in_features=300, out_features=1, bias=True)\n",
            ")\n"
          ],
          "name": "stdout"
        }
      ]
    },
    {
      "metadata": {
        "colab_type": "text",
        "id": "jRjFbm64vfXc"
      },
      "cell_type": "markdown",
      "source": [
        "Зададим градиентный спуск каждой нейронной сети:"
      ]
    },
    {
      "metadata": {
        "colab_type": "code",
        "id": "-RNWQj4svfXd",
        "colab": {}
      },
      "cell_type": "code",
      "source": [
        "optimizer_ofit = torch.optim.Adam(net_overfitting.parameters(), lr=0.01)\n",
        "optimizer_drop = torch.optim.Adam(net_dropped.parameters(), lr=0.01)"
      ],
      "execution_count": 0,
      "outputs": []
    },
    {
      "metadata": {
        "colab_type": "text",
        "id": "pSBKuEt9vfXf"
      },
      "cell_type": "markdown",
      "source": [
        "Зададим квадратичную функцию потерь:"
      ]
    },
    {
      "metadata": {
        "colab_type": "code",
        "id": "MRbO4eUpvfXg",
        "colab": {}
      },
      "cell_type": "code",
      "source": [
        "loss_func = torch.nn.MSELoss()"
      ],
      "execution_count": 0,
      "outputs": []
    },
    {
      "metadata": {
        "id": "4S3IOoZK4ARI",
        "colab_type": "text"
      },
      "cell_type": "markdown",
      "source": [
        "### Перед выполнением это ячейки, то есть процесса обучения, две нейронные сети должны быть ещё необученными, то есть после инициализации сетей следущая ячейка должна быть запущена ровно один раз."
      ]
    },
    {
      "metadata": {
        "colab_type": "code",
        "id": "auzkAOqzvfXj",
        "scrolled": false,
        "outputId": "9ecbc4e5-e007-4ca4-b7a4-b6b7f56a2c44",
        "colab": {
          "base_uri": "https://localhost:8080/",
          "height": 1258
        }
      },
      "cell_type": "code",
      "source": [
        "# Ошибки на y и test_y\n",
        "error = []\n",
        "error_test = []\n",
        "for t in range(500):\n",
        "    # Пропустим x по нейронной сети\n",
        "    pred_ofit = net_overfitting(x)\n",
        "    pred_drop = net_dropped(x)\n",
        "    \n",
        "    loss_ofit = loss_func(pred_ofit, y)\n",
        "    loss_drop = loss_func(pred_drop, y)\n",
        "\n",
        "    # Cделаем шаг градиентного спуска\n",
        "    optimizer_ofit.zero_grad()\n",
        "    optimizer_drop.zero_grad()\n",
        "    \n",
        "    loss_ofit.backward()\n",
        "    loss_drop.backward()\n",
        "    \n",
        "    optimizer_ofit.step()\n",
        "    optimizer_drop.step()\n",
        "    \n",
        "    if t % 20 == 0:\n",
        "        # перейдем к режиму eval, чтобы учесть поправку dropout\n",
        "        net_overfitting.eval()\n",
        "        net_dropped.eval()\n",
        "\n",
        "        # plotting\n",
        "        clear_output(wait=True)\n",
        "        sleep(0.1)\n",
        "        \n",
        "         # Пропустим test_x по нейронной сети\n",
        "        test_pred_ofit = net_overfitting(test_x)\n",
        "        test_pred_drop = net_dropped(test_x)\n",
        "        \n",
        "        # Отобразим наши данные и предсказания различных нейронных сетей на тестовых данных:\n",
        "        plt.scatter(x.data.numpy(), y.data.numpy(), c='magenta', s=30, alpha=0.6, label='train')\n",
        "        plt.scatter(test_x.data.numpy(), test_y.data.numpy(), c='cyan', s=20, alpha=0.6, label='test')\n",
        "        plt.plot(test_x.data.numpy(), test_pred_ofit.data.numpy(), 'r-', lw=3, label='overfitting')\n",
        "        plt.plot(test_x.data.numpy(), test_pred_drop.data.numpy(), 'b--', lw=3, label='dropout(50%)')\n",
        "        \n",
        "        # Ошибка на y и на test_y\n",
        "        error.append((loss_func(pred_ofit, y).data.numpy(), loss_func(pred_drop, y).data.numpy()))\n",
        "        error_test.append((loss_func(test_pred_ofit, test_y).data.numpy(), loss_func(test_pred_drop, test_y).data.numpy()))\n",
        "        \n",
        "        plt.text(-0.5, -1.8, 'overfitting loss=%.4f' % error[-1][0], fontdict={'size': 20, 'color':  'red'})\n",
        "        plt.text(-0.5, -2.3, 'dropout loss=%.4f' % error[-1][1], fontdict={'size': 20, 'color': 'blue'})\n",
        "        plt.legend(loc='upper left'); plt.ylim((-2.5, 2.5))\n",
        "        plt.show()\n",
        "        \n",
        "        # вернемся к режиму train\n",
        "        net_overfitting.train()\n",
        "        net_dropped.train()\n",
        "\n",
        "# Выведим ошибки двух сетей попарно на y:\n",
        "print('overfitting loss train', 'dropout loss train')\n",
        "for i in range(len(error)):\n",
        "    print('%.4f\\t\\t\\t%.4f' % (error[i][0], error[i][1]))\n",
        "\n",
        "print()\n",
        "# Выведим ошибки двух сетей попарно на test_y:\n",
        "print('overfitting loss', '   dropout loss')\n",
        "for i in range(len(error)):\n",
        "    print('%.4f\\t\\t\\t%.4f' % (error_test[i][0], error_test[i][1]))"
      ],
      "execution_count": 11,
      "outputs": [
        {
          "output_type": "display_data",
          "data": {
            "text/plain": [
              "<Figure size 432x288 with 1 Axes>"
            ],
            "image/svg+xml": "<?xml version=\"1.0\" encoding=\"utf-8\" standalone=\"no\"?>\n<!DOCTYPE svg PUBLIC \"-//W3C//DTD SVG 1.1//EN\"\n  \"http://www.w3.org/Graphics/SVG/1.1/DTD/svg11.dtd\">\n<!-- Created with matplotlib (https://matplotlib.org/) -->\n<svg height=\"252.018125pt\" version=\"1.1\" viewBox=\"0 0 374.442187 252.018125\" width=\"374.442187pt\" xmlns=\"http://www.w3.org/2000/svg\" xmlns:xlink=\"http://www.w3.org/1999/xlink\">\n <defs>\n  <style type=\"text/css\">\n*{stroke-linecap:butt;stroke-linejoin:round;}\n  </style>\n </defs>\n <g id=\"figure_1\">\n  <g id=\"patch_1\">\n   <path d=\"M 0 252.018125 \nL 374.442187 252.018125 \nL 374.442187 0 \nL 0 0 \nz\n\" style=\"fill:none;\"/>\n  </g>\n  <g id=\"axes_1\">\n   <g id=\"patch_2\">\n    <path d=\"M 28.942188 228.14 \nL 363.742188 228.14 \nL 363.742188 10.7 \nL 28.942188 10.7 \nz\n\" style=\"fill:#ffffff;\"/>\n   </g>\n   <g id=\"PathCollection_1\">\n    <defs>\n     <path d=\"M 0 2.738613 \nC 0.726289 2.738613 1.422928 2.450055 1.936492 1.936492 \nC 2.450055 1.422928 2.738613 0.726289 2.738613 0 \nC 2.738613 -0.726289 2.450055 -1.422928 1.936492 -1.936492 \nC 1.422928 -2.450055 0.726289 -2.738613 0 -2.738613 \nC -0.726289 -2.738613 -1.422928 -2.450055 -1.936492 -1.936492 \nC -2.450055 -1.422928 -2.738613 -0.726289 -2.738613 0 \nC -2.738613 0.726289 -2.450055 1.422928 -1.936492 1.936492 \nC -1.422928 2.450055 -0.726289 2.738613 0 2.738613 \nz\n\" id=\"m302c6bb9e1\" style=\"stroke:#ff00ff;stroke-opacity:0.6;\"/>\n    </defs>\n    <g clip-path=\"url(#pb972249be8)\">\n     <use style=\"fill:#ff00ff;fill-opacity:0.6;stroke:#ff00ff;stroke-opacity:0.6;\" x=\"46.38182\" xlink:href=\"#m302c6bb9e1\" y=\"176.484951\"/>\n     <use style=\"fill:#ff00ff;fill-opacity:0.6;stroke:#ff00ff;stroke-opacity:0.6;\" x=\"62.167124\" xlink:href=\"#m302c6bb9e1\" y=\"146.373861\"/>\n     <use style=\"fill:#ff00ff;fill-opacity:0.6;stroke:#ff00ff;stroke-opacity:0.6;\" x=\"77.952429\" xlink:href=\"#m302c6bb9e1\" y=\"170.766279\"/>\n     <use style=\"fill:#ff00ff;fill-opacity:0.6;stroke:#ff00ff;stroke-opacity:0.6;\" x=\"93.737724\" xlink:href=\"#m302c6bb9e1\" y=\"163.651644\"/>\n     <use style=\"fill:#ff00ff;fill-opacity:0.6;stroke:#ff00ff;stroke-opacity:0.6;\" x=\"109.523028\" xlink:href=\"#m302c6bb9e1\" y=\"144.20816\"/>\n     <use style=\"fill:#ff00ff;fill-opacity:0.6;stroke:#ff00ff;stroke-opacity:0.6;\" x=\"125.308332\" xlink:href=\"#m302c6bb9e1\" y=\"140.668236\"/>\n     <use style=\"fill:#ff00ff;fill-opacity:0.6;stroke:#ff00ff;stroke-opacity:0.6;\" x=\"141.093627\" xlink:href=\"#m302c6bb9e1\" y=\"121.546563\"/>\n     <use style=\"fill:#ff00ff;fill-opacity:0.6;stroke:#ff00ff;stroke-opacity:0.6;\" x=\"156.878932\" xlink:href=\"#m302c6bb9e1\" y=\"119.302582\"/>\n     <use style=\"fill:#ff00ff;fill-opacity:0.6;stroke:#ff00ff;stroke-opacity:0.6;\" x=\"172.664236\" xlink:href=\"#m302c6bb9e1\" y=\"136.867385\"/>\n     <use style=\"fill:#ff00ff;fill-opacity:0.6;stroke:#ff00ff;stroke-opacity:0.6;\" x=\"188.44954\" xlink:href=\"#m302c6bb9e1\" y=\"112.918544\"/>\n     <use style=\"fill:#ff00ff;fill-opacity:0.6;stroke:#ff00ff;stroke-opacity:0.6;\" x=\"204.234844\" xlink:href=\"#m302c6bb9e1\" y=\"131.787987\"/>\n     <use style=\"fill:#ff00ff;fill-opacity:0.6;stroke:#ff00ff;stroke-opacity:0.6;\" x=\"220.020139\" xlink:href=\"#m302c6bb9e1\" y=\"113.753514\"/>\n     <use style=\"fill:#ff00ff;fill-opacity:0.6;stroke:#ff00ff;stroke-opacity:0.6;\" x=\"235.805434\" xlink:href=\"#m302c6bb9e1\" y=\"106.143114\"/>\n     <use style=\"fill:#ff00ff;fill-opacity:0.6;stroke:#ff00ff;stroke-opacity:0.6;\" x=\"251.590748\" xlink:href=\"#m302c6bb9e1\" y=\"88.795749\"/>\n     <use style=\"fill:#ff00ff;fill-opacity:0.6;stroke:#ff00ff;stroke-opacity:0.6;\" x=\"267.376043\" xlink:href=\"#m302c6bb9e1\" y=\"94.705769\"/>\n     <use style=\"fill:#ff00ff;fill-opacity:0.6;stroke:#ff00ff;stroke-opacity:0.6;\" x=\"283.161356\" xlink:href=\"#m302c6bb9e1\" y=\"71.374458\"/>\n     <use style=\"fill:#ff00ff;fill-opacity:0.6;stroke:#ff00ff;stroke-opacity:0.6;\" x=\"298.946651\" xlink:href=\"#m302c6bb9e1\" y=\"99.315497\"/>\n     <use style=\"fill:#ff00ff;fill-opacity:0.6;stroke:#ff00ff;stroke-opacity:0.6;\" x=\"314.731946\" xlink:href=\"#m302c6bb9e1\" y=\"101.29855\"/>\n     <use style=\"fill:#ff00ff;fill-opacity:0.6;stroke:#ff00ff;stroke-opacity:0.6;\" x=\"330.517259\" xlink:href=\"#m302c6bb9e1\" y=\"82.794407\"/>\n     <use style=\"fill:#ff00ff;fill-opacity:0.6;stroke:#ff00ff;stroke-opacity:0.6;\" x=\"346.302555\" xlink:href=\"#m302c6bb9e1\" y=\"66.812567\"/>\n    </g>\n   </g>\n   <g id=\"PathCollection_2\">\n    <defs>\n     <path d=\"M 0 2.236068 \nC 0.593012 2.236068 1.161816 2.000462 1.581139 1.581139 \nC 2.000462 1.161816 2.236068 0.593012 2.236068 0 \nC 2.236068 -0.593012 2.000462 -1.161816 1.581139 -1.581139 \nC 1.161816 -2.000462 0.593012 -2.236068 0 -2.236068 \nC -0.593012 -2.236068 -1.161816 -2.000462 -1.581139 -1.581139 \nC -2.000462 -1.161816 -2.236068 -0.593012 -2.236068 0 \nC -2.236068 0.593012 -2.000462 1.161816 -1.581139 1.581139 \nC -1.161816 2.000462 -0.593012 2.236068 0 2.236068 \nz\n\" id=\"mcd4f6c49a6\" style=\"stroke:#00ffff;stroke-opacity:0.6;\"/>\n    </defs>\n    <g clip-path=\"url(#pb972249be8)\">\n     <use style=\"fill:#00ffff;fill-opacity:0.6;stroke:#00ffff;stroke-opacity:0.6;\" x=\"46.38182\" xlink:href=\"#mcd4f6c49a6\" y=\"179.794388\"/>\n     <use style=\"fill:#00ffff;fill-opacity:0.6;stroke:#00ffff;stroke-opacity:0.6;\" x=\"62.167124\" xlink:href=\"#mcd4f6c49a6\" y=\"158.646176\"/>\n     <use style=\"fill:#00ffff;fill-opacity:0.6;stroke:#00ffff;stroke-opacity:0.6;\" x=\"77.952429\" xlink:href=\"#mcd4f6c49a6\" y=\"156.824028\"/>\n     <use style=\"fill:#00ffff;fill-opacity:0.6;stroke:#00ffff;stroke-opacity:0.6;\" x=\"93.737724\" xlink:href=\"#mcd4f6c49a6\" y=\"158.420038\"/>\n     <use style=\"fill:#00ffff;fill-opacity:0.6;stroke:#00ffff;stroke-opacity:0.6;\" x=\"109.523028\" xlink:href=\"#mcd4f6c49a6\" y=\"132.248959\"/>\n     <use style=\"fill:#00ffff;fill-opacity:0.6;stroke:#00ffff;stroke-opacity:0.6;\" x=\"125.308332\" xlink:href=\"#mcd4f6c49a6\" y=\"163.073256\"/>\n     <use style=\"fill:#00ffff;fill-opacity:0.6;stroke:#00ffff;stroke-opacity:0.6;\" x=\"141.093627\" xlink:href=\"#mcd4f6c49a6\" y=\"143.821117\"/>\n     <use style=\"fill:#00ffff;fill-opacity:0.6;stroke:#00ffff;stroke-opacity:0.6;\" x=\"156.878932\" xlink:href=\"#mcd4f6c49a6\" y=\"98.028253\"/>\n     <use style=\"fill:#00ffff;fill-opacity:0.6;stroke:#00ffff;stroke-opacity:0.6;\" x=\"172.664236\" xlink:href=\"#mcd4f6c49a6\" y=\"138.054608\"/>\n     <use style=\"fill:#00ffff;fill-opacity:0.6;stroke:#00ffff;stroke-opacity:0.6;\" x=\"188.44954\" xlink:href=\"#mcd4f6c49a6\" y=\"121.907514\"/>\n     <use style=\"fill:#00ffff;fill-opacity:0.6;stroke:#00ffff;stroke-opacity:0.6;\" x=\"204.234844\" xlink:href=\"#mcd4f6c49a6\" y=\"99.054569\"/>\n     <use style=\"fill:#00ffff;fill-opacity:0.6;stroke:#00ffff;stroke-opacity:0.6;\" x=\"220.020139\" xlink:href=\"#mcd4f6c49a6\" y=\"78.910927\"/>\n     <use style=\"fill:#00ffff;fill-opacity:0.6;stroke:#00ffff;stroke-opacity:0.6;\" x=\"235.805434\" xlink:href=\"#mcd4f6c49a6\" y=\"112.501059\"/>\n     <use style=\"fill:#00ffff;fill-opacity:0.6;stroke:#00ffff;stroke-opacity:0.6;\" x=\"251.590748\" xlink:href=\"#mcd4f6c49a6\" y=\"102.259635\"/>\n     <use style=\"fill:#00ffff;fill-opacity:0.6;stroke:#00ffff;stroke-opacity:0.6;\" x=\"267.376043\" xlink:href=\"#mcd4f6c49a6\" y=\"113.166425\"/>\n     <use style=\"fill:#00ffff;fill-opacity:0.6;stroke:#00ffff;stroke-opacity:0.6;\" x=\"283.161356\" xlink:href=\"#mcd4f6c49a6\" y=\"87.769433\"/>\n     <use style=\"fill:#00ffff;fill-opacity:0.6;stroke:#00ffff;stroke-opacity:0.6;\" x=\"298.946651\" xlink:href=\"#mcd4f6c49a6\" y=\"71.270085\"/>\n     <use style=\"fill:#00ffff;fill-opacity:0.6;stroke:#00ffff;stroke-opacity:0.6;\" x=\"314.731946\" xlink:href=\"#mcd4f6c49a6\" y=\"90.152577\"/>\n     <use style=\"fill:#00ffff;fill-opacity:0.6;stroke:#00ffff;stroke-opacity:0.6;\" x=\"330.517259\" xlink:href=\"#mcd4f6c49a6\" y=\"75.318821\"/>\n     <use style=\"fill:#00ffff;fill-opacity:0.6;stroke:#00ffff;stroke-opacity:0.6;\" x=\"346.302555\" xlink:href=\"#mcd4f6c49a6\" y=\"90.339575\"/>\n    </g>\n   </g>\n   <g id=\"matplotlib.axis_1\">\n    <g id=\"xtick_1\">\n     <g id=\"line2d_1\">\n      <defs>\n       <path d=\"M 0 0 \nL 0 3.5 \n\" id=\"m4de6efc610\" style=\"stroke:#000000;stroke-width:0.8;\"/>\n      </defs>\n      <g>\n       <use style=\"stroke:#000000;stroke-width:0.8;\" x=\"46.38182\" xlink:href=\"#m4de6efc610\" y=\"228.14\"/>\n      </g>\n     </g>\n     <g id=\"text_1\">\n      <!-- −1.00 -->\n      <defs>\n       <path d=\"M 10.59375 35.5 \nL 73.1875 35.5 \nL 73.1875 27.203125 \nL 10.59375 27.203125 \nz\n\" id=\"DejaVuSans-8722\"/>\n       <path d=\"M 12.40625 8.296875 \nL 28.515625 8.296875 \nL 28.515625 63.921875 \nL 10.984375 60.40625 \nL 10.984375 69.390625 \nL 28.421875 72.90625 \nL 38.28125 72.90625 \nL 38.28125 8.296875 \nL 54.390625 8.296875 \nL 54.390625 0 \nL 12.40625 0 \nz\n\" id=\"DejaVuSans-49\"/>\n       <path d=\"M 10.6875 12.40625 \nL 21 12.40625 \nL 21 0 \nL 10.6875 0 \nz\n\" id=\"DejaVuSans-46\"/>\n       <path d=\"M 31.78125 66.40625 \nQ 24.171875 66.40625 20.328125 58.90625 \nQ 16.5 51.421875 16.5 36.375 \nQ 16.5 21.390625 20.328125 13.890625 \nQ 24.171875 6.390625 31.78125 6.390625 \nQ 39.453125 6.390625 43.28125 13.890625 \nQ 47.125 21.390625 47.125 36.375 \nQ 47.125 51.421875 43.28125 58.90625 \nQ 39.453125 66.40625 31.78125 66.40625 \nz\nM 31.78125 74.21875 \nQ 44.046875 74.21875 50.515625 64.515625 \nQ 56.984375 54.828125 56.984375 36.375 \nQ 56.984375 17.96875 50.515625 8.265625 \nQ 44.046875 -1.421875 31.78125 -1.421875 \nQ 19.53125 -1.421875 13.0625 8.265625 \nQ 6.59375 17.96875 6.59375 36.375 \nQ 6.59375 54.828125 13.0625 64.515625 \nQ 19.53125 74.21875 31.78125 74.21875 \nz\n\" id=\"DejaVuSans-48\"/>\n      </defs>\n      <g transform=\"translate(31.059164 242.738437)scale(0.1 -0.1)\">\n       <use xlink:href=\"#DejaVuSans-8722\"/>\n       <use x=\"83.789062\" xlink:href=\"#DejaVuSans-49\"/>\n       <use x=\"147.412109\" xlink:href=\"#DejaVuSans-46\"/>\n       <use x=\"179.199219\" xlink:href=\"#DejaVuSans-48\"/>\n       <use x=\"242.822266\" xlink:href=\"#DejaVuSans-48\"/>\n      </g>\n     </g>\n    </g>\n    <g id=\"xtick_2\">\n     <g id=\"line2d_2\">\n      <g>\n       <use style=\"stroke:#000000;stroke-width:0.8;\" x=\"83.871912\" xlink:href=\"#m4de6efc610\" y=\"228.14\"/>\n      </g>\n     </g>\n     <g id=\"text_2\">\n      <!-- −0.75 -->\n      <defs>\n       <path d=\"M 8.203125 72.90625 \nL 55.078125 72.90625 \nL 55.078125 68.703125 \nL 28.609375 0 \nL 18.3125 0 \nL 43.21875 64.59375 \nL 8.203125 64.59375 \nz\n\" id=\"DejaVuSans-55\"/>\n       <path d=\"M 10.796875 72.90625 \nL 49.515625 72.90625 \nL 49.515625 64.59375 \nL 19.828125 64.59375 \nL 19.828125 46.734375 \nQ 21.96875 47.46875 24.109375 47.828125 \nQ 26.265625 48.1875 28.421875 48.1875 \nQ 40.625 48.1875 47.75 41.5 \nQ 54.890625 34.8125 54.890625 23.390625 \nQ 54.890625 11.625 47.5625 5.09375 \nQ 40.234375 -1.421875 26.90625 -1.421875 \nQ 22.3125 -1.421875 17.546875 -0.640625 \nQ 12.796875 0.140625 7.71875 1.703125 \nL 7.71875 11.625 \nQ 12.109375 9.234375 16.796875 8.0625 \nQ 21.484375 6.890625 26.703125 6.890625 \nQ 35.15625 6.890625 40.078125 11.328125 \nQ 45.015625 15.765625 45.015625 23.390625 \nQ 45.015625 31 40.078125 35.4375 \nQ 35.15625 39.890625 26.703125 39.890625 \nQ 22.75 39.890625 18.8125 39.015625 \nQ 14.890625 38.140625 10.796875 36.28125 \nz\n\" id=\"DejaVuSans-53\"/>\n      </defs>\n      <g transform=\"translate(68.549256 242.738437)scale(0.1 -0.1)\">\n       <use xlink:href=\"#DejaVuSans-8722\"/>\n       <use x=\"83.789062\" xlink:href=\"#DejaVuSans-48\"/>\n       <use x=\"147.412109\" xlink:href=\"#DejaVuSans-46\"/>\n       <use x=\"179.199219\" xlink:href=\"#DejaVuSans-55\"/>\n       <use x=\"242.822266\" xlink:href=\"#DejaVuSans-53\"/>\n      </g>\n     </g>\n    </g>\n    <g id=\"xtick_3\">\n     <g id=\"line2d_3\">\n      <g>\n       <use style=\"stroke:#000000;stroke-width:0.8;\" x=\"121.362004\" xlink:href=\"#m4de6efc610\" y=\"228.14\"/>\n      </g>\n     </g>\n     <g id=\"text_3\">\n      <!-- −0.50 -->\n      <g transform=\"translate(106.039348 242.738437)scale(0.1 -0.1)\">\n       <use xlink:href=\"#DejaVuSans-8722\"/>\n       <use x=\"83.789062\" xlink:href=\"#DejaVuSans-48\"/>\n       <use x=\"147.412109\" xlink:href=\"#DejaVuSans-46\"/>\n       <use x=\"179.199219\" xlink:href=\"#DejaVuSans-53\"/>\n       <use x=\"242.822266\" xlink:href=\"#DejaVuSans-48\"/>\n      </g>\n     </g>\n    </g>\n    <g id=\"xtick_4\">\n     <g id=\"line2d_4\">\n      <g>\n       <use style=\"stroke:#000000;stroke-width:0.8;\" x=\"158.852096\" xlink:href=\"#m4de6efc610\" y=\"228.14\"/>\n      </g>\n     </g>\n     <g id=\"text_4\">\n      <!-- −0.25 -->\n      <defs>\n       <path d=\"M 19.1875 8.296875 \nL 53.609375 8.296875 \nL 53.609375 0 \nL 7.328125 0 \nL 7.328125 8.296875 \nQ 12.9375 14.109375 22.625 23.890625 \nQ 32.328125 33.6875 34.8125 36.53125 \nQ 39.546875 41.84375 41.421875 45.53125 \nQ 43.3125 49.21875 43.3125 52.78125 \nQ 43.3125 58.59375 39.234375 62.25 \nQ 35.15625 65.921875 28.609375 65.921875 \nQ 23.96875 65.921875 18.8125 64.3125 \nQ 13.671875 62.703125 7.8125 59.421875 \nL 7.8125 69.390625 \nQ 13.765625 71.78125 18.9375 73 \nQ 24.125 74.21875 28.421875 74.21875 \nQ 39.75 74.21875 46.484375 68.546875 \nQ 53.21875 62.890625 53.21875 53.421875 \nQ 53.21875 48.921875 51.53125 44.890625 \nQ 49.859375 40.875 45.40625 35.40625 \nQ 44.1875 33.984375 37.640625 27.21875 \nQ 31.109375 20.453125 19.1875 8.296875 \nz\n\" id=\"DejaVuSans-50\"/>\n      </defs>\n      <g transform=\"translate(143.529439 242.738437)scale(0.1 -0.1)\">\n       <use xlink:href=\"#DejaVuSans-8722\"/>\n       <use x=\"83.789062\" xlink:href=\"#DejaVuSans-48\"/>\n       <use x=\"147.412109\" xlink:href=\"#DejaVuSans-46\"/>\n       <use x=\"179.199219\" xlink:href=\"#DejaVuSans-50\"/>\n       <use x=\"242.822266\" xlink:href=\"#DejaVuSans-53\"/>\n      </g>\n     </g>\n    </g>\n    <g id=\"xtick_5\">\n     <g id=\"line2d_5\">\n      <g>\n       <use style=\"stroke:#000000;stroke-width:0.8;\" x=\"196.342188\" xlink:href=\"#m4de6efc610\" y=\"228.14\"/>\n      </g>\n     </g>\n     <g id=\"text_5\">\n      <!-- 0.00 -->\n      <g transform=\"translate(185.209375 242.738437)scale(0.1 -0.1)\">\n       <use xlink:href=\"#DejaVuSans-48\"/>\n       <use x=\"63.623047\" xlink:href=\"#DejaVuSans-46\"/>\n       <use x=\"95.410156\" xlink:href=\"#DejaVuSans-48\"/>\n       <use x=\"159.033203\" xlink:href=\"#DejaVuSans-48\"/>\n      </g>\n     </g>\n    </g>\n    <g id=\"xtick_6\">\n     <g id=\"line2d_6\">\n      <g>\n       <use style=\"stroke:#000000;stroke-width:0.8;\" x=\"233.832279\" xlink:href=\"#m4de6efc610\" y=\"228.14\"/>\n      </g>\n     </g>\n     <g id=\"text_6\">\n      <!-- 0.25 -->\n      <g transform=\"translate(222.699467 242.738437)scale(0.1 -0.1)\">\n       <use xlink:href=\"#DejaVuSans-48\"/>\n       <use x=\"63.623047\" xlink:href=\"#DejaVuSans-46\"/>\n       <use x=\"95.410156\" xlink:href=\"#DejaVuSans-50\"/>\n       <use x=\"159.033203\" xlink:href=\"#DejaVuSans-53\"/>\n      </g>\n     </g>\n    </g>\n    <g id=\"xtick_7\">\n     <g id=\"line2d_7\">\n      <g>\n       <use style=\"stroke:#000000;stroke-width:0.8;\" x=\"271.322371\" xlink:href=\"#m4de6efc610\" y=\"228.14\"/>\n      </g>\n     </g>\n     <g id=\"text_7\">\n      <!-- 0.50 -->\n      <g transform=\"translate(260.189559 242.738437)scale(0.1 -0.1)\">\n       <use xlink:href=\"#DejaVuSans-48\"/>\n       <use x=\"63.623047\" xlink:href=\"#DejaVuSans-46\"/>\n       <use x=\"95.410156\" xlink:href=\"#DejaVuSans-53\"/>\n       <use x=\"159.033203\" xlink:href=\"#DejaVuSans-48\"/>\n      </g>\n     </g>\n    </g>\n    <g id=\"xtick_8\">\n     <g id=\"line2d_8\">\n      <g>\n       <use style=\"stroke:#000000;stroke-width:0.8;\" x=\"308.812463\" xlink:href=\"#m4de6efc610\" y=\"228.14\"/>\n      </g>\n     </g>\n     <g id=\"text_8\">\n      <!-- 0.75 -->\n      <g transform=\"translate(297.67965 242.738437)scale(0.1 -0.1)\">\n       <use xlink:href=\"#DejaVuSans-48\"/>\n       <use x=\"63.623047\" xlink:href=\"#DejaVuSans-46\"/>\n       <use x=\"95.410156\" xlink:href=\"#DejaVuSans-55\"/>\n       <use x=\"159.033203\" xlink:href=\"#DejaVuSans-53\"/>\n      </g>\n     </g>\n    </g>\n    <g id=\"xtick_9\">\n     <g id=\"line2d_9\">\n      <g>\n       <use style=\"stroke:#000000;stroke-width:0.8;\" x=\"346.302555\" xlink:href=\"#m4de6efc610\" y=\"228.14\"/>\n      </g>\n     </g>\n     <g id=\"text_9\">\n      <!-- 1.00 -->\n      <g transform=\"translate(335.169742 242.738437)scale(0.1 -0.1)\">\n       <use xlink:href=\"#DejaVuSans-49\"/>\n       <use x=\"63.623047\" xlink:href=\"#DejaVuSans-46\"/>\n       <use x=\"95.410156\" xlink:href=\"#DejaVuSans-48\"/>\n       <use x=\"159.033203\" xlink:href=\"#DejaVuSans-48\"/>\n      </g>\n     </g>\n    </g>\n   </g>\n   <g id=\"matplotlib.axis_2\">\n    <g id=\"ytick_1\">\n     <g id=\"line2d_10\">\n      <defs>\n       <path d=\"M 0 0 \nL -3.5 0 \n\" id=\"m581d580544\" style=\"stroke:#000000;stroke-width:0.8;\"/>\n      </defs>\n      <g>\n       <use style=\"stroke:#000000;stroke-width:0.8;\" x=\"28.942188\" xlink:href=\"#m581d580544\" y=\"206.396\"/>\n      </g>\n     </g>\n     <g id=\"text_10\">\n      <!-- −2 -->\n      <g transform=\"translate(7.2 210.195219)scale(0.1 -0.1)\">\n       <use xlink:href=\"#DejaVuSans-8722\"/>\n       <use x=\"83.789062\" xlink:href=\"#DejaVuSans-50\"/>\n      </g>\n     </g>\n    </g>\n    <g id=\"ytick_2\">\n     <g id=\"line2d_11\">\n      <g>\n       <use style=\"stroke:#000000;stroke-width:0.8;\" x=\"28.942188\" xlink:href=\"#m581d580544\" y=\"162.908\"/>\n      </g>\n     </g>\n     <g id=\"text_11\">\n      <!-- −1 -->\n      <g transform=\"translate(7.2 166.707219)scale(0.1 -0.1)\">\n       <use xlink:href=\"#DejaVuSans-8722\"/>\n       <use x=\"83.789062\" xlink:href=\"#DejaVuSans-49\"/>\n      </g>\n     </g>\n    </g>\n    <g id=\"ytick_3\">\n     <g id=\"line2d_12\">\n      <g>\n       <use style=\"stroke:#000000;stroke-width:0.8;\" x=\"28.942188\" xlink:href=\"#m581d580544\" y=\"119.42\"/>\n      </g>\n     </g>\n     <g id=\"text_12\">\n      <!-- 0 -->\n      <g transform=\"translate(15.579688 123.219219)scale(0.1 -0.1)\">\n       <use xlink:href=\"#DejaVuSans-48\"/>\n      </g>\n     </g>\n    </g>\n    <g id=\"ytick_4\">\n     <g id=\"line2d_13\">\n      <g>\n       <use style=\"stroke:#000000;stroke-width:0.8;\" x=\"28.942188\" xlink:href=\"#m581d580544\" y=\"75.932\"/>\n      </g>\n     </g>\n     <g id=\"text_13\">\n      <!-- 1 -->\n      <g transform=\"translate(15.579688 79.731219)scale(0.1 -0.1)\">\n       <use xlink:href=\"#DejaVuSans-49\"/>\n      </g>\n     </g>\n    </g>\n    <g id=\"ytick_5\">\n     <g id=\"line2d_14\">\n      <g>\n       <use style=\"stroke:#000000;stroke-width:0.8;\" x=\"28.942188\" xlink:href=\"#m581d580544\" y=\"32.444\"/>\n      </g>\n     </g>\n     <g id=\"text_14\">\n      <!-- 2 -->\n      <g transform=\"translate(15.579688 36.243219)scale(0.1 -0.1)\">\n       <use xlink:href=\"#DejaVuSans-50\"/>\n      </g>\n     </g>\n    </g>\n   </g>\n   <g id=\"line2d_15\">\n    <path clip-path=\"url(#pb972249be8)\" d=\"M 46.38182 171.852483 \nL 62.167124 149.278738 \nL 77.952429 164.70696 \nL 93.737724 158.885149 \nL 109.523028 146.556961 \nL 125.308332 134.987007 \nL 141.093627 120.290353 \nL 156.878932 120.179735 \nL 172.664236 124.404993 \nL 188.44954 124.706004 \nL 204.234844 124.951041 \nL 220.020139 114.128874 \nL 235.805434 102.586782 \nL 251.590748 91.067006 \nL 267.376043 83.184711 \nL 283.161356 75.025319 \nL 298.946651 93.744271 \nL 314.731946 94.900953 \nL 330.517259 77.270328 \nL 346.302555 59.626934 \n\" style=\"fill:none;stroke:#ff0000;stroke-linecap:square;stroke-width:3;\"/>\n   </g>\n   <g id=\"line2d_16\">\n    <path clip-path=\"url(#pb972249be8)\" d=\"M 46.38182 160.293108 \nL 62.167124 156.060663 \nL 77.952429 151.763792 \nL 93.737724 146.977514 \nL 109.523028 139.980181 \nL 125.308332 132.781611 \nL 141.093627 126.473714 \nL 156.878932 124.600756 \nL 172.664236 123.786622 \nL 188.44954 123.380844 \nL 204.234844 121.670063 \nL 220.020139 116.25698 \nL 235.805434 107.249818 \nL 251.590748 99.662702 \nL 267.376043 97.705713 \nL 283.161356 96.04608 \nL 298.946651 94.77439 \nL 314.731946 93.213733 \nL 330.517259 86.770593 \nL 346.302555 79.45285 \n\" style=\"fill:none;stroke:#0000ff;stroke-dasharray:11.1,4.8;stroke-dashoffset:0;stroke-width:3;\"/>\n   </g>\n   <g id=\"patch_3\">\n    <path d=\"M 28.942188 228.14 \nL 28.942188 10.7 \n\" style=\"fill:none;stroke:#000000;stroke-linecap:square;stroke-linejoin:miter;stroke-width:0.8;\"/>\n   </g>\n   <g id=\"patch_4\">\n    <path d=\"M 363.742188 228.14 \nL 363.742188 10.7 \n\" style=\"fill:none;stroke:#000000;stroke-linecap:square;stroke-linejoin:miter;stroke-width:0.8;\"/>\n   </g>\n   <g id=\"patch_5\">\n    <path d=\"M 28.942187 228.14 \nL 363.742188 228.14 \n\" style=\"fill:none;stroke:#000000;stroke-linecap:square;stroke-linejoin:miter;stroke-width:0.8;\"/>\n   </g>\n   <g id=\"patch_6\">\n    <path d=\"M 28.942187 10.7 \nL 363.742188 10.7 \n\" style=\"fill:none;stroke:#000000;stroke-linecap:square;stroke-linejoin:miter;stroke-width:0.8;\"/>\n   </g>\n   <g id=\"text_15\">\n    <!-- overfitting loss=0.0173 -->\n    <defs>\n     <path d=\"M 30.609375 48.390625 \nQ 23.390625 48.390625 19.1875 42.75 \nQ 14.984375 37.109375 14.984375 27.296875 \nQ 14.984375 17.484375 19.15625 11.84375 \nQ 23.34375 6.203125 30.609375 6.203125 \nQ 37.796875 6.203125 41.984375 11.859375 \nQ 46.1875 17.53125 46.1875 27.296875 \nQ 46.1875 37.015625 41.984375 42.703125 \nQ 37.796875 48.390625 30.609375 48.390625 \nz\nM 30.609375 56 \nQ 42.328125 56 49.015625 48.375 \nQ 55.71875 40.765625 55.71875 27.296875 \nQ 55.71875 13.875 49.015625 6.21875 \nQ 42.328125 -1.421875 30.609375 -1.421875 \nQ 18.84375 -1.421875 12.171875 6.21875 \nQ 5.515625 13.875 5.515625 27.296875 \nQ 5.515625 40.765625 12.171875 48.375 \nQ 18.84375 56 30.609375 56 \nz\n\" id=\"DejaVuSans-111\"/>\n     <path d=\"M 2.984375 54.6875 \nL 12.5 54.6875 \nL 29.59375 8.796875 \nL 46.6875 54.6875 \nL 56.203125 54.6875 \nL 35.6875 0 \nL 23.484375 0 \nz\n\" id=\"DejaVuSans-118\"/>\n     <path d=\"M 56.203125 29.59375 \nL 56.203125 25.203125 \nL 14.890625 25.203125 \nQ 15.484375 15.921875 20.484375 11.0625 \nQ 25.484375 6.203125 34.421875 6.203125 \nQ 39.59375 6.203125 44.453125 7.46875 \nQ 49.3125 8.734375 54.109375 11.28125 \nL 54.109375 2.78125 \nQ 49.265625 0.734375 44.1875 -0.34375 \nQ 39.109375 -1.421875 33.890625 -1.421875 \nQ 20.796875 -1.421875 13.15625 6.1875 \nQ 5.515625 13.8125 5.515625 26.8125 \nQ 5.515625 40.234375 12.765625 48.109375 \nQ 20.015625 56 32.328125 56 \nQ 43.359375 56 49.78125 48.890625 \nQ 56.203125 41.796875 56.203125 29.59375 \nz\nM 47.21875 32.234375 \nQ 47.125 39.59375 43.09375 43.984375 \nQ 39.0625 48.390625 32.421875 48.390625 \nQ 24.90625 48.390625 20.390625 44.140625 \nQ 15.875 39.890625 15.1875 32.171875 \nz\n\" id=\"DejaVuSans-101\"/>\n     <path d=\"M 41.109375 46.296875 \nQ 39.59375 47.171875 37.8125 47.578125 \nQ 36.03125 48 33.890625 48 \nQ 26.265625 48 22.1875 43.046875 \nQ 18.109375 38.09375 18.109375 28.8125 \nL 18.109375 0 \nL 9.078125 0 \nL 9.078125 54.6875 \nL 18.109375 54.6875 \nL 18.109375 46.1875 \nQ 20.953125 51.171875 25.484375 53.578125 \nQ 30.03125 56 36.53125 56 \nQ 37.453125 56 38.578125 55.875 \nQ 39.703125 55.765625 41.0625 55.515625 \nz\n\" id=\"DejaVuSans-114\"/>\n     <path d=\"M 37.109375 75.984375 \nL 37.109375 68.5 \nL 28.515625 68.5 \nQ 23.6875 68.5 21.796875 66.546875 \nQ 19.921875 64.59375 19.921875 59.515625 \nL 19.921875 54.6875 \nL 34.71875 54.6875 \nL 34.71875 47.703125 \nL 19.921875 47.703125 \nL 19.921875 0 \nL 10.890625 0 \nL 10.890625 47.703125 \nL 2.296875 47.703125 \nL 2.296875 54.6875 \nL 10.890625 54.6875 \nL 10.890625 58.5 \nQ 10.890625 67.625 15.140625 71.796875 \nQ 19.390625 75.984375 28.609375 75.984375 \nz\n\" id=\"DejaVuSans-102\"/>\n     <path d=\"M 9.421875 54.6875 \nL 18.40625 54.6875 \nL 18.40625 0 \nL 9.421875 0 \nz\nM 9.421875 75.984375 \nL 18.40625 75.984375 \nL 18.40625 64.59375 \nL 9.421875 64.59375 \nz\n\" id=\"DejaVuSans-105\"/>\n     <path d=\"M 18.3125 70.21875 \nL 18.3125 54.6875 \nL 36.8125 54.6875 \nL 36.8125 47.703125 \nL 18.3125 47.703125 \nL 18.3125 18.015625 \nQ 18.3125 11.328125 20.140625 9.421875 \nQ 21.96875 7.515625 27.59375 7.515625 \nL 36.8125 7.515625 \nL 36.8125 0 \nL 27.59375 0 \nQ 17.1875 0 13.234375 3.875 \nQ 9.28125 7.765625 9.28125 18.015625 \nL 9.28125 47.703125 \nL 2.6875 47.703125 \nL 2.6875 54.6875 \nL 9.28125 54.6875 \nL 9.28125 70.21875 \nz\n\" id=\"DejaVuSans-116\"/>\n     <path d=\"M 54.890625 33.015625 \nL 54.890625 0 \nL 45.90625 0 \nL 45.90625 32.71875 \nQ 45.90625 40.484375 42.875 44.328125 \nQ 39.84375 48.1875 33.796875 48.1875 \nQ 26.515625 48.1875 22.3125 43.546875 \nQ 18.109375 38.921875 18.109375 30.90625 \nL 18.109375 0 \nL 9.078125 0 \nL 9.078125 54.6875 \nL 18.109375 54.6875 \nL 18.109375 46.1875 \nQ 21.34375 51.125 25.703125 53.5625 \nQ 30.078125 56 35.796875 56 \nQ 45.21875 56 50.046875 50.171875 \nQ 54.890625 44.34375 54.890625 33.015625 \nz\n\" id=\"DejaVuSans-110\"/>\n     <path d=\"M 45.40625 27.984375 \nQ 45.40625 37.75 41.375 43.109375 \nQ 37.359375 48.484375 30.078125 48.484375 \nQ 22.859375 48.484375 18.828125 43.109375 \nQ 14.796875 37.75 14.796875 27.984375 \nQ 14.796875 18.265625 18.828125 12.890625 \nQ 22.859375 7.515625 30.078125 7.515625 \nQ 37.359375 7.515625 41.375 12.890625 \nQ 45.40625 18.265625 45.40625 27.984375 \nz\nM 54.390625 6.78125 \nQ 54.390625 -7.171875 48.1875 -13.984375 \nQ 42 -20.796875 29.203125 -20.796875 \nQ 24.46875 -20.796875 20.265625 -20.09375 \nQ 16.0625 -19.390625 12.109375 -17.921875 \nL 12.109375 -9.1875 \nQ 16.0625 -11.328125 19.921875 -12.34375 \nQ 23.78125 -13.375 27.78125 -13.375 \nQ 36.625 -13.375 41.015625 -8.765625 \nQ 45.40625 -4.15625 45.40625 5.171875 \nL 45.40625 9.625 \nQ 42.625 4.78125 38.28125 2.390625 \nQ 33.9375 0 27.875 0 \nQ 17.828125 0 11.671875 7.65625 \nQ 5.515625 15.328125 5.515625 27.984375 \nQ 5.515625 40.671875 11.671875 48.328125 \nQ 17.828125 56 27.875 56 \nQ 33.9375 56 38.28125 53.609375 \nQ 42.625 51.21875 45.40625 46.390625 \nL 45.40625 54.6875 \nL 54.390625 54.6875 \nz\n\" id=\"DejaVuSans-103\"/>\n     <path id=\"DejaVuSans-32\"/>\n     <path d=\"M 9.421875 75.984375 \nL 18.40625 75.984375 \nL 18.40625 0 \nL 9.421875 0 \nz\n\" id=\"DejaVuSans-108\"/>\n     <path d=\"M 44.28125 53.078125 \nL 44.28125 44.578125 \nQ 40.484375 46.53125 36.375 47.5 \nQ 32.28125 48.484375 27.875 48.484375 \nQ 21.1875 48.484375 17.84375 46.4375 \nQ 14.5 44.390625 14.5 40.28125 \nQ 14.5 37.15625 16.890625 35.375 \nQ 19.28125 33.59375 26.515625 31.984375 \nL 29.59375 31.296875 \nQ 39.15625 29.25 43.1875 25.515625 \nQ 47.21875 21.78125 47.21875 15.09375 \nQ 47.21875 7.46875 41.1875 3.015625 \nQ 35.15625 -1.421875 24.609375 -1.421875 \nQ 20.21875 -1.421875 15.453125 -0.5625 \nQ 10.6875 0.296875 5.421875 2 \nL 5.421875 11.28125 \nQ 10.40625 8.6875 15.234375 7.390625 \nQ 20.0625 6.109375 24.8125 6.109375 \nQ 31.15625 6.109375 34.5625 8.28125 \nQ 37.984375 10.453125 37.984375 14.40625 \nQ 37.984375 18.0625 35.515625 20.015625 \nQ 33.0625 21.96875 24.703125 23.78125 \nL 21.578125 24.515625 \nQ 13.234375 26.265625 9.515625 29.90625 \nQ 5.8125 33.546875 5.8125 39.890625 \nQ 5.8125 47.609375 11.28125 51.796875 \nQ 16.75 56 26.8125 56 \nQ 31.78125 56 36.171875 55.265625 \nQ 40.578125 54.546875 44.28125 53.078125 \nz\n\" id=\"DejaVuSans-115\"/>\n     <path d=\"M 10.59375 45.40625 \nL 73.1875 45.40625 \nL 73.1875 37.203125 \nL 10.59375 37.203125 \nz\nM 10.59375 25.484375 \nL 73.1875 25.484375 \nL 73.1875 17.1875 \nL 10.59375 17.1875 \nz\n\" id=\"DejaVuSans-61\"/>\n     <path d=\"M 40.578125 39.3125 \nQ 47.65625 37.796875 51.625 33 \nQ 55.609375 28.21875 55.609375 21.1875 \nQ 55.609375 10.40625 48.1875 4.484375 \nQ 40.765625 -1.421875 27.09375 -1.421875 \nQ 22.515625 -1.421875 17.65625 -0.515625 \nQ 12.796875 0.390625 7.625 2.203125 \nL 7.625 11.71875 \nQ 11.71875 9.328125 16.59375 8.109375 \nQ 21.484375 6.890625 26.8125 6.890625 \nQ 36.078125 6.890625 40.9375 10.546875 \nQ 45.796875 14.203125 45.796875 21.1875 \nQ 45.796875 27.640625 41.28125 31.265625 \nQ 36.765625 34.90625 28.71875 34.90625 \nL 20.21875 34.90625 \nL 20.21875 43.015625 \nL 29.109375 43.015625 \nQ 36.375 43.015625 40.234375 45.921875 \nQ 44.09375 48.828125 44.09375 54.296875 \nQ 44.09375 59.90625 40.109375 62.90625 \nQ 36.140625 65.921875 28.71875 65.921875 \nQ 24.65625 65.921875 20.015625 65.03125 \nQ 15.375 64.15625 9.8125 62.3125 \nL 9.8125 71.09375 \nQ 15.4375 72.65625 20.34375 73.4375 \nQ 25.25 74.21875 29.59375 74.21875 \nQ 40.828125 74.21875 47.359375 69.109375 \nQ 53.90625 64.015625 53.90625 55.328125 \nQ 53.90625 49.265625 50.4375 45.09375 \nQ 46.96875 40.921875 40.578125 39.3125 \nz\n\" id=\"DejaVuSans-51\"/>\n    </defs>\n    <g style=\"fill:#ff0000;\" transform=\"translate(121.362004 197.6984)scale(0.2 -0.2)\">\n     <use xlink:href=\"#DejaVuSans-111\"/>\n     <use x=\"61.181641\" xlink:href=\"#DejaVuSans-118\"/>\n     <use x=\"120.361328\" xlink:href=\"#DejaVuSans-101\"/>\n     <use x=\"181.884766\" xlink:href=\"#DejaVuSans-114\"/>\n     <use x=\"222.998047\" xlink:href=\"#DejaVuSans-102\"/>\n     <use x=\"258.203125\" xlink:href=\"#DejaVuSans-105\"/>\n     <use x=\"285.986328\" xlink:href=\"#DejaVuSans-116\"/>\n     <use x=\"325.195312\" xlink:href=\"#DejaVuSans-116\"/>\n     <use x=\"364.404297\" xlink:href=\"#DejaVuSans-105\"/>\n     <use x=\"392.1875\" xlink:href=\"#DejaVuSans-110\"/>\n     <use x=\"455.566406\" xlink:href=\"#DejaVuSans-103\"/>\n     <use x=\"519.042969\" xlink:href=\"#DejaVuSans-32\"/>\n     <use x=\"550.830078\" xlink:href=\"#DejaVuSans-108\"/>\n     <use x=\"578.613281\" xlink:href=\"#DejaVuSans-111\"/>\n     <use x=\"639.794922\" xlink:href=\"#DejaVuSans-115\"/>\n     <use x=\"691.894531\" xlink:href=\"#DejaVuSans-115\"/>\n     <use x=\"743.994141\" xlink:href=\"#DejaVuSans-61\"/>\n     <use x=\"827.783203\" xlink:href=\"#DejaVuSans-48\"/>\n     <use x=\"891.40625\" xlink:href=\"#DejaVuSans-46\"/>\n     <use x=\"923.193359\" xlink:href=\"#DejaVuSans-48\"/>\n     <use x=\"986.816406\" xlink:href=\"#DejaVuSans-49\"/>\n     <use x=\"1050.439453\" xlink:href=\"#DejaVuSans-55\"/>\n     <use x=\"1114.0625\" xlink:href=\"#DejaVuSans-51\"/>\n    </g>\n   </g>\n   <g id=\"text_16\">\n    <!-- dropout loss=0.0661 -->\n    <defs>\n     <path d=\"M 45.40625 46.390625 \nL 45.40625 75.984375 \nL 54.390625 75.984375 \nL 54.390625 0 \nL 45.40625 0 \nL 45.40625 8.203125 \nQ 42.578125 3.328125 38.25 0.953125 \nQ 33.9375 -1.421875 27.875 -1.421875 \nQ 17.96875 -1.421875 11.734375 6.484375 \nQ 5.515625 14.40625 5.515625 27.296875 \nQ 5.515625 40.1875 11.734375 48.09375 \nQ 17.96875 56 27.875 56 \nQ 33.9375 56 38.25 53.625 \nQ 42.578125 51.265625 45.40625 46.390625 \nz\nM 14.796875 27.296875 \nQ 14.796875 17.390625 18.875 11.75 \nQ 22.953125 6.109375 30.078125 6.109375 \nQ 37.203125 6.109375 41.296875 11.75 \nQ 45.40625 17.390625 45.40625 27.296875 \nQ 45.40625 37.203125 41.296875 42.84375 \nQ 37.203125 48.484375 30.078125 48.484375 \nQ 22.953125 48.484375 18.875 42.84375 \nQ 14.796875 37.203125 14.796875 27.296875 \nz\n\" id=\"DejaVuSans-100\"/>\n     <path d=\"M 18.109375 8.203125 \nL 18.109375 -20.796875 \nL 9.078125 -20.796875 \nL 9.078125 54.6875 \nL 18.109375 54.6875 \nL 18.109375 46.390625 \nQ 20.953125 51.265625 25.265625 53.625 \nQ 29.59375 56 35.59375 56 \nQ 45.5625 56 51.78125 48.09375 \nQ 58.015625 40.1875 58.015625 27.296875 \nQ 58.015625 14.40625 51.78125 6.484375 \nQ 45.5625 -1.421875 35.59375 -1.421875 \nQ 29.59375 -1.421875 25.265625 0.953125 \nQ 20.953125 3.328125 18.109375 8.203125 \nz\nM 48.6875 27.296875 \nQ 48.6875 37.203125 44.609375 42.84375 \nQ 40.53125 48.484375 33.40625 48.484375 \nQ 26.265625 48.484375 22.1875 42.84375 \nQ 18.109375 37.203125 18.109375 27.296875 \nQ 18.109375 17.390625 22.1875 11.75 \nQ 26.265625 6.109375 33.40625 6.109375 \nQ 40.53125 6.109375 44.609375 11.75 \nQ 48.6875 17.390625 48.6875 27.296875 \nz\n\" id=\"DejaVuSans-112\"/>\n     <path d=\"M 8.5 21.578125 \nL 8.5 54.6875 \nL 17.484375 54.6875 \nL 17.484375 21.921875 \nQ 17.484375 14.15625 20.5 10.265625 \nQ 23.53125 6.390625 29.59375 6.390625 \nQ 36.859375 6.390625 41.078125 11.03125 \nQ 45.3125 15.671875 45.3125 23.6875 \nL 45.3125 54.6875 \nL 54.296875 54.6875 \nL 54.296875 0 \nL 45.3125 0 \nL 45.3125 8.40625 \nQ 42.046875 3.421875 37.71875 1 \nQ 33.40625 -1.421875 27.6875 -1.421875 \nQ 18.265625 -1.421875 13.375 4.4375 \nQ 8.5 10.296875 8.5 21.578125 \nz\nM 31.109375 56 \nz\n\" id=\"DejaVuSans-117\"/>\n     <path d=\"M 33.015625 40.375 \nQ 26.375 40.375 22.484375 35.828125 \nQ 18.609375 31.296875 18.609375 23.390625 \nQ 18.609375 15.53125 22.484375 10.953125 \nQ 26.375 6.390625 33.015625 6.390625 \nQ 39.65625 6.390625 43.53125 10.953125 \nQ 47.40625 15.53125 47.40625 23.390625 \nQ 47.40625 31.296875 43.53125 35.828125 \nQ 39.65625 40.375 33.015625 40.375 \nz\nM 52.59375 71.296875 \nL 52.59375 62.3125 \nQ 48.875 64.0625 45.09375 64.984375 \nQ 41.3125 65.921875 37.59375 65.921875 \nQ 27.828125 65.921875 22.671875 59.328125 \nQ 17.53125 52.734375 16.796875 39.40625 \nQ 19.671875 43.65625 24.015625 45.921875 \nQ 28.375 48.1875 33.59375 48.1875 \nQ 44.578125 48.1875 50.953125 41.515625 \nQ 57.328125 34.859375 57.328125 23.390625 \nQ 57.328125 12.15625 50.6875 5.359375 \nQ 44.046875 -1.421875 33.015625 -1.421875 \nQ 20.359375 -1.421875 13.671875 8.265625 \nQ 6.984375 17.96875 6.984375 36.375 \nQ 6.984375 53.65625 15.1875 63.9375 \nQ 23.390625 74.21875 37.203125 74.21875 \nQ 40.921875 74.21875 44.703125 73.484375 \nQ 48.484375 72.75 52.59375 71.296875 \nz\n\" id=\"DejaVuSans-54\"/>\n    </defs>\n    <g style=\"fill:#0000ff;\" transform=\"translate(121.362004 219.4424)scale(0.2 -0.2)\">\n     <use xlink:href=\"#DejaVuSans-100\"/>\n     <use x=\"63.476562\" xlink:href=\"#DejaVuSans-114\"/>\n     <use x=\"104.558594\" xlink:href=\"#DejaVuSans-111\"/>\n     <use x=\"165.740234\" xlink:href=\"#DejaVuSans-112\"/>\n     <use x=\"229.216797\" xlink:href=\"#DejaVuSans-111\"/>\n     <use x=\"290.398438\" xlink:href=\"#DejaVuSans-117\"/>\n     <use x=\"353.777344\" xlink:href=\"#DejaVuSans-116\"/>\n     <use x=\"392.986328\" xlink:href=\"#DejaVuSans-32\"/>\n     <use x=\"424.773438\" xlink:href=\"#DejaVuSans-108\"/>\n     <use x=\"452.556641\" xlink:href=\"#DejaVuSans-111\"/>\n     <use x=\"513.738281\" xlink:href=\"#DejaVuSans-115\"/>\n     <use x=\"565.837891\" xlink:href=\"#DejaVuSans-115\"/>\n     <use x=\"617.9375\" xlink:href=\"#DejaVuSans-61\"/>\n     <use x=\"701.726562\" xlink:href=\"#DejaVuSans-48\"/>\n     <use x=\"765.349609\" xlink:href=\"#DejaVuSans-46\"/>\n     <use x=\"797.136719\" xlink:href=\"#DejaVuSans-48\"/>\n     <use x=\"860.759766\" xlink:href=\"#DejaVuSans-54\"/>\n     <use x=\"924.382812\" xlink:href=\"#DejaVuSans-54\"/>\n     <use x=\"988.005859\" xlink:href=\"#DejaVuSans-49\"/>\n    </g>\n   </g>\n   <g id=\"legend_1\">\n    <g id=\"patch_7\">\n     <path d=\"M 35.942188 77.4125 \nL 137.271875 77.4125 \nQ 139.271875 77.4125 139.271875 75.4125 \nL 139.271875 17.7 \nQ 139.271875 15.7 137.271875 15.7 \nL 35.942188 15.7 \nQ 33.942188 15.7 33.942188 17.7 \nL 33.942188 75.4125 \nQ 33.942188 77.4125 35.942188 77.4125 \nz\n\" style=\"fill:#ffffff;opacity:0.8;stroke:#cccccc;stroke-linejoin:miter;\"/>\n    </g>\n    <g id=\"line2d_17\">\n     <path d=\"M 37.942188 23.798437 \nL 57.942188 23.798437 \n\" style=\"fill:none;stroke:#ff0000;stroke-linecap:square;stroke-width:3;\"/>\n    </g>\n    <g id=\"line2d_18\"/>\n    <g id=\"text_17\">\n     <!-- overfitting -->\n     <g transform=\"translate(65.942188 27.298437)scale(0.1 -0.1)\">\n      <use xlink:href=\"#DejaVuSans-111\"/>\n      <use x=\"61.181641\" xlink:href=\"#DejaVuSans-118\"/>\n      <use x=\"120.361328\" xlink:href=\"#DejaVuSans-101\"/>\n      <use x=\"181.884766\" xlink:href=\"#DejaVuSans-114\"/>\n      <use x=\"222.998047\" xlink:href=\"#DejaVuSans-102\"/>\n      <use x=\"258.203125\" xlink:href=\"#DejaVuSans-105\"/>\n      <use x=\"285.986328\" xlink:href=\"#DejaVuSans-116\"/>\n      <use x=\"325.195312\" xlink:href=\"#DejaVuSans-116\"/>\n      <use x=\"364.404297\" xlink:href=\"#DejaVuSans-105\"/>\n      <use x=\"392.1875\" xlink:href=\"#DejaVuSans-110\"/>\n      <use x=\"455.566406\" xlink:href=\"#DejaVuSans-103\"/>\n     </g>\n    </g>\n    <g id=\"line2d_19\">\n     <path d=\"M 37.942188 38.476562 \nL 57.942188 38.476562 \n\" style=\"fill:none;stroke:#0000ff;stroke-dasharray:11.1,4.8;stroke-dashoffset:0;stroke-width:3;\"/>\n    </g>\n    <g id=\"line2d_20\"/>\n    <g id=\"text_18\">\n     <!-- dropout(50%) -->\n     <defs>\n      <path d=\"M 31 75.875 \nQ 24.46875 64.65625 21.28125 53.65625 \nQ 18.109375 42.671875 18.109375 31.390625 \nQ 18.109375 20.125 21.3125 9.0625 \nQ 24.515625 -2 31 -13.1875 \nL 23.1875 -13.1875 \nQ 15.875 -1.703125 12.234375 9.375 \nQ 8.59375 20.453125 8.59375 31.390625 \nQ 8.59375 42.28125 12.203125 53.3125 \nQ 15.828125 64.359375 23.1875 75.875 \nz\n\" id=\"DejaVuSans-40\"/>\n      <path d=\"M 72.703125 32.078125 \nQ 68.453125 32.078125 66.03125 28.46875 \nQ 63.625 24.859375 63.625 18.40625 \nQ 63.625 12.0625 66.03125 8.421875 \nQ 68.453125 4.78125 72.703125 4.78125 \nQ 76.859375 4.78125 79.265625 8.421875 \nQ 81.6875 12.0625 81.6875 18.40625 \nQ 81.6875 24.8125 79.265625 28.4375 \nQ 76.859375 32.078125 72.703125 32.078125 \nz\nM 72.703125 38.28125 \nQ 80.421875 38.28125 84.953125 32.90625 \nQ 89.5 27.546875 89.5 18.40625 \nQ 89.5 9.28125 84.9375 3.921875 \nQ 80.375 -1.421875 72.703125 -1.421875 \nQ 64.890625 -1.421875 60.34375 3.921875 \nQ 55.8125 9.28125 55.8125 18.40625 \nQ 55.8125 27.59375 60.375 32.9375 \nQ 64.9375 38.28125 72.703125 38.28125 \nz\nM 22.3125 68.015625 \nQ 18.109375 68.015625 15.6875 64.375 \nQ 13.28125 60.75 13.28125 54.390625 \nQ 13.28125 47.953125 15.671875 44.328125 \nQ 18.0625 40.71875 22.3125 40.71875 \nQ 26.5625 40.71875 28.96875 44.328125 \nQ 31.390625 47.953125 31.390625 54.390625 \nQ 31.390625 60.6875 28.953125 64.34375 \nQ 26.515625 68.015625 22.3125 68.015625 \nz\nM 66.40625 74.21875 \nL 74.21875 74.21875 \nL 28.609375 -1.421875 \nL 20.796875 -1.421875 \nz\nM 22.3125 74.21875 \nQ 30.03125 74.21875 34.609375 68.875 \nQ 39.203125 63.53125 39.203125 54.390625 \nQ 39.203125 45.171875 34.640625 39.84375 \nQ 30.078125 34.515625 22.3125 34.515625 \nQ 14.546875 34.515625 10.03125 39.859375 \nQ 5.515625 45.21875 5.515625 54.390625 \nQ 5.515625 63.484375 10.046875 68.84375 \nQ 14.59375 74.21875 22.3125 74.21875 \nz\n\" id=\"DejaVuSans-37\"/>\n      <path d=\"M 8.015625 75.875 \nL 15.828125 75.875 \nQ 23.140625 64.359375 26.78125 53.3125 \nQ 30.421875 42.28125 30.421875 31.390625 \nQ 30.421875 20.453125 26.78125 9.375 \nQ 23.140625 -1.703125 15.828125 -13.1875 \nL 8.015625 -13.1875 \nQ 14.5 -2 17.703125 9.0625 \nQ 20.90625 20.125 20.90625 31.390625 \nQ 20.90625 42.671875 17.703125 53.65625 \nQ 14.5 64.65625 8.015625 75.875 \nz\n\" id=\"DejaVuSans-41\"/>\n     </defs>\n     <g transform=\"translate(65.942188 41.976562)scale(0.1 -0.1)\">\n      <use xlink:href=\"#DejaVuSans-100\"/>\n      <use x=\"63.476562\" xlink:href=\"#DejaVuSans-114\"/>\n      <use x=\"104.558594\" xlink:href=\"#DejaVuSans-111\"/>\n      <use x=\"165.740234\" xlink:href=\"#DejaVuSans-112\"/>\n      <use x=\"229.216797\" xlink:href=\"#DejaVuSans-111\"/>\n      <use x=\"290.398438\" xlink:href=\"#DejaVuSans-117\"/>\n      <use x=\"353.777344\" xlink:href=\"#DejaVuSans-116\"/>\n      <use x=\"392.986328\" xlink:href=\"#DejaVuSans-40\"/>\n      <use x=\"432\" xlink:href=\"#DejaVuSans-53\"/>\n      <use x=\"495.623047\" xlink:href=\"#DejaVuSans-48\"/>\n      <use x=\"559.246094\" xlink:href=\"#DejaVuSans-37\"/>\n      <use x=\"654.265625\" xlink:href=\"#DejaVuSans-41\"/>\n     </g>\n    </g>\n    <g id=\"PathCollection_3\">\n     <g>\n      <use style=\"fill:#ff00ff;fill-opacity:0.6;stroke:#ff00ff;stroke-opacity:0.6;\" x=\"47.942188\" xlink:href=\"#m302c6bb9e1\" y=\"54.029687\"/>\n     </g>\n    </g>\n    <g id=\"text_19\">\n     <!-- train -->\n     <defs>\n      <path d=\"M 34.28125 27.484375 \nQ 23.390625 27.484375 19.1875 25 \nQ 14.984375 22.515625 14.984375 16.5 \nQ 14.984375 11.71875 18.140625 8.90625 \nQ 21.296875 6.109375 26.703125 6.109375 \nQ 34.1875 6.109375 38.703125 11.40625 \nQ 43.21875 16.703125 43.21875 25.484375 \nL 43.21875 27.484375 \nz\nM 52.203125 31.203125 \nL 52.203125 0 \nL 43.21875 0 \nL 43.21875 8.296875 \nQ 40.140625 3.328125 35.546875 0.953125 \nQ 30.953125 -1.421875 24.3125 -1.421875 \nQ 15.921875 -1.421875 10.953125 3.296875 \nQ 6 8.015625 6 15.921875 \nQ 6 25.140625 12.171875 29.828125 \nQ 18.359375 34.515625 30.609375 34.515625 \nL 43.21875 34.515625 \nL 43.21875 35.40625 \nQ 43.21875 41.609375 39.140625 45 \nQ 35.0625 48.390625 27.6875 48.390625 \nQ 23 48.390625 18.546875 47.265625 \nQ 14.109375 46.140625 10.015625 43.890625 \nL 10.015625 52.203125 \nQ 14.9375 54.109375 19.578125 55.046875 \nQ 24.21875 56 28.609375 56 \nQ 40.484375 56 46.34375 49.84375 \nQ 52.203125 43.703125 52.203125 31.203125 \nz\n\" id=\"DejaVuSans-97\"/>\n     </defs>\n     <g transform=\"translate(65.942188 56.654687)scale(0.1 -0.1)\">\n      <use xlink:href=\"#DejaVuSans-116\"/>\n      <use x=\"39.208984\" xlink:href=\"#DejaVuSans-114\"/>\n      <use x=\"80.322266\" xlink:href=\"#DejaVuSans-97\"/>\n      <use x=\"141.601562\" xlink:href=\"#DejaVuSans-105\"/>\n      <use x=\"169.384766\" xlink:href=\"#DejaVuSans-110\"/>\n     </g>\n    </g>\n    <g id=\"PathCollection_4\">\n     <g>\n      <use style=\"fill:#00ffff;fill-opacity:0.6;stroke:#00ffff;stroke-opacity:0.6;\" x=\"47.942188\" xlink:href=\"#mcd4f6c49a6\" y=\"68.707812\"/>\n     </g>\n    </g>\n    <g id=\"text_20\">\n     <!-- test -->\n     <g transform=\"translate(65.942188 71.332812)scale(0.1 -0.1)\">\n      <use xlink:href=\"#DejaVuSans-116\"/>\n      <use x=\"39.208984\" xlink:href=\"#DejaVuSans-101\"/>\n      <use x=\"100.732422\" xlink:href=\"#DejaVuSans-115\"/>\n      <use x=\"152.832031\" xlink:href=\"#DejaVuSans-116\"/>\n     </g>\n    </g>\n   </g>\n  </g>\n </g>\n <defs>\n  <clipPath id=\"pb972249be8\">\n   <rect height=\"217.44\" width=\"334.8\" x=\"28.942188\" y=\"10.7\"/>\n  </clipPath>\n </defs>\n</svg>\n"
          },
          "metadata": {
            "tags": []
          }
        },
        {
          "output_type": "stream",
          "text": [
            "overfitting loss train dropout loss train\n",
            "0.5510\t\t\t0.5394\n",
            "0.0742\t\t\t0.1334\n",
            "0.0653\t\t\t0.0836\n",
            "0.0587\t\t\t0.1970\n",
            "0.0546\t\t\t0.0802\n",
            "0.0511\t\t\t0.1179\n",
            "0.0474\t\t\t0.1264\n",
            "0.0430\t\t\t0.1469\n",
            "0.0385\t\t\t0.1618\n",
            "0.0346\t\t\t0.1390\n",
            "0.0321\t\t\t0.1226\n",
            "0.0303\t\t\t0.1580\n",
            "0.0291\t\t\t0.1074\n",
            "0.0276\t\t\t0.1132\n",
            "0.0288\t\t\t0.1529\n",
            "0.0265\t\t\t0.1262\n",
            "0.0243\t\t\t0.1410\n",
            "0.0232\t\t\t0.1399\n",
            "0.0232\t\t\t0.1015\n",
            "0.0220\t\t\t0.1477\n",
            "0.0196\t\t\t0.0849\n",
            "0.0241\t\t\t0.1958\n",
            "0.0193\t\t\t0.1339\n",
            "0.0172\t\t\t0.1293\n",
            "0.0173\t\t\t0.0661\n",
            "\n",
            "overfitting loss    dropout loss\n",
            "1.4536\t\t\t1.4573\n",
            "0.1336\t\t\t0.1505\n",
            "0.1132\t\t\t0.1136\n",
            "0.1191\t\t\t0.1172\n",
            "0.1230\t\t\t0.1421\n",
            "0.1279\t\t\t0.1175\n",
            "0.1337\t\t\t0.1304\n",
            "0.1398\t\t\t0.1322\n",
            "0.1491\t\t\t0.1391\n",
            "0.1589\t\t\t0.1492\n",
            "0.1677\t\t\t0.1337\n",
            "0.1727\t\t\t0.1279\n",
            "0.1757\t\t\t0.1336\n",
            "0.1774\t\t\t0.1443\n",
            "0.1837\t\t\t0.1434\n",
            "0.1813\t\t\t0.1350\n",
            "0.1824\t\t\t0.1418\n",
            "0.1778\t\t\t0.1310\n",
            "0.1853\t\t\t0.1397\n",
            "0.1816\t\t\t0.1802\n",
            "0.1774\t\t\t0.1450\n",
            "0.1851\t\t\t0.1850\n",
            "0.1866\t\t\t0.1407\n",
            "0.1857\t\t\t0.1570\n",
            "0.1881\t\t\t0.1532\n"
          ],
          "name": "stdout"
        }
      ]
    },
    {
      "metadata": {
        "colab_type": "text",
        "id": "LSBf4zXAvfXo"
      },
      "cell_type": "markdown",
      "source": [
        "# Вопросы:\n",
        "1. Какая суммарная квадратичная ошибка между $y$ и $test\\_y$? (c помощью loss_func)\n",
        "<br>Ответ: ...\n",
        "2. Сколько параметров у линейного скрытого слоя (не забудьте про свободный член b)?\n",
        "<br> Ответ: ...\n",
        "3. Какая у вас получилась ошибка $overfitting\\:loss\\:train$ в итоге (округлите до 2 знаков после запятой)?\n",
        "<br> Ответ: ...\n",
        "4. Какая у вас получилась ошибка $dropout\\:loss\\:train$ в итоге (округлите до 2 знаков после запятой)?\n",
        "<br> Ответ: ...\n",
        "5. Какая у вас получилась ошибка $overfitting\\:loss$ в итоге (округлите до 2 знаков после запятой)?\n",
        "<br> Ответ: ...\n",
        "6. Какая у вас получилась ошибка $dropout\\:loss$ в итоге (округлите до 2 знаков после запятой)?\n",
        "<br> Ответ: ...\n",
        "\n",
        "<br> Сравните 3, 4 и подумайте, почему так получилось?\n",
        "<br> Сравните 4, 5 и подумайте, почему так получилось?\n",
        "<br> Так же сравните 4, 5 с предыдущими двумя ошибками."
      ]
    },
    {
      "metadata": {
        "colab_type": "code",
        "id": "-mLHG4zsvfXp",
        "outputId": "05bcf757-3a4a-4f89-f4e0-1c637a54250e",
        "colab": {
          "base_uri": "https://localhost:8080/",
          "height": 51
        }
      },
      "cell_type": "code",
      "source": [
        "print(\"1. %.4f\" % loss_func(test_y, y).sum()), loss_func(test_y, y)"
      ],
      "execution_count": 12,
      "outputs": [
        {
          "output_type": "stream",
          "text": [
            "1. 0.1770\n"
          ],
          "name": "stdout"
        },
        {
          "output_type": "execute_result",
          "data": {
            "text/plain": [
              "(None, tensor(0.1770))"
            ]
          },
          "metadata": {
            "tags": []
          },
          "execution_count": 12
        }
      ]
    },
    {
      "metadata": {
        "id": "VVz3lt0pMvVu",
        "colab_type": "code",
        "outputId": "148990f0-2f38-4d88-a2cf-4ea1153ffd47",
        "colab": {
          "base_uri": "https://localhost:8080/",
          "height": 34
        }
      },
      "cell_type": "code",
      "source": [
        "print(\"2. 301\")"
      ],
      "execution_count": 13,
      "outputs": [
        {
          "output_type": "stream",
          "text": [
            "2. 301\n"
          ],
          "name": "stdout"
        }
      ]
    },
    {
      "metadata": {
        "id": "PgccCA8-PH_-",
        "colab_type": "code",
        "outputId": "7210a901-664e-4e04-f1d9-a38de8a44cdf",
        "colab": {
          "base_uri": "https://localhost:8080/",
          "height": 51
        }
      },
      "cell_type": "code",
      "source": [
        "print(\"3. %.2f\" %error[-1][0]), error[-1][0]"
      ],
      "execution_count": 14,
      "outputs": [
        {
          "output_type": "stream",
          "text": [
            "3. 0.02\n"
          ],
          "name": "stdout"
        },
        {
          "output_type": "execute_result",
          "data": {
            "text/plain": [
              "(None, array(0.01731448, dtype=float32))"
            ]
          },
          "metadata": {
            "tags": []
          },
          "execution_count": 14
        }
      ]
    },
    {
      "metadata": {
        "id": "5H3l-FKvPPhG",
        "colab_type": "code",
        "outputId": "e8595628-59bf-44d3-829b-a3bea178e697",
        "colab": {
          "base_uri": "https://localhost:8080/",
          "height": 51
        }
      },
      "cell_type": "code",
      "source": [
        "print(\"4. %.2f\" %error[-1][1]), error[-1][1]"
      ],
      "execution_count": 15,
      "outputs": [
        {
          "output_type": "stream",
          "text": [
            "4. 0.07\n"
          ],
          "name": "stdout"
        },
        {
          "output_type": "execute_result",
          "data": {
            "text/plain": [
              "(None, array(0.06613791, dtype=float32))"
            ]
          },
          "metadata": {
            "tags": []
          },
          "execution_count": 15
        }
      ]
    },
    {
      "metadata": {
        "id": "Ny5YSX4ePwxW",
        "colab_type": "code",
        "outputId": "d0c52baa-d799-40eb-a73f-3f3a01a41833",
        "colab": {
          "base_uri": "https://localhost:8080/",
          "height": 51
        }
      },
      "cell_type": "code",
      "source": [
        "print(\"5. %.2f\" %error_test[-1][0]), error_test[-1][0]"
      ],
      "execution_count": 16,
      "outputs": [
        {
          "output_type": "stream",
          "text": [
            "5. 0.19\n"
          ],
          "name": "stdout"
        },
        {
          "output_type": "execute_result",
          "data": {
            "text/plain": [
              "(None, array(0.18812835, dtype=float32))"
            ]
          },
          "metadata": {
            "tags": []
          },
          "execution_count": 16
        }
      ]
    },
    {
      "metadata": {
        "id": "hNQldU-TP4OW",
        "colab_type": "code",
        "outputId": "f015ef5a-5dd4-44a6-d2be-b810afd792e6",
        "colab": {
          "base_uri": "https://localhost:8080/",
          "height": 51
        }
      },
      "cell_type": "code",
      "source": [
        "print(\"6. %.2f\" %error_test[-1][1]), error_test[-1][1]"
      ],
      "execution_count": 17,
      "outputs": [
        {
          "output_type": "stream",
          "text": [
            "6. 0.15\n"
          ],
          "name": "stdout"
        },
        {
          "output_type": "execute_result",
          "data": {
            "text/plain": [
              "(None, array(0.15316112, dtype=float32))"
            ]
          },
          "metadata": {
            "tags": []
          },
          "execution_count": 17
        }
      ]
    },
    {
      "metadata": {
        "id": "WL3FJ3paP8Ff",
        "colab_type": "code",
        "colab": {}
      },
      "cell_type": "code",
      "source": [
        ""
      ],
      "execution_count": 0,
      "outputs": []
    }
  ]
}