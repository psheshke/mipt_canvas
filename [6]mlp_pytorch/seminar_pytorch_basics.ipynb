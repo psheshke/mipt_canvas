{
 "cells": [
  {
   "cell_type": "markdown",
   "metadata": {
    "colab_type": "text",
    "collapsed": true,
    "id": "PPiw8yzRYJ8r"
   },
   "source": [
    "<img src=\"https://s8.hostingkartinok.com/uploads/images/2018/08/308b49fcfbc619d629fe4604bceb67ac.jpg\" width=500,>\n",
    "<h3 style=\"text-align: center;\"><b>Физтех-Школа Прикладной математики и информатики (ФПМИ) МФТИ</b></h3>"
   ]
  },
  {
   "cell_type": "markdown",
   "metadata": {
    "colab_type": "text",
    "id": "zqPnyO9_YJ8t"
   },
   "source": [
    "---"
   ]
  },
  {
   "cell_type": "markdown",
   "metadata": {
    "colab_type": "text",
    "id": "vcnGdgw_YJ8u"
   },
   "source": [
    "<h2 style=\"text-align: center;\"><b>PyTorch. Основы: синтаксис, torch.cuda и torch.autograd</b></h2>"
   ]
  },
  {
   "cell_type": "markdown",
   "metadata": {
    "colab_type": "text",
    "id": "-Iv1eX2mYJ8v"
   },
   "source": [
    "<p style=\"align: center;\"><img src=\"https://raw.githubusercontent.com/pytorch/pytorch/master/docs/source/_static/img/pytorch-logo-dark.png\", width=400, height=300></p>"
   ]
  },
  {
   "cell_type": "markdown",
   "metadata": {
    "colab_type": "text",
    "id": "JwiKExhuYJ8w"
   },
   "source": [
    "На этом занятии мы рассмотрим основы фреймворка глубокого обучения PyTorch.  \n",
    "\n",
    "Когда хочется написать какую-нибудь нейросеть, решающую определённую задачу, будь то какая-нибудь простая классификация чего-либо или обнаружение лиц людей на видео. Всё, конечно, всегда начинается со **сбора данных**, а уже потом реализуются модели и проводятся эксперименты.  \n",
    "\n",
    "Однако люди быстро поняли, что писать свои нейронные сети каждый раз с нуля ну очень уж долго и неразумно, поэтому придумали так называемые **фреймворки** - модули, в которых есть функционал, с помощью которого можно быстро и просто решать типовые задачи, и уже с помощью этих средств писать решения к более сложным задачам."
   ]
  },
  {
   "cell_type": "markdown",
   "metadata": {
    "colab_type": "text",
    "id": "tQoex-sZYJ8x"
   },
   "source": [
    "Есть много различных фремворков глубокого обучения. Разница между ними прежде всего в том, каков общий принцип вычислений. \n",
    "Например, в **Caffe и Caffe2** вы пишете код, по сути, составляя его из готовых \"кусочков\", как в Lego, в **TensorFlow и Theano** вы сначала объявляете вычислительный граф, потом компилируете его и запускаете (sees.run()), в то время как в **Torch и PyTorch** вы пишете почти точно так же, как на NumPy, а граф вычислений создаётся только при запуске (то есть существует только во время выполнения, потом он \"разрушается\"). **Keras** позволяет как строить блоки, так и компилировать свой граф:"
   ]
  },
  {
   "cell_type": "markdown",
   "metadata": {
    "colab_type": "text",
    "id": "97MX7yrBYJ8y"
   },
   "source": [
    "<p style=\"align: center;\"><img src=\"https://habrastorage.org/web/e3e/c3e/b78/e3ec3eb78d714a7993a6b922911c0866.png\", width=500, height=500></p>  \n",
    "<p style=\"text-align: center;\"><i>Картинка взята из отличной [статьи на Хабре](https://habr.com/post/334380/)</i><p>"
   ]
  },
  {
   "cell_type": "markdown",
   "metadata": {
    "colab_type": "text",
    "id": "J74O-qdJYJ80"
   },
   "source": [
    "<h3 style=\"text-align: center;\"><b>Установка</b></h3>"
   ]
  },
  {
   "cell_type": "markdown",
   "metadata": {
    "colab_type": "text",
    "id": "WpXxZ4-4YJ83"
   },
   "source": [
    "Инструкция по установке PyTorch есть на официальном [Github'e Deep Learning School](https://github.com/deepmipt/dlschl/wiki/%D0%98%D0%BD%D1%81%D1%82%D1%80%D1%83%D0%BA%D1%86%D0%B8%D1%8F-%D0%BF%D0%BE-%D1%83%D1%81%D1%82%D0%B0%D0%BD%D0%BE%D0%B2%D0%BA%D0%B5-PyTorch)."
   ]
  },
  {
   "cell_type": "markdown",
   "metadata": {
    "colab_type": "text",
    "id": "uxdjjnqIYJ86"
   },
   "source": [
    "<h3 style=\"text-align: center;\">Синтаксис<b></b></h3>"
   ]
  },
  {
   "cell_type": "code",
   "execution_count": 2,
   "metadata": {
    "colab": {},
    "colab_type": "code",
    "id": "RtyozNmmYJ89"
   },
   "outputs": [],
   "source": [
    "import torch"
   ]
  },
  {
   "cell_type": "markdown",
   "metadata": {
    "colab_type": "text",
    "id": "zjfLQzEPYJ9B"
   },
   "source": [
    "Сначала немного фактов про PyTorch:  \n",
    "- динамический граф вычислений\n",
    "- удобные модули `torch.nn` и `torchvision для` написания нейросеток с минимальными усилиями\n",
    "- в некоторых задачах даже быстрее TensorFlow (но не во всех)  \n",
    "- легко проводить вычисления на GPU"
   ]
  },
  {
   "cell_type": "markdown",
   "metadata": {
    "colab_type": "text",
    "id": "0AL-T8TMYJ9D"
   },
   "source": [
    "Если PyTorch представить формулой, то она будет такой:  \n",
    "\n",
    "$$PyTorch = NumPy + CUDA + Autograd$$"
   ]
  },
  {
   "cell_type": "markdown",
   "metadata": {
    "colab_type": "text",
    "id": "X_O59VXWYJ9E"
   },
   "source": [
    "(CUDA - [wiki](https://ru.wikipedia.org/wiki/CUDA))"
   ]
  },
  {
   "cell_type": "markdown",
   "metadata": {
    "colab_type": "text",
    "id": "lWIeTFxSYJ9F"
   },
   "source": [
    "Посмотрим, как в PyTorch выполняются операции с векторами.  \n",
    "\n",
    "Напоминание: **тензором** называется многомерный вектор, то есть есть:  \n",
    "\n",
    "x = np.array([1,2,3]) - вектор = тензор размерности 1 (то есть (1,))  \n",
    "y = np.array([[1, 2, 3], [4, 5, 6]]) - матрица = тензор размерности 2 (в данном случае тензор (2, 3))  \n",
    "z = np.array([[[1, 2, 3], [4, 5, 6], [7, 8, 9]],  \n",
    "    [[1, 2, 3], [4, 5, 6], [7, 8, 9]],  \n",
    "              [[1, 2, 3], [4, 5, 6], [7, 8, 9]]]) - \"кубик\" (3, 3, 3) = тензор размерности 3 (в данном случае (3, 3, 3))"
   ]
  },
  {
   "cell_type": "markdown",
   "metadata": {
    "colab_type": "text",
    "id": "hS97vo7mYJ9G"
   },
   "source": [
    "Простейшим примером 3-мерного тензора является **картинка** - это \"параллелепипед\" из чисел, у коготорого три размерности - высота, ширина и количество каналов, значит это тензор размерности 3."
   ]
  },
  {
   "cell_type": "markdown",
   "metadata": {
    "colab_type": "text",
    "id": "tEeGGtRiYJ9H"
   },
   "source": [
    "Понятие тензора нужно знать потому, что в PyTorch мы оперируем переменными типа `torch.Tensor` (`FloatTensor`, `IntTensor`, `ByteTensor`), и пугаться их названий совершенно не нужно - это просто векторы, у которых несколько размерностей."
   ]
  },
  {
   "cell_type": "markdown",
   "metadata": {
    "colab_type": "text",
    "id": "byu7xZtLYJ9J"
   },
   "source": [
    "Все типы тензоров:"
   ]
  },
  {
   "cell_type": "code",
   "execution_count": 3,
   "metadata": {
    "colab": {},
    "colab_type": "code",
    "id": "lPIaCLY3YJ9K",
    "outputId": "5e988a80-4c1f-499d-c99b-e6df2f1a25be"
   },
   "outputs": [
    {
     "data": {
      "text/plain": [
       "torch.ByteTensor"
      ]
     },
     "execution_count": 3,
     "metadata": {},
     "output_type": "execute_result"
    }
   ],
   "source": [
    "torch.HalfTensor      # 16 бит, с плавающей точкой\n",
    "torch.FloatTensor     # 32 бита,  с плавающей точкой\n",
    "torch.DoubleTensor    # 64 бита, с плавающей точкой\n",
    "\n",
    "torch.ShortTensor     # 16 бит, целочисленный, знаковый\n",
    "torch.IntTensor       # 32 бита, целочисленный, знаковый\n",
    "torch.LongTensor      # 64 бита, целочисленный, знаковый\n",
    "\n",
    "torch.CharTensor      # 8 бит, целочисленный, знаковый\n",
    "torch.ByteTensor      # 8 бит, целочисленный, беззнаковый"
   ]
  },
  {
   "cell_type": "markdown",
   "metadata": {
    "colab_type": "text",
    "id": "NWk2gidNYJ9P"
   },
   "source": [
    "Мы будем использовать только `torch.FloatTensor()` и `torch.IntTensor()`. "
   ]
  },
  {
   "cell_type": "markdown",
   "metadata": {
    "colab_type": "text",
    "id": "CllyEKvVYJ9Q"
   },
   "source": [
    "Перейдём к делу:"
   ]
  },
  {
   "cell_type": "markdown",
   "metadata": {
    "colab_type": "text",
    "id": "R4HEetsxYJ9Q"
   },
   "source": [
    "* Создание тензоров:"
   ]
  },
  {
   "cell_type": "code",
   "execution_count": 4,
   "metadata": {
    "colab": {},
    "colab_type": "code",
    "id": "MVawE9lRYJ9R",
    "outputId": "9b2eaa65-1723-4e73-a379-bec4fe9a665e"
   },
   "outputs": [
    {
     "data": {
      "text/plain": [
       "tensor([1., 2.])"
      ]
     },
     "execution_count": 4,
     "metadata": {},
     "output_type": "execute_result"
    }
   ],
   "source": [
    "a = torch.FloatTensor([1, 2])\n",
    "a"
   ]
  },
  {
   "cell_type": "code",
   "execution_count": 5,
   "metadata": {
    "colab": {},
    "colab_type": "code",
    "id": "ARjaPS_GYJ9W",
    "outputId": "f6ede400-76f4-467c-8170-2b4f3f18b262"
   },
   "outputs": [
    {
     "data": {
      "text/plain": [
       "torch.Size([2])"
      ]
     },
     "execution_count": 5,
     "metadata": {},
     "output_type": "execute_result"
    }
   ],
   "source": [
    "a.shape"
   ]
  },
  {
   "cell_type": "code",
   "execution_count": 6,
   "metadata": {
    "colab": {},
    "colab_type": "code",
    "id": "4gXf0akDYJ9Z",
    "outputId": "00f41e92-4419-4f6b-da27-5a02ab8aebfc"
   },
   "outputs": [
    {
     "data": {
      "text/plain": [
       "tensor([[1., 2., 3.],\n",
       "        [4., 5., 6.]])"
      ]
     },
     "execution_count": 6,
     "metadata": {},
     "output_type": "execute_result"
    }
   ],
   "source": [
    "b = torch.FloatTensor([[1,2,3], [4,5,6]])\n",
    "b"
   ]
  },
  {
   "cell_type": "code",
   "execution_count": 7,
   "metadata": {
    "colab": {},
    "colab_type": "code",
    "id": "0HTkoIzpYJ9e",
    "outputId": "3833f329-6757-44c9-847c-95a7e848f0c5"
   },
   "outputs": [
    {
     "data": {
      "text/plain": [
       "torch.Size([2, 3])"
      ]
     },
     "execution_count": 7,
     "metadata": {},
     "output_type": "execute_result"
    }
   ],
   "source": [
    "b.shape"
   ]
  },
  {
   "cell_type": "code",
   "execution_count": 92,
   "metadata": {
    "colab": {},
    "colab_type": "code",
    "id": "WYJ9L-yFYJ9j"
   },
   "outputs": [],
   "source": [
    "x = torch.FloatTensor(2,3,4)"
   ]
  },
  {
   "cell_type": "code",
   "execution_count": 93,
   "metadata": {
    "colab": {},
    "colab_type": "code",
    "id": "qWAEP27IYJ9m",
    "outputId": "466bc5b2-d9aa-499b-b9ac-f680f5ba6cc2"
   },
   "outputs": [
    {
     "data": {
      "text/plain": [
       "tensor([[[2.7153e+36, 8.4078e-43, 8.9683e-44, 0.0000e+00],\n",
       "         [0.0000e+00, 0.0000e+00, 0.0000e+00, 0.0000e+00],\n",
       "         [0.0000e+00, 0.0000e+00, 2.6726e+23, 8.5499e+20]],\n",
       "\n",
       "        [[5.4692e-05, 1.0316e-08, 4.2891e-08, 1.7279e-04],\n",
       "         [6.5190e-10, 1.0547e-08, 2.1781e-04, 6.7655e+22],\n",
       "         [1.3541e-05, 2.1178e+23, 3.3859e-06, 6.7358e+22]]])"
      ]
     },
     "execution_count": 93,
     "metadata": {},
     "output_type": "execute_result"
    }
   ],
   "source": [
    "x"
   ]
  },
  {
   "cell_type": "code",
   "execution_count": 10,
   "metadata": {
    "colab": {},
    "colab_type": "code",
    "id": "o5CsOJ_xYJ9s",
    "outputId": "e95a7efe-61c4-425f-9c16-10ad2530bfa0",
    "scrolled": true
   },
   "outputs": [
    {
     "data": {
      "text/plain": [
       "tensor([       nan,        nan, 2.8026e-45, 0.0000e+00, 1.6647e-42, 0.0000e+00,\n",
       "        5.6052e-45, 0.0000e+00, 8.6320e-43, 0.0000e+00, 5.6052e-45, 0.0000e+00,\n",
       "        1.9058e-42, 0.0000e+00, 5.7593e-43, 0.0000e+00, 1.9282e-42, 0.0000e+00,\n",
       "        5.7593e-43, 8.4078e-43, 8.0715e-43, 0.0000e+00, 5.7593e-43, 8.4078e-43,\n",
       "        1.9562e-42, 0.0000e+00, 5.7593e-43, 8.4078e-43, 1.6703e-42, 0.0000e+00,\n",
       "        5.7593e-43, 0.0000e+00, 1.6647e-42, 0.0000e+00, 5.7593e-43, 8.4078e-43,\n",
       "        2.0459e-42, 0.0000e+00, 5.7593e-43, 8.4078e-43, 8.6320e-43, 0.0000e+00,\n",
       "        5.7593e-43, 0.0000e+00, 1.0986e-42, 0.0000e+00, 5.7593e-43, 7.1746e-43,\n",
       "        1.6647e-42, 0.0000e+00, 5.6052e-45, 8.4078e-43, 8.6320e-43, 0.0000e+00,\n",
       "        5.6052e-45, 0.0000e+00, 1.3405e+01, 4.5914e-41, 1.3405e+01, 4.5914e-41,\n",
       "        0.0000e+00, 0.0000e+00, 0.0000e+00, 0.0000e+00, 0.0000e+00, 0.0000e+00,\n",
       "        0.0000e+00, 0.0000e+00, 2.6472e+36, 8.4078e-43, 2.6472e+36, 8.4078e-43,\n",
       "        0.0000e+00, 0.0000e+00, 0.0000e+00, 0.0000e+00, 0.0000e+00, 0.0000e+00,\n",
       "        4.8548e+35, 0.0000e+00, 0.0000e+00, 0.0000e+00, 2.8026e-45, 8.4078e-43,\n",
       "        1.0844e+27, 4.5914e-41, 0.0000e+00, 0.0000e+00, 4.8702e+35, 8.4078e-43,\n",
       "        4.8702e+35, 8.4078e-43, 4.8702e+35, 8.4078e-43, 4.8702e+35, 8.4078e-43,\n",
       "        4.8702e+35, 8.4078e-43, 4.8701e+35, 8.4078e-43])"
      ]
     },
     "execution_count": 10,
     "metadata": {},
     "output_type": "execute_result"
    }
   ],
   "source": [
    "x = torch.FloatTensor(100)\n",
    "x"
   ]
  },
  {
   "cell_type": "code",
   "execution_count": 11,
   "metadata": {
    "colab": {},
    "colab_type": "code",
    "id": "uIVhvmzZYJ91",
    "outputId": "a74de636-f085-4b05-b2e8-1081062985e2"
   },
   "outputs": [
    {
     "data": {
      "text/plain": [
       "torch.Size([45, 57, 14, 2])"
      ]
     },
     "execution_count": 11,
     "metadata": {},
     "output_type": "execute_result"
    }
   ],
   "source": [
    "x = torch.IntTensor(45, 57, 14, 2)\n",
    "x.shape"
   ]
  },
  {
   "cell_type": "markdown",
   "metadata": {
    "colab_type": "text",
    "id": "cUzl8DFRYJ95"
   },
   "source": [
    "**Обратите внимание** - если вы создаёте тензор через задание размерностей (как в примере выше), то он изначально заполняюстя случайным \"мусором\". Что инициализировать нулями, нужно написать .zero_() в конце:"
   ]
  },
  {
   "cell_type": "code",
   "execution_count": 12,
   "metadata": {
    "colab": {},
    "colab_type": "code",
    "id": "QX0QcIOzYJ96",
    "outputId": "0e8f43f9-dff1-4d69-ce85-dfb8789d78da"
   },
   "outputs": [
    {
     "data": {
      "text/plain": [
       "tensor([[[   65793,    65537,    65537,    65537],\n",
       "         [16842753, 16842753, 16842753,    65537]],\n",
       "\n",
       "        [[16842753, 16842753,    65537, 16842753],\n",
       "         [16842753,    65537, 16843009,        0]],\n",
       "\n",
       "        [[       0, 16843009,        0,    65536],\n",
       "         [16842752,      257, 16843009, 16843009]]], dtype=torch.int32)"
      ]
     },
     "execution_count": 12,
     "metadata": {},
     "output_type": "execute_result"
    }
   ],
   "source": [
    "x = torch.IntTensor(3, 2, 4)\n",
    "x"
   ]
  },
  {
   "cell_type": "code",
   "execution_count": 13,
   "metadata": {
    "colab": {},
    "colab_type": "code",
    "id": "XV3w9lVwYJ-A",
    "outputId": "0cf6fea1-add6-443f-dc11-d399b589c95f"
   },
   "outputs": [
    {
     "data": {
      "text/plain": [
       "tensor([[[0, 0, 0, 0],\n",
       "         [0, 0, 0, 0]],\n",
       "\n",
       "        [[0, 0, 0, 0],\n",
       "         [0, 0, 0, 0]],\n",
       "\n",
       "        [[0, 0, 0, 0],\n",
       "         [0, 0, 0, 0]]], dtype=torch.int32)"
      ]
     },
     "execution_count": 13,
     "metadata": {},
     "output_type": "execute_result"
    }
   ],
   "source": [
    "x = torch.IntTensor(3, 2, 4).zero_()\n",
    "x"
   ]
  },
  {
   "cell_type": "markdown",
   "metadata": {
    "colab_type": "text",
    "id": "SAAmLRwzYJ-E"
   },
   "source": [
    "Аналог функции `np.reshape()` == `torch.view()`:"
   ]
  },
  {
   "cell_type": "code",
   "execution_count": 15,
   "metadata": {
    "colab": {},
    "colab_type": "code",
    "id": "ePjL3X3GYJ-H",
    "outputId": "aabd638d-80af-40f4-e1a1-78d465d2e65f"
   },
   "outputs": [
    {
     "data": {
      "text/plain": [
       "tensor([[1., 2.],\n",
       "        [3., 4.],\n",
       "        [5., 6.]])"
      ]
     },
     "execution_count": 15,
     "metadata": {},
     "output_type": "execute_result"
    }
   ],
   "source": [
    "b.view(3, 2)"
   ]
  },
  {
   "cell_type": "code",
   "execution_count": 16,
   "metadata": {
    "colab": {},
    "colab_type": "code",
    "id": "spMYG2xXYJ-L",
    "outputId": "64c72e62-3e41-4e4a-bc06-d5ffc2510039"
   },
   "outputs": [
    {
     "data": {
      "text/plain": [
       "tensor([[1., 2., 3.],\n",
       "        [4., 5., 6.]])"
      ]
     },
     "execution_count": 16,
     "metadata": {},
     "output_type": "execute_result"
    }
   ],
   "source": [
    "b"
   ]
  },
  {
   "cell_type": "markdown",
   "metadata": {
    "colab_type": "text",
    "id": "amVu0N1zYJ-O"
   },
   "source": [
    "**Обратите внимание** - torch.view() создаёт новый тензор, а не изменяет старый!"
   ]
  },
  {
   "cell_type": "code",
   "execution_count": 17,
   "metadata": {
    "colab": {},
    "colab_type": "code",
    "id": "hWqyugOSYJ-Q",
    "outputId": "ab6dce61-7e71-40c4-ab72-a47d37802b88"
   },
   "outputs": [
    {
     "data": {
      "text/plain": [
       "tensor([1., 2., 3., 4., 5., 6.])"
      ]
     },
     "execution_count": 17,
     "metadata": {},
     "output_type": "execute_result"
    }
   ],
   "source": [
    "b.view(-1)"
   ]
  },
  {
   "cell_type": "code",
   "execution_count": 18,
   "metadata": {
    "colab": {},
    "colab_type": "code",
    "id": "S9CvF56uYJ-U",
    "outputId": "e58092ee-bc2f-4b94-f430-2786c733d315"
   },
   "outputs": [
    {
     "data": {
      "text/plain": [
       "tensor([[1., 2., 3.],\n",
       "        [4., 5., 6.]])"
      ]
     },
     "execution_count": 18,
     "metadata": {},
     "output_type": "execute_result"
    }
   ],
   "source": [
    "b"
   ]
  },
  {
   "cell_type": "markdown",
   "metadata": {
    "colab_type": "text",
    "id": "t401j1E2YJ-Z"
   },
   "source": [
    "* Изменение типа тензора:"
   ]
  },
  {
   "cell_type": "code",
   "execution_count": 19,
   "metadata": {
    "colab": {},
    "colab_type": "code",
    "id": "f_iDUEH4YJ-Z"
   },
   "outputs": [],
   "source": [
    "a = torch.FloatTensor([1.5, 3.2, -7])"
   ]
  },
  {
   "cell_type": "code",
   "execution_count": 20,
   "metadata": {
    "colab": {},
    "colab_type": "code",
    "id": "EzJOrXitYJ-e",
    "outputId": "ea9cd7e1-0e34-42a2-b89d-9e27bc43fdb3"
   },
   "outputs": [
    {
     "data": {
      "text/plain": [
       "tensor([ 1,  3, -7], dtype=torch.int32)"
      ]
     },
     "execution_count": 20,
     "metadata": {},
     "output_type": "execute_result"
    }
   ],
   "source": [
    "a.type_as(torch.IntTensor())"
   ]
  },
  {
   "cell_type": "code",
   "execution_count": 21,
   "metadata": {
    "colab": {},
    "colab_type": "code",
    "id": "hAe3OWWUYJ-i",
    "outputId": "53dc463a-47eb-4531-f38b-5bdc901bf572"
   },
   "outputs": [
    {
     "data": {
      "text/plain": [
       "tensor([  1,   3, 249], dtype=torch.uint8)"
      ]
     },
     "execution_count": 21,
     "metadata": {},
     "output_type": "execute_result"
    }
   ],
   "source": [
    "a.type_as(torch.ByteTensor())"
   ]
  },
  {
   "cell_type": "markdown",
   "metadata": {
    "colab_type": "text",
    "id": "4rkatrUeYJ-n"
   },
   "source": [
    "Обратите внимание, что при `.type_as()` создаётся новый тензор (старый не меняется), то есть это не in-place операция:"
   ]
  },
  {
   "cell_type": "code",
   "execution_count": 22,
   "metadata": {
    "colab": {},
    "colab_type": "code",
    "id": "fCgDT14MYJ-o",
    "outputId": "c3828601-0218-4563-e47a-91817ffd253a"
   },
   "outputs": [
    {
     "data": {
      "text/plain": [
       "tensor([ 1.5000,  3.2000, -7.0000])"
      ]
     },
     "execution_count": 22,
     "metadata": {},
     "output_type": "execute_result"
    }
   ],
   "source": [
    "a"
   ]
  },
  {
   "cell_type": "markdown",
   "metadata": {
    "colab_type": "text",
    "id": "hG1OwtFBYJ-r"
   },
   "source": [
    "* Индексация точная такая же, как и в NumPy:"
   ]
  },
  {
   "cell_type": "code",
   "execution_count": 23,
   "metadata": {
    "colab": {},
    "colab_type": "code",
    "id": "prr0EGIYYJ-r",
    "outputId": "7228cf78-765f-483b-b4b7-ba032503e545"
   },
   "outputs": [
    {
     "data": {
      "text/plain": [
       "tensor([[100.,  20.,  35.],\n",
       "        [ 15., 163., 534.],\n",
       "        [ 52.,  90.,  66.]])"
      ]
     },
     "execution_count": 23,
     "metadata": {},
     "output_type": "execute_result"
    }
   ],
   "source": [
    "a = torch.FloatTensor([[100, 20, 35], [15, 163, 534], [52, 90, 66]])\n",
    "a"
   ]
  },
  {
   "cell_type": "code",
   "execution_count": 24,
   "metadata": {
    "colab": {},
    "colab_type": "code",
    "id": "IBq7JiccYJ-w",
    "outputId": "e0dd266d-7d63-4251-99f2-dc465746a17f"
   },
   "outputs": [
    {
     "data": {
      "text/plain": [
       "tensor(100.)"
      ]
     },
     "execution_count": 24,
     "metadata": {},
     "output_type": "execute_result"
    }
   ],
   "source": [
    "a[0, 0]"
   ]
  },
  {
   "cell_type": "code",
   "execution_count": 25,
   "metadata": {
    "colab": {},
    "colab_type": "code",
    "id": "vE9cb0XkYJ-z",
    "outputId": "057de53a-7eec-4163-da79-c9a7e02afcce"
   },
   "outputs": [
    {
     "data": {
      "text/plain": [
       "tensor(100.)"
      ]
     },
     "execution_count": 25,
     "metadata": {},
     "output_type": "execute_result"
    }
   ],
   "source": [
    "a[0][0]"
   ]
  },
  {
   "cell_type": "code",
   "execution_count": 26,
   "metadata": {
    "colab": {},
    "colab_type": "code",
    "id": "UUZzx2F_YJ-2",
    "outputId": "fc1331a9-ffb5-4861-eed1-2cae074914d2"
   },
   "outputs": [
    {
     "data": {
      "text/plain": [
       "tensor([[100.,  20.],\n",
       "        [ 15., 163.]])"
      ]
     },
     "execution_count": 26,
     "metadata": {},
     "output_type": "execute_result"
    }
   ],
   "source": [
    "a[0:2, 0:2]"
   ]
  },
  {
   "cell_type": "markdown",
   "metadata": {
    "colab_type": "text",
    "id": "ny4-Qi2wYJ-6"
   },
   "source": [
    "### Задача 1"
   ]
  },
  {
   "cell_type": "markdown",
   "metadata": {
    "colab_type": "text",
    "id": "IWxlFq0bYJ-_"
   },
   "source": [
    "1). Создайте два вещественных тензора: `a` размером (3, 4) и `b` размером (12,)   \n",
    "2). Создайте тензор `c`, являющийся тензором `b`, но размера (2, 2, 3)  \n",
    "3). Выведите первый столбец матрицы `a` с помощью индексации"
   ]
  },
  {
   "cell_type": "code",
   "execution_count": 32,
   "metadata": {
    "colab": {},
    "colab_type": "code",
    "id": "3oxZuk3yYJ_A"
   },
   "outputs": [],
   "source": [
    "# Ваш код здесь\n",
    "a = torch.FloatTensor(3,4)\n",
    "b = torch.FloatTensor(12)\n",
    "c = b.view(2,2,3)"
   ]
  },
  {
   "cell_type": "code",
   "execution_count": 33,
   "metadata": {},
   "outputs": [
    {
     "data": {
      "text/plain": [
       "tensor([[0., 0., 0., 0.],\n",
       "        [0., 0., 0., 0.],\n",
       "        [0., 0., 0., 0.]])"
      ]
     },
     "execution_count": 33,
     "metadata": {},
     "output_type": "execute_result"
    }
   ],
   "source": [
    "a"
   ]
  },
  {
   "cell_type": "code",
   "execution_count": 34,
   "metadata": {},
   "outputs": [
    {
     "data": {
      "text/plain": [
       "tensor([0., 0., 0., 0., 0., 0., 0., 0., 0., 0., 0., 0.])"
      ]
     },
     "execution_count": 34,
     "metadata": {},
     "output_type": "execute_result"
    }
   ],
   "source": [
    "b"
   ]
  },
  {
   "cell_type": "code",
   "execution_count": 35,
   "metadata": {},
   "outputs": [
    {
     "data": {
      "text/plain": [
       "tensor([[[0., 0., 0.],\n",
       "         [0., 0., 0.]],\n",
       "\n",
       "        [[0., 0., 0.],\n",
       "         [0., 0., 0.]]])"
      ]
     },
     "execution_count": 35,
     "metadata": {},
     "output_type": "execute_result"
    }
   ],
   "source": [
    "c"
   ]
  },
  {
   "cell_type": "code",
   "execution_count": 38,
   "metadata": {},
   "outputs": [
    {
     "data": {
      "text/plain": [
       "tensor([0., 0., 0.])"
      ]
     },
     "execution_count": 38,
     "metadata": {},
     "output_type": "execute_result"
    }
   ],
   "source": [
    "a[:,0]"
   ]
  },
  {
   "cell_type": "markdown",
   "metadata": {
    "colab_type": "text",
    "id": "KffQsYwWYJ_D"
   },
   "source": [
    "**Арифметика и булевы операции** работаю также, как и в NumPy, **НО** лучше использовать не опреаторы `+`, `-`, `*`, `/`, а их аналоги:  \n",
    "\n",
    "| Оператор | Аналог |\n",
    "|:-:|:-:|\n",
    "|`+`| `torch.add()` |\n",
    "|`-`| `torch.sub()` |\n",
    "|`*`| `torch.mul()` |\n",
    "|`/`| `torch.div()` |"
   ]
  },
  {
   "cell_type": "markdown",
   "metadata": {
    "colab_type": "text",
    "id": "UMpR8T11YJ_D"
   },
   "source": [
    "* Сложение:"
   ]
  },
  {
   "cell_type": "code",
   "execution_count": 39,
   "metadata": {
    "colab": {},
    "colab_type": "code",
    "id": "1XHkSjEUYJ_D"
   },
   "outputs": [],
   "source": [
    "a = torch.FloatTensor([[1, 2, 3], [10, 20, 30], [100, 200, 300]])\n",
    "b = torch.FloatTensor([[-1, -2, -3], [-10, -20, -30], [100, 200, 300]])"
   ]
  },
  {
   "cell_type": "code",
   "execution_count": 40,
   "metadata": {
    "colab": {},
    "colab_type": "code",
    "id": "td25tuFKYJ_H",
    "outputId": "441d0d2a-7fd5-4c46-b684-c18f0aeacaca"
   },
   "outputs": [
    {
     "data": {
      "text/plain": [
       "tensor([[  0.,   0.,   0.],\n",
       "        [  0.,   0.,   0.],\n",
       "        [200., 400., 600.]])"
      ]
     },
     "execution_count": 40,
     "metadata": {},
     "output_type": "execute_result"
    }
   ],
   "source": [
    "a + b"
   ]
  },
  {
   "cell_type": "markdown",
   "metadata": {
    "colab_type": "text",
    "id": "jWYjf1ENYJ_M"
   },
   "source": [
    "Лучше:"
   ]
  },
  {
   "cell_type": "code",
   "execution_count": 41,
   "metadata": {
    "colab": {},
    "colab_type": "code",
    "id": "wHka8PxFYJ_N",
    "outputId": "919e345c-1bce-45ee-d21c-097cafe07b4d"
   },
   "outputs": [
    {
     "data": {
      "text/plain": [
       "tensor([[  0.,   0.,   0.],\n",
       "        [  0.,   0.,   0.],\n",
       "        [200., 400., 600.]])"
      ]
     },
     "execution_count": 41,
     "metadata": {},
     "output_type": "execute_result"
    }
   ],
   "source": [
    "a.add(b)"
   ]
  },
  {
   "cell_type": "code",
   "execution_count": 42,
   "metadata": {
    "colab": {},
    "colab_type": "code",
    "id": "FHQj4DbBYJ_Q",
    "outputId": "a416faf0-c0e8-4514-dc0d-09295c282176"
   },
   "outputs": [
    {
     "data": {
      "text/plain": [
       "tensor([[  -1.,   -2.,   -3.],\n",
       "        [ -10.,  -20.,  -30.],\n",
       "        [-100., -200., -300.]])"
      ]
     },
     "execution_count": 42,
     "metadata": {},
     "output_type": "execute_result"
    }
   ],
   "source": [
    "b = -a\n",
    "b"
   ]
  },
  {
   "cell_type": "code",
   "execution_count": 43,
   "metadata": {
    "colab": {},
    "colab_type": "code",
    "id": "xLCDzO7iYJ_V",
    "outputId": "6d3a65f0-17a1-46a6-f402-3b18d9fe05eb"
   },
   "outputs": [
    {
     "data": {
      "text/plain": [
       "tensor([[0., 0., 0.],\n",
       "        [0., 0., 0.],\n",
       "        [0., 0., 0.]])"
      ]
     },
     "execution_count": 43,
     "metadata": {},
     "output_type": "execute_result"
    }
   ],
   "source": [
    "a + b"
   ]
  },
  {
   "cell_type": "markdown",
   "metadata": {
    "colab_type": "text",
    "id": "z_3gVLY3YJ_Z"
   },
   "source": [
    "* Вычитание:"
   ]
  },
  {
   "cell_type": "code",
   "execution_count": 44,
   "metadata": {
    "colab": {},
    "colab_type": "code",
    "id": "PANHq3eFYJ_a",
    "outputId": "c21fba72-6779-4cde-ab74-8fe8d0ec5438"
   },
   "outputs": [
    {
     "data": {
      "text/plain": [
       "tensor([[  2.,   4.,   6.],\n",
       "        [ 20.,  40.,  60.],\n",
       "        [200., 400., 600.]])"
      ]
     },
     "execution_count": 44,
     "metadata": {},
     "output_type": "execute_result"
    }
   ],
   "source": [
    "a - b"
   ]
  },
  {
   "cell_type": "markdown",
   "metadata": {
    "colab_type": "text",
    "id": "tPL1W8ajYJ_i"
   },
   "source": [
    "Лучше:"
   ]
  },
  {
   "cell_type": "code",
   "execution_count": 45,
   "metadata": {
    "colab": {},
    "colab_type": "code",
    "id": "AH7xhdkRYJ_i",
    "outputId": "70ed9dba-43c7-42a9-bbe9-cc5bcfe3f924"
   },
   "outputs": [
    {
     "data": {
      "text/plain": [
       "tensor([[  2.,   4.,   6.],\n",
       "        [ 20.,  40.,  60.],\n",
       "        [200., 400., 600.]])"
      ]
     },
     "execution_count": 45,
     "metadata": {},
     "output_type": "execute_result"
    }
   ],
   "source": [
    "a.sub(b)"
   ]
  },
  {
   "cell_type": "markdown",
   "metadata": {
    "colab_type": "text",
    "id": "KOX3dTuZYJ_l"
   },
   "source": [
    "* Умножение (поэлементное):"
   ]
  },
  {
   "cell_type": "code",
   "execution_count": 46,
   "metadata": {
    "colab": {},
    "colab_type": "code",
    "id": "J380CvNGYJ_m",
    "outputId": "4d641233-d110-40ca-8f88-b546ac7df1c2"
   },
   "outputs": [
    {
     "data": {
      "text/plain": [
       "tensor([[-1.0000e+00, -4.0000e+00, -9.0000e+00],\n",
       "        [-1.0000e+02, -4.0000e+02, -9.0000e+02],\n",
       "        [-1.0000e+04, -4.0000e+04, -9.0000e+04]])"
      ]
     },
     "execution_count": 46,
     "metadata": {},
     "output_type": "execute_result"
    }
   ],
   "source": [
    "a * b"
   ]
  },
  {
   "cell_type": "markdown",
   "metadata": {
    "colab_type": "text",
    "id": "UG7aOFSvYJ_o"
   },
   "source": [
    "Лучше:"
   ]
  },
  {
   "cell_type": "code",
   "execution_count": 47,
   "metadata": {
    "colab": {},
    "colab_type": "code",
    "id": "cixW0jgdYJ_o",
    "outputId": "91691a93-794e-4482-eec7-ab2830b59a25"
   },
   "outputs": [
    {
     "data": {
      "text/plain": [
       "tensor([[-1.0000e+00, -4.0000e+00, -9.0000e+00],\n",
       "        [-1.0000e+02, -4.0000e+02, -9.0000e+02],\n",
       "        [-1.0000e+04, -4.0000e+04, -9.0000e+04]])"
      ]
     },
     "execution_count": 47,
     "metadata": {},
     "output_type": "execute_result"
    }
   ],
   "source": [
    "a.mul(b)"
   ]
  },
  {
   "cell_type": "markdown",
   "metadata": {
    "colab_type": "text",
    "id": "V-GYTERKYJ_q"
   },
   "source": [
    "* Деление (поэлементное):"
   ]
  },
  {
   "cell_type": "code",
   "execution_count": 48,
   "metadata": {
    "colab": {},
    "colab_type": "code",
    "id": "fUBQns2SYJ_r"
   },
   "outputs": [],
   "source": [
    "a = torch.FloatTensor([[1, 2, 3], [10, 20, 30], [100, 200, 300]])\n",
    "b = torch.FloatTensor([[-1, -2, -3], [-10, -20, -30], [100, 200, 300]])"
   ]
  },
  {
   "cell_type": "code",
   "execution_count": 49,
   "metadata": {
    "colab": {},
    "colab_type": "code",
    "id": "2hrKeMjAYJ_v",
    "outputId": "2a589e95-b308-4c0c-9290-60512494e1bd"
   },
   "outputs": [
    {
     "data": {
      "text/plain": [
       "tensor([[-1., -1., -1.],\n",
       "        [-1., -1., -1.],\n",
       "        [ 1.,  1.,  1.]])"
      ]
     },
     "execution_count": 49,
     "metadata": {},
     "output_type": "execute_result"
    }
   ],
   "source": [
    "a / b"
   ]
  },
  {
   "cell_type": "markdown",
   "metadata": {
    "colab_type": "text",
    "id": "KvcGLFVNYJ_0"
   },
   "source": [
    "Лучше:"
   ]
  },
  {
   "cell_type": "code",
   "execution_count": 50,
   "metadata": {
    "colab": {},
    "colab_type": "code",
    "id": "cpg3YFVPYJ_2",
    "outputId": "0cf1d61d-1834-41ea-96f0-ba8a24bb210b"
   },
   "outputs": [
    {
     "data": {
      "text/plain": [
       "tensor([[-1., -1., -1.],\n",
       "        [-1., -1., -1.],\n",
       "        [ 1.,  1.,  1.]])"
      ]
     },
     "execution_count": 50,
     "metadata": {},
     "output_type": "execute_result"
    }
   ],
   "source": [
    "a.div(b)"
   ]
  },
  {
   "cell_type": "markdown",
   "metadata": {
    "colab_type": "text",
    "id": "VeLAbx1tYJ_7"
   },
   "source": [
    "Заметьте, все эти операции **не меняют исходные тензоры**, а **создают новые**:"
   ]
  },
  {
   "cell_type": "code",
   "execution_count": 51,
   "metadata": {
    "colab": {},
    "colab_type": "code",
    "id": "57BFtnlgYJ_8",
    "outputId": "6b0ab791-b96b-49ca-f339-484fb21c9a3f"
   },
   "outputs": [
    {
     "data": {
      "text/plain": [
       "tensor([[  1.,   2.,   3.],\n",
       "        [ 10.,  20.,  30.],\n",
       "        [100., 200., 300.]])"
      ]
     },
     "execution_count": 51,
     "metadata": {},
     "output_type": "execute_result"
    }
   ],
   "source": [
    "a"
   ]
  },
  {
   "cell_type": "code",
   "execution_count": 52,
   "metadata": {
    "colab": {},
    "colab_type": "code",
    "id": "UziXyvtDYJ_-",
    "outputId": "8468055e-7708-4255-ebaf-1fa621ef970f"
   },
   "outputs": [
    {
     "data": {
      "text/plain": [
       "tensor([[ -1.,  -2.,  -3.],\n",
       "        [-10., -20., -30.],\n",
       "        [100., 200., 300.]])"
      ]
     },
     "execution_count": 52,
     "metadata": {},
     "output_type": "execute_result"
    }
   ],
   "source": [
    "b"
   ]
  },
  {
   "cell_type": "markdown",
   "metadata": {
    "colab_type": "text",
    "id": "D2IP_FrKYKAA"
   },
   "source": [
    "### Задача 2"
   ]
  },
  {
   "cell_type": "markdown",
   "metadata": {
    "colab_type": "text",
    "id": "tBZFbSYQYKAA"
   },
   "source": [
    "1). Создайте два вещественных тензора: `a` размером (5, 2) и `b` размером (1,10)   \n",
    "2). Создайте тензор `c`, являющийся тензором `b`, но размера (5, 2)  \n",
    "3). Произведите все арифметические операции с тензорами `a` и `c`"
   ]
  },
  {
   "cell_type": "code",
   "execution_count": 57,
   "metadata": {
    "colab": {},
    "colab_type": "code",
    "id": "hzs2bH3GYKAB"
   },
   "outputs": [],
   "source": [
    "# Ваш код здесь\n",
    "a = torch.FloatTensor(range(5*2)).view(5,2)\n",
    "b = torch.FloatTensor(range(1*10)).view(1,10)"
   ]
  },
  {
   "cell_type": "code",
   "execution_count": 58,
   "metadata": {},
   "outputs": [
    {
     "data": {
      "text/plain": [
       "tensor([[0., 1.],\n",
       "        [2., 3.],\n",
       "        [4., 5.],\n",
       "        [6., 7.],\n",
       "        [8., 9.]])"
      ]
     },
     "execution_count": 58,
     "metadata": {},
     "output_type": "execute_result"
    }
   ],
   "source": [
    "a"
   ]
  },
  {
   "cell_type": "code",
   "execution_count": 59,
   "metadata": {},
   "outputs": [
    {
     "data": {
      "text/plain": [
       "tensor([[0., 1., 2., 3., 4., 5., 6., 7., 8., 9.]])"
      ]
     },
     "execution_count": 59,
     "metadata": {},
     "output_type": "execute_result"
    }
   ],
   "source": [
    "b"
   ]
  },
  {
   "cell_type": "code",
   "execution_count": 60,
   "metadata": {},
   "outputs": [
    {
     "data": {
      "text/plain": [
       "tensor([[0., 1.],\n",
       "        [2., 3.],\n",
       "        [4., 5.],\n",
       "        [6., 7.],\n",
       "        [8., 9.]])"
      ]
     },
     "execution_count": 60,
     "metadata": {},
     "output_type": "execute_result"
    }
   ],
   "source": [
    "c = b.view(5,2)\n",
    "c"
   ]
  },
  {
   "cell_type": "code",
   "execution_count": 61,
   "metadata": {},
   "outputs": [
    {
     "data": {
      "text/plain": [
       "tensor([[ 0.,  2.],\n",
       "        [ 4.,  6.],\n",
       "        [ 8., 10.],\n",
       "        [12., 14.],\n",
       "        [16., 18.]])"
      ]
     },
     "execution_count": 61,
     "metadata": {},
     "output_type": "execute_result"
    }
   ],
   "source": [
    "a.add(c)"
   ]
  },
  {
   "cell_type": "code",
   "execution_count": 62,
   "metadata": {},
   "outputs": [
    {
     "data": {
      "text/plain": [
       "tensor([[0., 0.],\n",
       "        [0., 0.],\n",
       "        [0., 0.],\n",
       "        [0., 0.],\n",
       "        [0., 0.]])"
      ]
     },
     "execution_count": 62,
     "metadata": {},
     "output_type": "execute_result"
    }
   ],
   "source": [
    "a.sub(c)"
   ]
  },
  {
   "cell_type": "code",
   "execution_count": 63,
   "metadata": {},
   "outputs": [
    {
     "data": {
      "text/plain": [
       "tensor([[ 0.,  1.],\n",
       "        [ 4.,  9.],\n",
       "        [16., 25.],\n",
       "        [36., 49.],\n",
       "        [64., 81.]])"
      ]
     },
     "execution_count": 63,
     "metadata": {},
     "output_type": "execute_result"
    }
   ],
   "source": [
    "a.mul(c)"
   ]
  },
  {
   "cell_type": "code",
   "execution_count": 64,
   "metadata": {},
   "outputs": [
    {
     "data": {
      "text/plain": [
       "tensor([[nan, 1.],\n",
       "        [1., 1.],\n",
       "        [1., 1.],\n",
       "        [1., 1.],\n",
       "        [1., 1.]])"
      ]
     },
     "execution_count": 64,
     "metadata": {},
     "output_type": "execute_result"
    }
   ],
   "source": [
    "a.div(c)"
   ]
  },
  {
   "cell_type": "markdown",
   "metadata": {
    "colab_type": "text",
    "id": "vLpwZPc3YKAC"
   },
   "source": [
    "* **Операторы сравнения**:"
   ]
  },
  {
   "cell_type": "code",
   "execution_count": 65,
   "metadata": {
    "colab": {},
    "colab_type": "code",
    "id": "FfRzvw_UYKAC"
   },
   "outputs": [],
   "source": [
    "a = torch.FloatTensor([[1, 2, 3], [10, 20, 30], [100, 200, 300]])\n",
    "b = torch.FloatTensor([[-1, -2, -3], [-10, -20, -30], [100, 200, 300]])"
   ]
  },
  {
   "cell_type": "code",
   "execution_count": 66,
   "metadata": {
    "colab": {},
    "colab_type": "code",
    "id": "o1RUTP2BYKAD",
    "outputId": "3e2b13da-6b0b-4531-81bf-4d21298c9a16"
   },
   "outputs": [
    {
     "data": {
      "text/plain": [
       "tensor([[0, 0, 0],\n",
       "        [0, 0, 0],\n",
       "        [1, 1, 1]], dtype=torch.uint8)"
      ]
     },
     "execution_count": 66,
     "metadata": {},
     "output_type": "execute_result"
    }
   ],
   "source": [
    "a == b"
   ]
  },
  {
   "cell_type": "code",
   "execution_count": 67,
   "metadata": {
    "colab": {},
    "colab_type": "code",
    "id": "JO3HaVIAYKAF",
    "outputId": "d103a172-5fbc-42e5-ed8c-70604d54bfa9"
   },
   "outputs": [
    {
     "data": {
      "text/plain": [
       "tensor([[1, 1, 1],\n",
       "        [1, 1, 1],\n",
       "        [0, 0, 0]], dtype=torch.uint8)"
      ]
     },
     "execution_count": 67,
     "metadata": {},
     "output_type": "execute_result"
    }
   ],
   "source": [
    "a != b"
   ]
  },
  {
   "cell_type": "code",
   "execution_count": 68,
   "metadata": {
    "colab": {},
    "colab_type": "code",
    "id": "DExLBj4VYKAH",
    "outputId": "0bcd542d-47be-435f-8569-903e6b363a3d"
   },
   "outputs": [
    {
     "data": {
      "text/plain": [
       "tensor([[0, 0, 0],\n",
       "        [0, 0, 0],\n",
       "        [0, 0, 0]], dtype=torch.uint8)"
      ]
     },
     "execution_count": 68,
     "metadata": {},
     "output_type": "execute_result"
    }
   ],
   "source": [
    "a < b"
   ]
  },
  {
   "cell_type": "code",
   "execution_count": 69,
   "metadata": {
    "colab": {},
    "colab_type": "code",
    "id": "0_IH_FUNYKAJ",
    "outputId": "94602ba6-9a82-4522-827d-1ec114ac9185"
   },
   "outputs": [
    {
     "data": {
      "text/plain": [
       "tensor([[1, 1, 1],\n",
       "        [1, 1, 1],\n",
       "        [0, 0, 0]], dtype=torch.uint8)"
      ]
     },
     "execution_count": 69,
     "metadata": {},
     "output_type": "execute_result"
    }
   ],
   "source": [
    "a > b"
   ]
  },
  {
   "cell_type": "markdown",
   "metadata": {
    "colab_type": "text",
    "id": "24nzBJR8YKAM"
   },
   "source": [
    "* **Булевы маски**:"
   ]
  },
  {
   "cell_type": "code",
   "execution_count": 70,
   "metadata": {
    "colab": {},
    "colab_type": "code",
    "id": "C-xVDslwYKAN",
    "outputId": "0794a382-8fcf-4a66-d440-d39f76ea2439"
   },
   "outputs": [
    {
     "data": {
      "text/plain": [
       "tensor([ 1.,  2.,  3., 10., 20., 30.])"
      ]
     },
     "execution_count": 70,
     "metadata": {},
     "output_type": "execute_result"
    }
   ],
   "source": [
    "a[a > b]"
   ]
  },
  {
   "cell_type": "code",
   "execution_count": 71,
   "metadata": {
    "colab": {},
    "colab_type": "code",
    "id": "XatDJF5YYKAQ",
    "outputId": "4e85dc39-c846-4b92-ac79-76b921cbe096"
   },
   "outputs": [
    {
     "data": {
      "text/plain": [
       "tensor([100., 200., 300.])"
      ]
     },
     "execution_count": 71,
     "metadata": {},
     "output_type": "execute_result"
    }
   ],
   "source": [
    "b[a == b]"
   ]
  },
  {
   "cell_type": "markdown",
   "metadata": {
    "colab_type": "text",
    "id": "P-pLWPv2YKAU"
   },
   "source": [
    "Опять же, тензоры не меняются:"
   ]
  },
  {
   "cell_type": "code",
   "execution_count": 72,
   "metadata": {
    "colab": {},
    "colab_type": "code",
    "id": "AKsqvCD5YKAW",
    "outputId": "bb0b1877-35cb-4e0f-c72d-a2f68546dd73"
   },
   "outputs": [
    {
     "data": {
      "text/plain": [
       "tensor([[  1.,   2.,   3.],\n",
       "        [ 10.,  20.,  30.],\n",
       "        [100., 200., 300.]])"
      ]
     },
     "execution_count": 72,
     "metadata": {},
     "output_type": "execute_result"
    }
   ],
   "source": [
    "a"
   ]
  },
  {
   "cell_type": "code",
   "execution_count": 73,
   "metadata": {
    "colab": {},
    "colab_type": "code",
    "id": "PYurJLVuYKAa",
    "outputId": "47a09648-6dd2-4ae2-cdf7-bdc509a443c0"
   },
   "outputs": [
    {
     "data": {
      "text/plain": [
       "tensor([[ -1.,  -2.,  -3.],\n",
       "        [-10., -20., -30.],\n",
       "        [100., 200., 300.]])"
      ]
     },
     "execution_count": 73,
     "metadata": {},
     "output_type": "execute_result"
    }
   ],
   "source": [
    "b"
   ]
  },
  {
   "cell_type": "markdown",
   "metadata": {
    "colab_type": "text",
    "id": "54bQky1bYKAf"
   },
   "source": [
    "Применение **стандартных функций** такое же, как и в numpy - поэлементное:"
   ]
  },
  {
   "cell_type": "code",
   "execution_count": 74,
   "metadata": {
    "colab": {},
    "colab_type": "code",
    "id": "lWnGSuUhYKAf"
   },
   "outputs": [],
   "source": [
    "a = torch.FloatTensor([[1, 2, 3], [10, 20, 30], [100, 200, 300]])"
   ]
  },
  {
   "cell_type": "code",
   "execution_count": 75,
   "metadata": {
    "colab": {},
    "colab_type": "code",
    "id": "J6ZyxZBNYKAl",
    "outputId": "1df429c0-60b7-4ce9-f0cd-00145923296a"
   },
   "outputs": [
    {
     "data": {
      "text/plain": [
       "tensor([[ 0.8415,  0.9093,  0.1411],\n",
       "        [-0.5440,  0.9129, -0.9880],\n",
       "        [-0.5064, -0.8733, -0.9998]])"
      ]
     },
     "execution_count": 75,
     "metadata": {},
     "output_type": "execute_result"
    }
   ],
   "source": [
    "a.sin()"
   ]
  },
  {
   "cell_type": "code",
   "execution_count": 76,
   "metadata": {
    "colab": {},
    "colab_type": "code",
    "id": "SScTSkJMYKAo",
    "outputId": "fdf7d1bf-efab-49ba-bc75-cc107d0b87bd"
   },
   "outputs": [
    {
     "data": {
      "text/plain": [
       "tensor([[ 0.8415,  0.9093,  0.1411],\n",
       "        [-0.5440,  0.9129, -0.9880],\n",
       "        [-0.5064, -0.8733, -0.9998]])"
      ]
     },
     "execution_count": 76,
     "metadata": {},
     "output_type": "execute_result"
    }
   ],
   "source": [
    "torch.sin(a)"
   ]
  },
  {
   "cell_type": "code",
   "execution_count": 77,
   "metadata": {
    "colab": {},
    "colab_type": "code",
    "id": "0bYVYVV7YKAr",
    "outputId": "e0705a7e-5d5d-4fcf-9710-7a109d797fb7"
   },
   "outputs": [
    {
     "data": {
      "text/plain": [
       "tensor([[ 0.5403, -0.4161, -0.9900],\n",
       "        [-0.8391,  0.4081,  0.1543],\n",
       "        [ 0.8623,  0.4872, -0.0221]])"
      ]
     },
     "execution_count": 77,
     "metadata": {},
     "output_type": "execute_result"
    }
   ],
   "source": [
    "a.cos()"
   ]
  },
  {
   "cell_type": "code",
   "execution_count": 78,
   "metadata": {
    "colab": {},
    "colab_type": "code",
    "id": "c-rYL8HQYKAt",
    "outputId": "55051cd8-627a-4594-d9ac-82976a0c73b6"
   },
   "outputs": [
    {
     "data": {
      "text/plain": [
       "tensor([[2.7183e+00, 7.3891e+00, 2.0086e+01],\n",
       "        [2.2026e+04, 4.8517e+08, 1.0686e+13],\n",
       "        [       inf,        inf,        inf]])"
      ]
     },
     "execution_count": 78,
     "metadata": {},
     "output_type": "execute_result"
    }
   ],
   "source": [
    "a.exp()"
   ]
  },
  {
   "cell_type": "code",
   "execution_count": 79,
   "metadata": {
    "colab": {},
    "colab_type": "code",
    "id": "EbiCDYUzYKAw",
    "outputId": "ac1e3627-617e-4f37-875c-0adc20e8fbaa"
   },
   "outputs": [
    {
     "data": {
      "text/plain": [
       "tensor([[0.0000, 0.6931, 1.0986],\n",
       "        [2.3026, 2.9957, 3.4012],\n",
       "        [4.6052, 5.2983, 5.7038]])"
      ]
     },
     "execution_count": 79,
     "metadata": {},
     "output_type": "execute_result"
    }
   ],
   "source": [
    "a.log()"
   ]
  },
  {
   "cell_type": "code",
   "execution_count": 80,
   "metadata": {
    "colab": {},
    "colab_type": "code",
    "id": "yh1sySpiYKAy",
    "outputId": "6908104e-8250-4041-c7d1-de44ef13fc2f"
   },
   "outputs": [
    {
     "data": {
      "text/plain": [
       "tensor([[  -1.,   -2.,   -3.],\n",
       "        [ -10.,  -20.,  -30.],\n",
       "        [-100., -200., -300.]])"
      ]
     },
     "execution_count": 80,
     "metadata": {},
     "output_type": "execute_result"
    }
   ],
   "source": [
    "b = -a\n",
    "b"
   ]
  },
  {
   "cell_type": "code",
   "execution_count": 81,
   "metadata": {
    "colab": {},
    "colab_type": "code",
    "id": "PNU0UxqIYKA2",
    "outputId": "230053f8-ffc0-4d62-9ee0-73d24b8a6bc4"
   },
   "outputs": [
    {
     "data": {
      "text/plain": [
       "tensor([[  1.,   2.,   3.],\n",
       "        [ 10.,  20.,  30.],\n",
       "        [100., 200., 300.]])"
      ]
     },
     "execution_count": 81,
     "metadata": {},
     "output_type": "execute_result"
    }
   ],
   "source": [
    "b.abs()"
   ]
  },
  {
   "cell_type": "markdown",
   "metadata": {
    "colab_type": "text",
    "id": "eqERQjISYKA9"
   },
   "source": [
    "**Сумма, среднее, максимум, минимум**:"
   ]
  },
  {
   "cell_type": "code",
   "execution_count": 82,
   "metadata": {
    "colab": {},
    "colab_type": "code",
    "id": "HLmJGdl9YKA-",
    "outputId": "55275b53-d830-4530-f024-9603879269fd"
   },
   "outputs": [
    {
     "data": {
      "text/plain": [
       "tensor(666.)"
      ]
     },
     "execution_count": 82,
     "metadata": {},
     "output_type": "execute_result"
    }
   ],
   "source": [
    "a.sum()"
   ]
  },
  {
   "cell_type": "code",
   "execution_count": 83,
   "metadata": {
    "colab": {},
    "colab_type": "code",
    "id": "ervIuNGnYKBD",
    "outputId": "a21ff9f0-34da-4d7a-e95a-49239822d053"
   },
   "outputs": [
    {
     "data": {
      "text/plain": [
       "tensor(74.)"
      ]
     },
     "execution_count": 83,
     "metadata": {},
     "output_type": "execute_result"
    }
   ],
   "source": [
    "a.mean()"
   ]
  },
  {
   "cell_type": "markdown",
   "metadata": {
    "colab_type": "text",
    "id": "1qxkdUQ2YKBF"
   },
   "source": [
    "По осям:"
   ]
  },
  {
   "cell_type": "code",
   "execution_count": 84,
   "metadata": {
    "colab": {},
    "colab_type": "code",
    "id": "cc6RjJYeYKBG",
    "outputId": "3ab3407e-c63f-4a9e-9534-9244c953b671"
   },
   "outputs": [
    {
     "data": {
      "text/plain": [
       "tensor([111., 222., 333.])"
      ]
     },
     "execution_count": 84,
     "metadata": {},
     "output_type": "execute_result"
    }
   ],
   "source": [
    "a.sum(0)"
   ]
  },
  {
   "cell_type": "code",
   "execution_count": 85,
   "metadata": {
    "colab": {},
    "colab_type": "code",
    "id": "Dgi5BmhOYKBJ",
    "outputId": "7a57158b-ea66-46bf-ac15-5591ba6e6000"
   },
   "outputs": [
    {
     "data": {
      "text/plain": [
       "tensor([  6.,  60., 600.])"
      ]
     },
     "execution_count": 85,
     "metadata": {},
     "output_type": "execute_result"
    }
   ],
   "source": [
    "a.sum(1)"
   ]
  },
  {
   "cell_type": "code",
   "execution_count": 86,
   "metadata": {
    "colab": {},
    "colab_type": "code",
    "id": "-tIkcTENYKBK",
    "outputId": "6292c5e3-da1e-4a1b-b803-015a91aaef6d"
   },
   "outputs": [
    {
     "data": {
      "text/plain": [
       "tensor(300.)"
      ]
     },
     "execution_count": 86,
     "metadata": {},
     "output_type": "execute_result"
    }
   ],
   "source": [
    "a.max()"
   ]
  },
  {
   "cell_type": "code",
   "execution_count": 87,
   "metadata": {
    "colab": {},
    "colab_type": "code",
    "id": "V4U_LyyPYKBL",
    "outputId": "9b22f063-7ec0-48e8-a65e-7de1e87ba796"
   },
   "outputs": [
    {
     "data": {
      "text/plain": [
       "(tensor([100., 200., 300.]), tensor([2, 2, 2]))"
      ]
     },
     "execution_count": 87,
     "metadata": {},
     "output_type": "execute_result"
    }
   ],
   "source": [
    "a.max(0)"
   ]
  },
  {
   "cell_type": "code",
   "execution_count": 88,
   "metadata": {
    "colab": {},
    "colab_type": "code",
    "id": "TSqmVtWjYKBO",
    "outputId": "f65b698c-826e-4b97-da8f-0153e3bae821"
   },
   "outputs": [
    {
     "data": {
      "text/plain": [
       "tensor(1.)"
      ]
     },
     "execution_count": 88,
     "metadata": {},
     "output_type": "execute_result"
    }
   ],
   "source": [
    "a.min()"
   ]
  },
  {
   "cell_type": "code",
   "execution_count": 89,
   "metadata": {
    "colab": {},
    "colab_type": "code",
    "id": "OeA2hlZ2YKBP",
    "outputId": "668880df-8589-4d5f-c92e-6142a84058db"
   },
   "outputs": [
    {
     "data": {
      "text/plain": [
       "(tensor([1., 2., 3.]), tensor([0, 0, 0]))"
      ]
     },
     "execution_count": 89,
     "metadata": {},
     "output_type": "execute_result"
    }
   ],
   "source": [
    "a.min(0)"
   ]
  },
  {
   "cell_type": "markdown",
   "metadata": {
    "colab_type": "text",
    "id": "Ys-9hnr4YKBS"
   },
   "source": [
    "Обратите внимание - второй тензор при вызове функций .max() и .min() - это индексы этих максимальных/минимальных элементов по указанной размерности (то есть в данном случае a.min() вернул (1, 2, 3) - минимумы по 0 оси (по столбцам), и их индексы по 0-ой оси (0,0,0) (номер каждого элемента в своём столбце))."
   ]
  },
  {
   "cell_type": "markdown",
   "metadata": {
    "colab_type": "text",
    "id": "rIaroFO6YKBT"
   },
   "source": [
    "### Задача 3"
   ]
  },
  {
   "cell_type": "markdown",
   "metadata": {
    "colab_type": "text",
    "id": "GfLHVvKvYKBT"
   },
   "source": [
    "Создайте тензор `a` размерности (100, 780, 780, 3) (можно интерпретировать это как 100 картинок размера 780х780 с тремя цветовыми каналами) и выведите первый элемент этого тензора как картинку (с помощью matplotlib.pyplot).\n",
    "\n",
    "Выведите среднее элементов по 1-ой оси (по сути - средняя картинка по всем картинкам) и по 4-ой оси (по сути - усреднение каналов для каждой картинки)."
   ]
  },
  {
   "cell_type": "code",
   "execution_count": 105,
   "metadata": {
    "colab": {},
    "colab_type": "code",
    "id": "pZVGHEQQYKBU"
   },
   "outputs": [],
   "source": [
    "# Ваш код здесь\n",
    "a = torch.FloatTensor(range(100*780*780*3)).view(100, 780, 780, 3)"
   ]
  },
  {
   "cell_type": "code",
   "execution_count": 106,
   "metadata": {
    "scrolled": true
   },
   "outputs": [
    {
     "data": {
      "text/plain": [
       "tensor([[[0.0000e+00, 1.0000e+00, 2.0000e+00],\n",
       "         [3.0000e+00, 4.0000e+00, 5.0000e+00],\n",
       "         [6.0000e+00, 7.0000e+00, 8.0000e+00],\n",
       "         ...,\n",
       "         [2.3310e+03, 2.3320e+03, 2.3330e+03],\n",
       "         [2.3340e+03, 2.3350e+03, 2.3360e+03],\n",
       "         [2.3370e+03, 2.3380e+03, 2.3390e+03]],\n",
       "\n",
       "        [[2.3400e+03, 2.3410e+03, 2.3420e+03],\n",
       "         [2.3430e+03, 2.3440e+03, 2.3450e+03],\n",
       "         [2.3460e+03, 2.3470e+03, 2.3480e+03],\n",
       "         ...,\n",
       "         [4.6710e+03, 4.6720e+03, 4.6730e+03],\n",
       "         [4.6740e+03, 4.6750e+03, 4.6760e+03],\n",
       "         [4.6770e+03, 4.6780e+03, 4.6790e+03]],\n",
       "\n",
       "        [[4.6800e+03, 4.6810e+03, 4.6820e+03],\n",
       "         [4.6830e+03, 4.6840e+03, 4.6850e+03],\n",
       "         [4.6860e+03, 4.6870e+03, 4.6880e+03],\n",
       "         ...,\n",
       "         [7.0110e+03, 7.0120e+03, 7.0130e+03],\n",
       "         [7.0140e+03, 7.0150e+03, 7.0160e+03],\n",
       "         [7.0170e+03, 7.0180e+03, 7.0190e+03]],\n",
       "\n",
       "        ...,\n",
       "\n",
       "        [[1.8182e+06, 1.8182e+06, 1.8182e+06],\n",
       "         [1.8182e+06, 1.8182e+06, 1.8182e+06],\n",
       "         [1.8182e+06, 1.8182e+06, 1.8182e+06],\n",
       "         ...,\n",
       "         [1.8205e+06, 1.8205e+06, 1.8205e+06],\n",
       "         [1.8205e+06, 1.8205e+06, 1.8205e+06],\n",
       "         [1.8205e+06, 1.8205e+06, 1.8205e+06]],\n",
       "\n",
       "        [[1.8205e+06, 1.8205e+06, 1.8205e+06],\n",
       "         [1.8205e+06, 1.8205e+06, 1.8205e+06],\n",
       "         [1.8205e+06, 1.8205e+06, 1.8205e+06],\n",
       "         ...,\n",
       "         [1.8229e+06, 1.8229e+06, 1.8229e+06],\n",
       "         [1.8229e+06, 1.8229e+06, 1.8229e+06],\n",
       "         [1.8229e+06, 1.8229e+06, 1.8229e+06]],\n",
       "\n",
       "        [[1.8229e+06, 1.8229e+06, 1.8229e+06],\n",
       "         [1.8229e+06, 1.8229e+06, 1.8229e+06],\n",
       "         [1.8229e+06, 1.8229e+06, 1.8229e+06],\n",
       "         ...,\n",
       "         [1.8252e+06, 1.8252e+06, 1.8252e+06],\n",
       "         [1.8252e+06, 1.8252e+06, 1.8252e+06],\n",
       "         [1.8252e+06, 1.8252e+06, 1.8252e+06]]])"
      ]
     },
     "execution_count": 106,
     "metadata": {},
     "output_type": "execute_result"
    }
   ],
   "source": [
    "a[0]"
   ]
  },
  {
   "cell_type": "code",
   "execution_count": 114,
   "metadata": {},
   "outputs": [
    {
     "data": {
      "text/plain": [
       "<matplotlib.image.AxesImage at 0x2586ace4f98>"
      ]
     },
     "execution_count": 114,
     "metadata": {},
     "output_type": "execute_result"
    },
    {
     "data": {
      "image/png": "[encoded data removed]",
      "text/plain": [
       "<matplotlib.figure.Figure at 0x258696f8358>"
      ]
     },
     "metadata": {
      "needs_background": "light"
     },
     "output_type": "display_data"
    }
   ],
   "source": [
    "import numpy as np\n",
    "import pandas as pd\n",
    "import matplotlib as pyplot\n",
    "\n",
    "from scipy import ndimage #спецификатор для работы с изображениями\n",
    "from scipy import misc \n",
    "from PIL import Image\n",
    "\n",
    "%matplotlib inline\n",
    "\n",
    "pyplot.pyplot.imshow(a[99])"
   ]
  },
  {
   "cell_type": "code",
   "execution_count": 115,
   "metadata": {
    "scrolled": true
   },
   "outputs": [
    {
     "data": {
      "text/plain": [
       "<matplotlib.image.AxesImage at 0x2586b457550>"
      ]
     },
     "execution_count": 115,
     "metadata": {},
     "output_type": "execute_result"
    },
    {
     "data": {
      "image/png": "[encoded data removed]",
      "text/plain": [
       "<matplotlib.figure.Figure at 0x2586a582ba8>"
      ]
     },
     "metadata": {
      "needs_background": "light"
     },
     "output_type": "display_data"
    }
   ],
   "source": [
    "pyplot.pyplot.imshow(a.mean(0))"
   ]
  },
  {
   "cell_type": "code",
   "execution_count": 117,
   "metadata": {
    "scrolled": true
   },
   "outputs": [
    {
     "data": {
      "text/plain": [
       "tensor([[[1.0000e+00, 4.0000e+00, 7.0000e+00,  ..., 2.3320e+03,\n",
       "          2.3350e+03, 2.3380e+03],\n",
       "         [2.3410e+03, 2.3440e+03, 2.3470e+03,  ..., 4.6720e+03,\n",
       "          4.6750e+03, 4.6780e+03],\n",
       "         [4.6810e+03, 4.6840e+03, 4.6870e+03,  ..., 7.0120e+03,\n",
       "          7.0150e+03, 7.0180e+03],\n",
       "         ...,\n",
       "         [1.8182e+06, 1.8182e+06, 1.8182e+06,  ..., 1.8205e+06,\n",
       "          1.8205e+06, 1.8205e+06],\n",
       "         [1.8205e+06, 1.8205e+06, 1.8205e+06,  ..., 1.8229e+06,\n",
       "          1.8229e+06, 1.8229e+06],\n",
       "         [1.8229e+06, 1.8229e+06, 1.8229e+06,  ..., 1.8252e+06,\n",
       "          1.8252e+06, 1.8252e+06]],\n",
       "\n",
       "        [[1.8252e+06, 1.8252e+06, 1.8252e+06,  ..., 1.8275e+06,\n",
       "          1.8275e+06, 1.8275e+06],\n",
       "         [1.8275e+06, 1.8275e+06, 1.8275e+06,  ..., 1.8299e+06,\n",
       "          1.8299e+06, 1.8299e+06],\n",
       "         [1.8299e+06, 1.8299e+06, 1.8299e+06,  ..., 1.8322e+06,\n",
       "          1.8322e+06, 1.8322e+06],\n",
       "         ...,\n",
       "         [3.6434e+06, 3.6434e+06, 3.6434e+06,  ..., 3.6457e+06,\n",
       "          3.6457e+06, 3.6457e+06],\n",
       "         [3.6457e+06, 3.6457e+06, 3.6457e+06,  ..., 3.6481e+06,\n",
       "          3.6481e+06, 3.6481e+06],\n",
       "         [3.6481e+06, 3.6481e+06, 3.6481e+06,  ..., 3.6504e+06,\n",
       "          3.6504e+06, 3.6504e+06]],\n",
       "\n",
       "        [[3.6504e+06, 3.6504e+06, 3.6504e+06,  ..., 3.6527e+06,\n",
       "          3.6527e+06, 3.6527e+06],\n",
       "         [3.6527e+06, 3.6527e+06, 3.6527e+06,  ..., 3.6551e+06,\n",
       "          3.6551e+06, 3.6551e+06],\n",
       "         [3.6551e+06, 3.6551e+06, 3.6551e+06,  ..., 3.6574e+06,\n",
       "          3.6574e+06, 3.6574e+06],\n",
       "         ...,\n",
       "         [5.4686e+06, 5.4686e+06, 5.4686e+06,  ..., 5.4709e+06,\n",
       "          5.4709e+06, 5.4709e+06],\n",
       "         [5.4709e+06, 5.4709e+06, 5.4709e+06,  ..., 5.4733e+06,\n",
       "          5.4733e+06, 5.4733e+06],\n",
       "         [5.4733e+06, 5.4733e+06, 5.4733e+06,  ..., 5.4756e+06,\n",
       "          5.4756e+06, 5.4756e+06]],\n",
       "\n",
       "        ...,\n",
       "\n",
       "        [[1.7704e+08, 1.7704e+08, 1.7704e+08,  ..., 1.7705e+08,\n",
       "          1.7705e+08, 1.7705e+08],\n",
       "         [1.7705e+08, 1.7705e+08, 1.7705e+08,  ..., 1.7705e+08,\n",
       "          1.7705e+08, 1.7705e+08],\n",
       "         [1.7705e+08, 1.7705e+08, 1.7705e+08,  ..., 1.7705e+08,\n",
       "          1.7705e+08, 1.7705e+08],\n",
       "         ...,\n",
       "         [1.7886e+08, 1.7886e+08, 1.7886e+08,  ..., 1.7886e+08,\n",
       "          1.7886e+08, 1.7886e+08],\n",
       "         [1.7886e+08, 1.7886e+08, 1.7886e+08,  ..., 1.7887e+08,\n",
       "          1.7887e+08, 1.7887e+08],\n",
       "         [1.7887e+08, 1.7887e+08, 1.7887e+08,  ..., 1.7887e+08,\n",
       "          1.7887e+08, 1.7887e+08]],\n",
       "\n",
       "        [[1.7887e+08, 1.7887e+08, 1.7887e+08,  ..., 1.7887e+08,\n",
       "          1.7887e+08, 1.7887e+08],\n",
       "         [1.7887e+08, 1.7887e+08, 1.7887e+08,  ..., 1.7887e+08,\n",
       "          1.7887e+08, 1.7887e+08],\n",
       "         [1.7887e+08, 1.7887e+08, 1.7887e+08,  ..., 1.7888e+08,\n",
       "          1.7888e+08, 1.7888e+08],\n",
       "         ...,\n",
       "         [1.8069e+08, 1.8069e+08, 1.8069e+08,  ..., 1.8069e+08,\n",
       "          1.8069e+08, 1.8069e+08],\n",
       "         [1.8069e+08, 1.8069e+08, 1.8069e+08,  ..., 1.8069e+08,\n",
       "          1.8069e+08, 1.8069e+08],\n",
       "         [1.8069e+08, 1.8069e+08, 1.8069e+08,  ..., 1.8069e+08,\n",
       "          1.8069e+08, 1.8069e+08]],\n",
       "\n",
       "        [[1.8069e+08, 1.8069e+08, 1.8069e+08,  ..., 1.8070e+08,\n",
       "          1.8070e+08, 1.8070e+08],\n",
       "         [1.8070e+08, 1.8070e+08, 1.8070e+08,  ..., 1.8070e+08,\n",
       "          1.8070e+08, 1.8070e+08],\n",
       "         [1.8070e+08, 1.8070e+08, 1.8070e+08,  ..., 1.8070e+08,\n",
       "          1.8070e+08, 1.8070e+08],\n",
       "         ...,\n",
       "         [1.8251e+08, 1.8251e+08, 1.8251e+08,  ..., 1.8252e+08,\n",
       "          1.8252e+08, 1.8252e+08],\n",
       "         [1.8252e+08, 1.8252e+08, 1.8252e+08,  ..., 1.8252e+08,\n",
       "          1.8252e+08, 1.8252e+08],\n",
       "         [1.8252e+08, 1.8252e+08, 1.8252e+08,  ..., 1.8252e+08,\n",
       "          1.8252e+08, 1.8252e+08]]])"
      ]
     },
     "execution_count": 117,
     "metadata": {},
     "output_type": "execute_result"
    }
   ],
   "source": [
    "a.mean(3)"
   ]
  },
  {
   "cell_type": "markdown",
   "metadata": {
    "colab_type": "text",
    "id": "kepFeTZ0YKBV"
   },
   "source": [
    "**Матричные операции:**"
   ]
  },
  {
   "cell_type": "code",
   "execution_count": null,
   "metadata": {
    "colab": {},
    "colab_type": "code",
    "id": "XEShGzNHYKBV"
   },
   "outputs": [],
   "source": [
    "z = x.mm(y)\n",
    "z = torch.mm(x, y)\n",
    "Матричное умножение.\n",
    "z = x.mv(v)\n",
    "z = torch.mv(x, v)\n",
    "Умножение матрицы на вектор.\n",
    "z = x.dot(y)\n",
    "z = torch.dot(x, y)\n",
    "Скалярное умножение тензоров.\n",
    "bz = bx.bmm(by)\n",
    "bz = torch.bmm(bx, by)\n",
    "Перемножает матрицы целыми батчами."
   ]
  },
  {
   "cell_type": "markdown",
   "metadata": {
    "colab_type": "text",
    "id": "7RYm3mdrYKBX"
   },
   "source": [
    "* Транспонирование матрицы (тензора):"
   ]
  },
  {
   "cell_type": "code",
   "execution_count": 120,
   "metadata": {
    "colab": {},
    "colab_type": "code",
    "id": "T8-1TSkeYKBY",
    "outputId": "c2367178-b759-462d-9f22-08f13ca6c56e"
   },
   "outputs": [
    {
     "data": {
      "text/plain": [
       "tensor([[  1.,   2.,   3.],\n",
       "        [ 10.,  20.,  30.],\n",
       "        [100., 200., 300.]])"
      ]
     },
     "execution_count": 120,
     "metadata": {},
     "output_type": "execute_result"
    }
   ],
   "source": [
    "a = torch.FloatTensor([[1, 2, 3], [10, 20, 30], [100, 200, 300]])\n",
    "a"
   ]
  },
  {
   "cell_type": "code",
   "execution_count": 121,
   "metadata": {
    "colab": {},
    "colab_type": "code",
    "id": "HSAZwai7YKBa",
    "outputId": "d8d0bbc2-1283-4dc2-cbd3-be45a9b3b6e9"
   },
   "outputs": [
    {
     "data": {
      "text/plain": [
       "tensor([[  1.,  10., 100.],\n",
       "        [  2.,  20., 200.],\n",
       "        [  3.,  30., 300.]])"
      ]
     },
     "execution_count": 121,
     "metadata": {},
     "output_type": "execute_result"
    }
   ],
   "source": [
    "a.t()"
   ]
  },
  {
   "cell_type": "markdown",
   "metadata": {
    "colab_type": "text",
    "id": "QqsPkleRYKBd"
   },
   "source": [
    "И снова - сам тензор не меняется (то есть при вызове создаётся новый):"
   ]
  },
  {
   "cell_type": "code",
   "execution_count": 122,
   "metadata": {
    "colab": {},
    "colab_type": "code",
    "id": "NRPamd2EYKBe",
    "outputId": "eedf4477-f1c3-4527-ab34-cdd914d556e9"
   },
   "outputs": [
    {
     "data": {
      "text/plain": [
       "tensor([[  1.,   2.,   3.],\n",
       "        [ 10.,  20.,  30.],\n",
       "        [100., 200., 300.]])"
      ]
     },
     "execution_count": 122,
     "metadata": {},
     "output_type": "execute_result"
    }
   ],
   "source": [
    "a"
   ]
  },
  {
   "cell_type": "markdown",
   "metadata": {
    "colab_type": "text",
    "id": "q8YhoxHPYKBh"
   },
   "source": [
    "* Скалярное произведение векторов (1-мерных тензоров):"
   ]
  },
  {
   "cell_type": "code",
   "execution_count": 123,
   "metadata": {
    "colab": {},
    "colab_type": "code",
    "id": "i1pRtl7HYKBi"
   },
   "outputs": [],
   "source": [
    "a = torch.FloatTensor([1, 2, 3, 4, 5, 6])\n",
    "b = torch.FloatTensor([-1, -2, -4, -6, -8, -10])"
   ]
  },
  {
   "cell_type": "code",
   "execution_count": 124,
   "metadata": {
    "colab": {},
    "colab_type": "code",
    "id": "qcS-28dwYKBp",
    "outputId": "38a9040f-e59b-468c-c2e2-caee3d56b993"
   },
   "outputs": [
    {
     "data": {
      "text/plain": [
       "tensor(-141.)"
      ]
     },
     "execution_count": 124,
     "metadata": {},
     "output_type": "execute_result"
    }
   ],
   "source": [
    "a.dot(b)"
   ]
  },
  {
   "cell_type": "code",
   "execution_count": 125,
   "metadata": {
    "colab": {},
    "colab_type": "code",
    "id": "MXyhOelQYKBs",
    "outputId": "f0ec3908-d565-4eb6-cf46-fdaf4c20cc50"
   },
   "outputs": [
    {
     "data": {
      "text/plain": [
       "tensor(-141.)"
      ]
     },
     "execution_count": 125,
     "metadata": {},
     "output_type": "execute_result"
    }
   ],
   "source": [
    "a @ b"
   ]
  },
  {
   "cell_type": "code",
   "execution_count": 126,
   "metadata": {
    "colab": {},
    "colab_type": "code",
    "id": "sxqg4xhoYKBt",
    "outputId": "66c3dec7-220f-420b-9677-b88f5a0db078"
   },
   "outputs": [
    {
     "data": {
      "text/plain": [
       "torch.Tensor"
      ]
     },
     "execution_count": 126,
     "metadata": {},
     "output_type": "execute_result"
    }
   ],
   "source": [
    "type(a)"
   ]
  },
  {
   "cell_type": "code",
   "execution_count": 127,
   "metadata": {
    "colab": {},
    "colab_type": "code",
    "id": "_v2ZjPqDYKBz",
    "outputId": "7c6d752f-d697-4bcb-b65f-6ca8db4d0cec"
   },
   "outputs": [
    {
     "data": {
      "text/plain": [
       "torch.Tensor"
      ]
     },
     "execution_count": 127,
     "metadata": {},
     "output_type": "execute_result"
    }
   ],
   "source": [
    "type(b)"
   ]
  },
  {
   "cell_type": "code",
   "execution_count": 128,
   "metadata": {
    "colab": {},
    "colab_type": "code",
    "id": "UsWB9vTuYKB0",
    "outputId": "e591fa1a-2ac6-43f1-d9a8-28bab50caaef"
   },
   "outputs": [
    {
     "data": {
      "text/plain": [
       "torch.Tensor"
      ]
     },
     "execution_count": 128,
     "metadata": {},
     "output_type": "execute_result"
    }
   ],
   "source": [
    "type(a @ b)"
   ]
  },
  {
   "cell_type": "markdown",
   "metadata": {
    "colab_type": "text",
    "id": "KSrnLwkGYKB1"
   },
   "source": [
    "* Матричное умножение:"
   ]
  },
  {
   "cell_type": "code",
   "execution_count": 129,
   "metadata": {
    "colab": {},
    "colab_type": "code",
    "id": "ViurnbjPYKB2"
   },
   "outputs": [],
   "source": [
    "a = torch.FloatTensor([[1, 2, 3], [10, 20, 30], [100, 200, 300]])\n",
    "b = torch.FloatTensor([[-1, -2, -3], [-10, -20, -30], [100, 200, 300]])"
   ]
  },
  {
   "cell_type": "code",
   "execution_count": 130,
   "metadata": {
    "colab": {},
    "colab_type": "code",
    "id": "5TrCnfWiYKB3",
    "outputId": "38f50f16-6be9-4523-e0ca-0743a4b400a3"
   },
   "outputs": [
    {
     "data": {
      "text/plain": [
       "tensor([[  279.,   558.,   837.],\n",
       "        [ 2790.,  5580.,  8370.],\n",
       "        [27900., 55800., 83700.]])"
      ]
     },
     "execution_count": 130,
     "metadata": {},
     "output_type": "execute_result"
    }
   ],
   "source": [
    "a.mm(b)"
   ]
  },
  {
   "cell_type": "code",
   "execution_count": 131,
   "metadata": {
    "colab": {},
    "colab_type": "code",
    "id": "HMzIz-_MYKB4",
    "outputId": "9b149f62-fa77-4859-d6e9-41b8839d1bff"
   },
   "outputs": [
    {
     "data": {
      "text/plain": [
       "tensor([[  279.,   558.,   837.],\n",
       "        [ 2790.,  5580.,  8370.],\n",
       "        [27900., 55800., 83700.]])"
      ]
     },
     "execution_count": 131,
     "metadata": {},
     "output_type": "execute_result"
    }
   ],
   "source": [
    "a @ b"
   ]
  },
  {
   "cell_type": "markdown",
   "metadata": {
    "colab_type": "text",
    "id": "Ig2pr52xYKB5"
   },
   "source": [
    "Тензоры неизменны:"
   ]
  },
  {
   "cell_type": "code",
   "execution_count": 132,
   "metadata": {
    "colab": {},
    "colab_type": "code",
    "id": "22QOePSyYKB6",
    "outputId": "204fcd82-a75c-43cf-d670-bb04fac63cfe"
   },
   "outputs": [
    {
     "data": {
      "text/plain": [
       "tensor([[  1.,   2.,   3.],\n",
       "        [ 10.,  20.,  30.],\n",
       "        [100., 200., 300.]])"
      ]
     },
     "execution_count": 132,
     "metadata": {},
     "output_type": "execute_result"
    }
   ],
   "source": [
    "a"
   ]
  },
  {
   "cell_type": "code",
   "execution_count": 133,
   "metadata": {
    "colab": {},
    "colab_type": "code",
    "id": "JHr6eKADYKB6",
    "outputId": "bc4df416-6bdb-4aaa-b93f-000b1219222b"
   },
   "outputs": [
    {
     "data": {
      "text/plain": [
       "tensor([[ -1.,  -2.,  -3.],\n",
       "        [-10., -20., -30.],\n",
       "        [100., 200., 300.]])"
      ]
     },
     "execution_count": 133,
     "metadata": {},
     "output_type": "execute_result"
    }
   ],
   "source": [
    "b"
   ]
  },
  {
   "cell_type": "code",
   "execution_count": 134,
   "metadata": {
    "colab": {},
    "colab_type": "code",
    "id": "vtuvt20-YKB8"
   },
   "outputs": [],
   "source": [
    "a = torch.FloatTensor([[1, 2, 3], [10, 20, 30], [100, 200, 300]])\n",
    "b = torch.FloatTensor([[-1], [-10], [100]])"
   ]
  },
  {
   "cell_type": "code",
   "execution_count": 135,
   "metadata": {
    "colab": {},
    "colab_type": "code",
    "id": "fdDnu5XjYKB9",
    "outputId": "cc0a9d0c-d63f-468d-907a-05f836fa9828"
   },
   "outputs": [
    {
     "name": "stdout",
     "output_type": "stream",
     "text": [
      "torch.Size([3, 3]) torch.Size([3, 1])\n"
     ]
    }
   ],
   "source": [
    "print(a.shape, b.shape)"
   ]
  },
  {
   "cell_type": "code",
   "execution_count": 136,
   "metadata": {
    "colab": {},
    "colab_type": "code",
    "id": "oD4N4WN8YKB_",
    "outputId": "babf6634-58db-49be-80f6-b949f074c83a"
   },
   "outputs": [
    {
     "data": {
      "text/plain": [
       "tensor([[  279.],\n",
       "        [ 2790.],\n",
       "        [27900.]])"
      ]
     },
     "execution_count": 136,
     "metadata": {},
     "output_type": "execute_result"
    }
   ],
   "source": [
    "a @ b"
   ]
  },
  {
   "cell_type": "markdown",
   "metadata": {
    "colab_type": "text",
    "id": "va9w-BavYKCB"
   },
   "source": [
    "Если \"развернуть\" тензор b просто в массив элементов (`torch.view(-1)`), умножение будет как на столбец:"
   ]
  },
  {
   "cell_type": "code",
   "execution_count": 137,
   "metadata": {
    "colab": {},
    "colab_type": "code",
    "id": "V7KsdYcBYKCC",
    "outputId": "9e2f3ec8-1f56-4c9c-d0a0-a98fda07faeb"
   },
   "outputs": [
    {
     "data": {
      "text/plain": [
       "tensor([[ -1.],\n",
       "        [-10.],\n",
       "        [100.]])"
      ]
     },
     "execution_count": 137,
     "metadata": {},
     "output_type": "execute_result"
    }
   ],
   "source": [
    "b"
   ]
  },
  {
   "cell_type": "code",
   "execution_count": 138,
   "metadata": {
    "colab": {},
    "colab_type": "code",
    "id": "t7k6spayYKCF",
    "outputId": "04926526-0040-4c8f-8e7c-de195bc0590e"
   },
   "outputs": [
    {
     "data": {
      "text/plain": [
       "tensor([ -1., -10., 100.])"
      ]
     },
     "execution_count": 138,
     "metadata": {},
     "output_type": "execute_result"
    }
   ],
   "source": [
    "b.view(-1)"
   ]
  },
  {
   "cell_type": "code",
   "execution_count": 139,
   "metadata": {
    "colab": {},
    "colab_type": "code",
    "id": "8u8xQ20bYKCH",
    "outputId": "02532845-68a0-4280-cd68-3a31aff29f48"
   },
   "outputs": [
    {
     "data": {
      "text/plain": [
       "tensor([  279.,  2790., 27900.])"
      ]
     },
     "execution_count": 139,
     "metadata": {},
     "output_type": "execute_result"
    }
   ],
   "source": [
    "a @ b.view(-1)"
   ]
  },
  {
   "cell_type": "code",
   "execution_count": 140,
   "metadata": {
    "colab": {},
    "colab_type": "code",
    "id": "QvCu1sJEYKCJ",
    "outputId": "9776bf5e-a880-4141-9340-9881da45066d"
   },
   "outputs": [
    {
     "data": {
      "text/plain": [
       "tensor([  279.,  2790., 27900.])"
      ]
     },
     "execution_count": 140,
     "metadata": {},
     "output_type": "execute_result"
    }
   ],
   "source": [
    "a.mv(b.view(-1))"
   ]
  },
  {
   "cell_type": "markdown",
   "metadata": {
    "colab_type": "text",
    "id": "gZitrCN6YKCL"
   },
   "source": [
    "**Перевод из NumPy в PyTorch**:"
   ]
  },
  {
   "cell_type": "code",
   "execution_count": 141,
   "metadata": {
    "colab": {},
    "colab_type": "code",
    "id": "bnLS4CGXYKCL",
    "outputId": "12cdf1ad-af71-4ab5-95f0-bfa937664f88"
   },
   "outputs": [
    {
     "data": {
      "text/plain": [
       "array([[0.2463291 , 0.78316966, 0.4383879 ],\n",
       "       [0.65044509, 0.98012521, 0.96865152],\n",
       "       [0.39094892, 0.32270471, 0.34506555]])"
      ]
     },
     "execution_count": 141,
     "metadata": {},
     "output_type": "execute_result"
    }
   ],
   "source": [
    "import numpy as np\n",
    "\n",
    "a = np.random.rand(3, 3)\n",
    "a"
   ]
  },
  {
   "cell_type": "code",
   "execution_count": 142,
   "metadata": {
    "colab": {},
    "colab_type": "code",
    "id": "PXge57waYKCM",
    "outputId": "c9a6ab8f-f1d5-40bf-8196-e9ebc346d9ef"
   },
   "outputs": [
    {
     "data": {
      "text/plain": [
       "tensor([[0.2463, 0.7832, 0.4384],\n",
       "        [0.6504, 0.9801, 0.9687],\n",
       "        [0.3909, 0.3227, 0.3451]], dtype=torch.float64)"
      ]
     },
     "execution_count": 142,
     "metadata": {},
     "output_type": "execute_result"
    }
   ],
   "source": [
    "b = torch.from_numpy(a)\n",
    "b"
   ]
  },
  {
   "cell_type": "markdown",
   "metadata": {
    "colab_type": "text",
    "id": "Nvcr3ymPYKCN"
   },
   "source": [
    "**НО!** Обратите внимание - a и b в этом случае будут использовать одно и то же хранилище данных, то есть измение одного тензора будет менять и другой:"
   ]
  },
  {
   "cell_type": "code",
   "execution_count": 143,
   "metadata": {
    "colab": {},
    "colab_type": "code",
    "id": "0N_ZW6TQYKCN",
    "outputId": "58717139-15fe-4481-9c7a-e2707076af15"
   },
   "outputs": [
    {
     "data": {
      "text/plain": [
       "tensor([[0., 0., 0.],\n",
       "        [0., 0., 0.],\n",
       "        [0., 0., 0.]], dtype=torch.float64)"
      ]
     },
     "execution_count": 143,
     "metadata": {},
     "output_type": "execute_result"
    }
   ],
   "source": [
    "b -= b\n",
    "b"
   ]
  },
  {
   "cell_type": "code",
   "execution_count": 144,
   "metadata": {
    "colab": {},
    "colab_type": "code",
    "id": "wzUnCKsiYKCP",
    "outputId": "a2a76868-1dff-4ba1-9631-6d51dd1d6523"
   },
   "outputs": [
    {
     "data": {
      "text/plain": [
       "array([[0., 0., 0.],\n",
       "       [0., 0., 0.],\n",
       "       [0., 0., 0.]])"
      ]
     },
     "execution_count": 144,
     "metadata": {},
     "output_type": "execute_result"
    }
   ],
   "source": [
    "a"
   ]
  },
  {
   "cell_type": "markdown",
   "metadata": {
    "colab_type": "text",
    "id": "Al73RqKSYKCR"
   },
   "source": [
    "**Перевод из PyTorch в NumPy:**"
   ]
  },
  {
   "cell_type": "code",
   "execution_count": 145,
   "metadata": {
    "colab": {},
    "colab_type": "code",
    "id": "u5rngw4vYKCR",
    "outputId": "89bad9d3-3f9a-4047-e3ba-3b4c4f65fa2f"
   },
   "outputs": [
    {
     "data": {
      "text/plain": [
       "tensor([[[0., 0., 0., 0.],\n",
       "         [0., 0., 0., 0.],\n",
       "         [0., 0., 0., 0.]],\n",
       "\n",
       "        [[0., 0., 0., 0.],\n",
       "         [0., 0., 0., 0.],\n",
       "         [0., 0., 0., 0.]]])"
      ]
     },
     "execution_count": 145,
     "metadata": {},
     "output_type": "execute_result"
    }
   ],
   "source": [
    "a = torch.FloatTensor(2, 3, 4)\n",
    "a"
   ]
  },
  {
   "cell_type": "code",
   "execution_count": 146,
   "metadata": {
    "colab": {},
    "colab_type": "code",
    "id": "yjK68Kk-YKCS",
    "outputId": "d45da6e7-f087-4457-8ce7-c4dabd4fd4fa"
   },
   "outputs": [
    {
     "data": {
      "text/plain": [
       "torch.Tensor"
      ]
     },
     "execution_count": 146,
     "metadata": {},
     "output_type": "execute_result"
    }
   ],
   "source": [
    "type(a)"
   ]
  },
  {
   "cell_type": "code",
   "execution_count": 147,
   "metadata": {
    "colab": {},
    "colab_type": "code",
    "id": "viLUF7gQYKCU",
    "outputId": "11b68e23-6d5f-4e23-e5e3-4b3b1c7c408a"
   },
   "outputs": [
    {
     "data": {
      "text/plain": [
       "array([[[0., 0., 0., 0.],\n",
       "        [0., 0., 0., 0.],\n",
       "        [0., 0., 0., 0.]],\n",
       "\n",
       "       [[0., 0., 0., 0.],\n",
       "        [0., 0., 0., 0.],\n",
       "        [0., 0., 0., 0.]]], dtype=float32)"
      ]
     },
     "execution_count": 147,
     "metadata": {},
     "output_type": "execute_result"
    }
   ],
   "source": [
    "x = a.numpy()\n",
    "x"
   ]
  },
  {
   "cell_type": "code",
   "execution_count": 148,
   "metadata": {
    "colab": {},
    "colab_type": "code",
    "id": "9HxgiLxKYKCV",
    "outputId": "fb84e251-e314-4828-ccc6-eb3cf7d40b1c"
   },
   "outputs": [
    {
     "data": {
      "text/plain": [
       "(2, 3, 4)"
      ]
     },
     "execution_count": 148,
     "metadata": {},
     "output_type": "execute_result"
    }
   ],
   "source": [
    "x.shape"
   ]
  },
  {
   "cell_type": "code",
   "execution_count": 149,
   "metadata": {
    "colab": {},
    "colab_type": "code",
    "id": "SdW5bhmeYKCX",
    "outputId": "fd819e54-8fc0-4389-92a9-41cfa7dc9786"
   },
   "outputs": [
    {
     "data": {
      "text/plain": [
       "numpy.ndarray"
      ]
     },
     "execution_count": 149,
     "metadata": {},
     "output_type": "execute_result"
    }
   ],
   "source": [
    "type(x)"
   ]
  },
  {
   "cell_type": "markdown",
   "metadata": {
    "colab_type": "text",
    "id": "1ALNkrzMYKCY"
   },
   "source": [
    "### Задача 4"
   ]
  },
  {
   "cell_type": "markdown",
   "metadata": {
    "colab_type": "text",
    "id": "7-KS81rUYKCY"
   },
   "source": [
    "Напишите функцию `forward_pass(X, w)` ($w_0$ входит в $w$) для одного нейрона (с сигмоидой) с помощью PyTorch (у вас уже должен быть код на NumPy)."
   ]
  },
  {
   "cell_type": "code",
   "execution_count": 174,
   "metadata": {},
   "outputs": [],
   "source": [
    "def sigmoid(x):\n",
    "    \"\"\"Сигмоидальная функция\"\"\"\n",
    "    return 1 / (1 + np.exp(-x))"
   ]
  },
  {
   "cell_type": "code",
   "execution_count": 177,
   "metadata": {
    "colab": {},
    "colab_type": "code",
    "id": "vkaIwpn6YKCY"
   },
   "outputs": [],
   "source": [
    "def forward_pass(X, w):\n",
    "    # Ваш код здесь\n",
    "    n = X.shape[0]\n",
    "    y_pred = torch.FloatTensor(n, 1)\n",
    "    y_pred = sigmoid(X.mm(w).view(-1,1))\n",
    "    return(y_pred)"
   ]
  },
  {
   "cell_type": "code",
   "execution_count": 187,
   "metadata": {
    "colab": {},
    "colab_type": "code",
    "id": "VyqlDItxYKCZ",
    "outputId": "87ae60cb-715b-456e-b92e-992ea55db795"
   },
   "outputs": [
    {
     "name": "stdout",
     "output_type": "stream",
     "text": [
      "result: tensor([[1.0000],\n",
      "        [0.9985],\n",
      "        [0.0474]])\n"
     ]
    }
   ],
   "source": [
    "X = torch.FloatTensor([[-5, 5], [2, 3], [1, -1]])\n",
    "w = torch.FloatTensor([[-0.5], [2.5]])\n",
    "result = forward_pass(X, w)\n",
    "print('result: {}'.format(result))"
   ]
  },
  {
   "cell_type": "markdown",
   "metadata": {
    "colab_type": "text",
    "id": "uT9rDk5RYKCa"
   },
   "source": [
    "Должно получиться: \n",
    "\n",
    "|variable|value|\n",
    "|-|-|\n",
    "|**X**|torch.FloatTensor([[-5, 5], [15, 20], [100, -700]])|\n",
    "|**w**|torch.FloatTensor([[-0.5], [150]])|\n",
    "|**result**|torch.FloatTensor([[1.0000], [0.9985], [0.0474]])|   "
   ]
  },
  {
   "cell_type": "markdown",
   "metadata": {
    "colab_type": "text",
    "id": "MzLVLQ2GYKCa"
   },
   "source": [
    "<h3 style=\"text-align: center;\">[CUDA](https://ru.wikipedia.org/wiki/CUDA)<b></b></h3>"
   ]
  },
  {
   "cell_type": "markdown",
   "metadata": {
    "colab_type": "text",
    "id": "PrIicAAiYKCa"
   },
   "source": [
    "[Краткое видео про то, как GPU используется в обучении нейросетей](https://www.youtube.com/watch?v=EobhK0UZm80)"
   ]
  },
  {
   "cell_type": "markdown",
   "metadata": {
    "colab_type": "text",
    "id": "2nDkAG6NYKCa"
   },
   "source": [
    "Все вычисления в PyTorch можно проводить как на CPU, так и на GPU (Graphical Processing Unit) (если она у вас есть). В PyTorch переключение между ними делается очень просто, что является одной из ключевых его особенностей."
   ]
  },
  {
   "cell_type": "code",
   "execution_count": 188,
   "metadata": {
    "colab": {},
    "colab_type": "code",
    "id": "_0Nsl2IoYKCa",
    "outputId": "93510974-05a5-4a77-fe33-25208cca12cf"
   },
   "outputs": [
    {
     "data": {
      "text/plain": [
       "tensor([[0.5728, 0.0996, 0.0384,  ..., 0.1738, 0.7253, 0.0404],\n",
       "        [0.3642, 0.6411, 0.5770,  ..., 0.1275, 0.8715, 0.5760],\n",
       "        [0.6697, 0.0352, 0.7819,  ..., 0.5963, 0.3256, 0.9305],\n",
       "        ...,\n",
       "        [0.9034, 0.2852, 0.4114,  ..., 0.7779, 0.2535, 0.1815],\n",
       "        [0.8416, 0.9871, 0.5399,  ..., 0.6213, 0.1137, 0.8769],\n",
       "        [0.2967, 0.2717, 0.9423,  ..., 0.4702, 0.7844, 0.5223]])"
      ]
     },
     "execution_count": 188,
     "metadata": {},
     "output_type": "execute_result"
    }
   ],
   "source": [
    "x = torch.FloatTensor(1024, 1024).uniform_()\n",
    "x"
   ]
  },
  {
   "cell_type": "code",
   "execution_count": 189,
   "metadata": {
    "colab": {},
    "colab_type": "code",
    "id": "FVr5_SAdYKCb",
    "outputId": "e4f3d375-f02f-402a-a5c5-912ead39ca76"
   },
   "outputs": [
    {
     "data": {
      "text/plain": [
       "False"
      ]
     },
     "execution_count": 189,
     "metadata": {},
     "output_type": "execute_result"
    }
   ],
   "source": [
    "x.is_cuda"
   ]
  },
  {
   "cell_type": "markdown",
   "metadata": {
    "colab_type": "text",
    "id": "mAy8GGXAYKCd"
   },
   "source": [
    "Переместим на GPU:"
   ]
  },
  {
   "cell_type": "code",
   "execution_count": 190,
   "metadata": {
    "colab": {},
    "colab_type": "code",
    "id": "6UGKZbfyYKCd",
    "scrolled": true
   },
   "outputs": [
    {
     "ename": "AssertionError",
     "evalue": "Torch not compiled with CUDA enabled",
     "output_type": "error",
     "traceback": [
      "\u001b[1;31m---------------------------------------------------------------------------\u001b[0m",
      "\u001b[1;31mAssertionError\u001b[0m                            Traceback (most recent call last)",
      "\u001b[1;32m<ipython-input-190-298f8d08c218>\u001b[0m in \u001b[0;36m<module>\u001b[1;34m()\u001b[0m\n\u001b[1;32m----> 1\u001b[1;33m \u001b[0mx\u001b[0m \u001b[1;33m=\u001b[0m \u001b[0mx\u001b[0m\u001b[1;33m.\u001b[0m\u001b[0mcuda\u001b[0m\u001b[1;33m(\u001b[0m\u001b[1;33m)\u001b[0m\u001b[1;33m\u001b[0m\u001b[0m\n\u001b[0m",
      "\u001b[1;32m~\\Anaconda3\\lib\\site-packages\\torch\\cuda\\__init__.py\u001b[0m in \u001b[0;36m_lazy_init\u001b[1;34m()\u001b[0m\n\u001b[0;32m    159\u001b[0m         raise RuntimeError(\n\u001b[0;32m    160\u001b[0m             \"Cannot re-initialize CUDA in forked subprocess. \" + msg)\n\u001b[1;32m--> 161\u001b[1;33m     \u001b[0m_check_driver\u001b[0m\u001b[1;33m(\u001b[0m\u001b[1;33m)\u001b[0m\u001b[1;33m\u001b[0m\u001b[0m\n\u001b[0m\u001b[0;32m    162\u001b[0m     \u001b[0mtorch\u001b[0m\u001b[1;33m.\u001b[0m\u001b[0m_C\u001b[0m\u001b[1;33m.\u001b[0m\u001b[0m_cuda_init\u001b[0m\u001b[1;33m(\u001b[0m\u001b[1;33m)\u001b[0m\u001b[1;33m\u001b[0m\u001b[0m\n\u001b[0;32m    163\u001b[0m     \u001b[0m_cudart\u001b[0m \u001b[1;33m=\u001b[0m \u001b[0m_load_cudart\u001b[0m\u001b[1;33m(\u001b[0m\u001b[1;33m)\u001b[0m\u001b[1;33m\u001b[0m\u001b[0m\n",
      "\u001b[1;32m~\\Anaconda3\\lib\\site-packages\\torch\\cuda\\__init__.py\u001b[0m in \u001b[0;36m_check_driver\u001b[1;34m()\u001b[0m\n\u001b[0;32m     73\u001b[0m \u001b[1;32mdef\u001b[0m \u001b[0m_check_driver\u001b[0m\u001b[1;33m(\u001b[0m\u001b[1;33m)\u001b[0m\u001b[1;33m:\u001b[0m\u001b[1;33m\u001b[0m\u001b[0m\n\u001b[0;32m     74\u001b[0m     \u001b[1;32mif\u001b[0m \u001b[1;32mnot\u001b[0m \u001b[0mhasattr\u001b[0m\u001b[1;33m(\u001b[0m\u001b[0mtorch\u001b[0m\u001b[1;33m.\u001b[0m\u001b[0m_C\u001b[0m\u001b[1;33m,\u001b[0m \u001b[1;34m'_cuda_isDriverSufficient'\u001b[0m\u001b[1;33m)\u001b[0m\u001b[1;33m:\u001b[0m\u001b[1;33m\u001b[0m\u001b[0m\n\u001b[1;32m---> 75\u001b[1;33m         \u001b[1;32mraise\u001b[0m \u001b[0mAssertionError\u001b[0m\u001b[1;33m(\u001b[0m\u001b[1;34m\"Torch not compiled with CUDA enabled\"\u001b[0m\u001b[1;33m)\u001b[0m\u001b[1;33m\u001b[0m\u001b[0m\n\u001b[0m\u001b[0;32m     76\u001b[0m     \u001b[1;32mif\u001b[0m \u001b[1;32mnot\u001b[0m \u001b[0mtorch\u001b[0m\u001b[1;33m.\u001b[0m\u001b[0m_C\u001b[0m\u001b[1;33m.\u001b[0m\u001b[0m_cuda_isDriverSufficient\u001b[0m\u001b[1;33m(\u001b[0m\u001b[1;33m)\u001b[0m\u001b[1;33m:\u001b[0m\u001b[1;33m\u001b[0m\u001b[0m\n\u001b[0;32m     77\u001b[0m         \u001b[1;32mif\u001b[0m \u001b[0mtorch\u001b[0m\u001b[1;33m.\u001b[0m\u001b[0m_C\u001b[0m\u001b[1;33m.\u001b[0m\u001b[0m_cuda_getDriverVersion\u001b[0m\u001b[1;33m(\u001b[0m\u001b[1;33m)\u001b[0m \u001b[1;33m==\u001b[0m \u001b[1;36m0\u001b[0m\u001b[1;33m:\u001b[0m\u001b[1;33m\u001b[0m\u001b[0m\n",
      "\u001b[1;31mAssertionError\u001b[0m: Torch not compiled with CUDA enabled"
     ]
    }
   ],
   "source": [
    "x = x.cuda()"
   ]
  },
  {
   "cell_type": "code",
   "execution_count": 191,
   "metadata": {
    "colab": {},
    "colab_type": "code",
    "id": "ue2SLd9nYKCd",
    "outputId": "50a73229-ba39-45b2-f4b1-19f790a20643"
   },
   "outputs": [
    {
     "data": {
      "text/plain": [
       "False"
      ]
     },
     "execution_count": 191,
     "metadata": {},
     "output_type": "execute_result"
    }
   ],
   "source": [
    "x.is_cuda"
   ]
  },
  {
   "cell_type": "code",
   "execution_count": 0,
   "metadata": {
    "colab": {},
    "colab_type": "code",
    "id": "dqs1JNv3YKCe",
    "outputId": "53a4b10e-bc54-4fc6-cce8-f07723a29a40"
   },
   "outputs": [
    {
     "data": {
      "text/plain": [
       "\n",
       " 9.8569e-01  3.7595e-01  8.7008e-01  ...   6.2316e-01  3.3482e-01  9.7367e-02\n",
       " 7.7810e-01  8.5821e-01  7.8123e-01  ...   3.9363e-02  8.2963e-01  7.8153e-01\n",
       " 5.9462e-01  7.5670e-01  7.3290e-01  ...   9.3771e-01  5.4976e-01  9.6451e-02\n",
       "                ...                   ⋱                   ...                \n",
       " 4.4887e-01  9.2894e-01  1.5457e-01  ...   5.6541e-01  2.8661e-02  1.8460e-01\n",
       " 8.0305e-01  4.7660e-01  9.0947e-02  ...   7.2990e-01  6.3040e-01  8.8941e-01\n",
       " 9.1068e-01  4.1714e-02  5.4457e-02  ...   2.6645e-01  8.3107e-01  6.7596e-01\n",
       "[torch.cuda.FloatTensor of size 1024x1024 (GPU 0)]"
      ]
     },
     "execution_count": 17,
     "metadata": {
      "tags": []
     },
     "output_type": "execute_result"
    }
   ],
   "source": [
    "x"
   ]
  },
  {
   "cell_type": "markdown",
   "metadata": {
    "colab_type": "text",
    "id": "dI73B59PYKCg"
   },
   "source": [
    "Перемножим две тензора на GPu и вернём результат вычисления на CPU:"
   ]
  },
  {
   "cell_type": "code",
   "execution_count": 0,
   "metadata": {
    "colab": {},
    "colab_type": "code",
    "id": "KS4QxJJoYKCg"
   },
   "outputs": [],
   "source": [
    "a = torch.FloatTensor(10000, 10000).uniform_()\n",
    "b = torch.FloatTensor(10000, 10000).uniform_()\n",
    "c = a.cuda().mul(b.cuda()).cpu()"
   ]
  },
  {
   "cell_type": "code",
   "execution_count": 0,
   "metadata": {
    "colab": {},
    "colab_type": "code",
    "id": "1ImlgEbwYKCg",
    "outputId": "3d114438-ea49-4b20-f02e-e7e187be4e5b"
   },
   "outputs": [
    {
     "data": {
      "text/plain": [
       "\n",
       " 1.3276e-01  4.6640e-02  3.6811e-03  ...   2.5005e-01  2.7425e-01  2.2217e-01\n",
       " 7.6941e-02  2.2012e-01  8.5448e-02  ...   4.8152e-01  8.5428e-02  1.0293e-01\n",
       " 1.8373e-01  2.2956e-01  6.7784e-02  ...   5.2270e-01  8.9739e-02  1.9734e-02\n",
       "                ...                   ⋱                   ...                \n",
       " 4.6043e-01  7.1955e-02  4.6278e-02  ...   1.6644e-01  8.8197e-02  1.0238e-01\n",
       " 6.6998e-02  1.4303e-01  8.4953e-03  ...   1.1650e-01  1.1400e-01  6.0282e-01\n",
       " 6.9519e-01  1.9520e-01  2.7402e-01  ...   1.5071e-01  1.6169e-01  2.4579e-01\n",
       "[torch.FloatTensor of size 10000x10000]"
      ]
     },
     "execution_count": 19,
     "metadata": {
      "tags": []
     },
     "output_type": "execute_result"
    }
   ],
   "source": [
    "c"
   ]
  },
  {
   "cell_type": "code",
   "execution_count": 0,
   "metadata": {
    "colab": {},
    "colab_type": "code",
    "id": "4DAN9MhDYKCh",
    "outputId": "2ee2c90b-07e4-46c6-d7fe-e34b589e8ea1"
   },
   "outputs": [
    {
     "data": {
      "text/plain": [
       "\n",
       " 3.2185e-01  1.1987e-01  5.2117e-02  ...   8.2740e-01  6.0768e-01  8.3344e-01\n",
       " 7.5668e-01  3.4455e-01  2.9262e-01  ...   5.0549e-01  1.3569e-01  2.9384e-01\n",
       " 3.3093e-01  7.2330e-01  1.7693e-01  ...   5.6406e-01  9.8218e-02  6.4030e-02\n",
       "                ...                   ⋱                   ...                \n",
       " 5.8405e-01  2.0138e-01  9.9384e-01  ...   4.8946e-01  1.3532e-01  2.1701e-01\n",
       " 5.6156e-01  3.5891e-01  6.3199e-01  ...   4.5497e-01  1.3874e-01  9.1001e-01\n",
       " 8.4097e-01  8.8349e-01  4.3792e-01  ...   1.9193e-01  1.8535e-01  3.3038e-01\n",
       "[torch.FloatTensor of size 10000x10000]"
      ]
     },
     "execution_count": 20,
     "metadata": {
      "tags": []
     },
     "output_type": "execute_result"
    }
   ],
   "source": [
    "a"
   ]
  },
  {
   "cell_type": "markdown",
   "metadata": {
    "colab_type": "text",
    "id": "xWc-PiA9YKCi"
   },
   "source": [
    "Тензоры, лежащие на CPU, и тензоры, лежащие на GPU, недоступны друг для друга:"
   ]
  },
  {
   "cell_type": "code",
   "execution_count": 0,
   "metadata": {
    "colab": {},
    "colab_type": "code",
    "id": "1lwV1sgSYKCi"
   },
   "outputs": [],
   "source": [
    "a = torch.FloatTensor(1000, 1000).uniform_().cpu()\n",
    "b = torch.FloatTensor(10000, 10000).uniform_().cuda()"
   ]
  },
  {
   "cell_type": "code",
   "execution_count": 0,
   "metadata": {
    "colab": {},
    "colab_type": "code",
    "id": "G6tYdYtTYKCj",
    "outputId": "402a280c-4907-49df-92f4-3a5818f72478"
   },
   "outputs": [
    {
     "ename": "TypeError",
     "evalue": "add received an invalid combination of arguments - got (torch.cuda.FloatTensor), but expected one of:\n * (float value)\n      didn't match because some of the arguments have invalid types: (\u001b[31;1mtorch.cuda.FloatTensor\u001b[0m)\n * (torch.FloatTensor other)\n      didn't match because some of the arguments have invalid types: (\u001b[31;1mtorch.cuda.FloatTensor\u001b[0m)\n * (torch.SparseFloatTensor other)\n      didn't match because some of the arguments have invalid types: (\u001b[31;1mtorch.cuda.FloatTensor\u001b[0m)\n * (float value, torch.FloatTensor other)\n * (float value, torch.SparseFloatTensor other)\n",
     "output_type": "error",
     "traceback": [
      "\u001b[1;31m---------------------------------------------------------------------------\u001b[0m",
      "\u001b[1;31mTypeError\u001b[0m                                 Traceback (most recent call last)",
      "\u001b[1;32m<ipython-input-24-f96fb8f649b6>\u001b[0m in \u001b[0;36m<module>\u001b[1;34m()\u001b[0m\n\u001b[1;32m----> 1\u001b[1;33m \u001b[0ma\u001b[0m \u001b[1;33m+\u001b[0m \u001b[0mb\u001b[0m\u001b[1;33m\u001b[0m\u001b[0m\n\u001b[0m",
      "\u001b[1;32mC:\\Program Files\\Anaconda3\\envs\\pytorch\\lib\\site-packages\\torch\\tensor.py\u001b[0m in \u001b[0;36m__add__\u001b[1;34m(self, other)\u001b[0m\n\u001b[0;32m    291\u001b[0m     \u001b[1;31m# TODO: add tests for operators\u001b[0m\u001b[1;33m\u001b[0m\u001b[1;33m\u001b[0m\u001b[0m\n\u001b[0;32m    292\u001b[0m     \u001b[1;32mdef\u001b[0m \u001b[0m__add__\u001b[0m\u001b[1;33m(\u001b[0m\u001b[0mself\u001b[0m\u001b[1;33m,\u001b[0m \u001b[0mother\u001b[0m\u001b[1;33m)\u001b[0m\u001b[1;33m:\u001b[0m\u001b[1;33m\u001b[0m\u001b[0m\n\u001b[1;32m--> 293\u001b[1;33m         \u001b[1;32mreturn\u001b[0m \u001b[0mself\u001b[0m\u001b[1;33m.\u001b[0m\u001b[0madd\u001b[0m\u001b[1;33m(\u001b[0m\u001b[0mother\u001b[0m\u001b[1;33m)\u001b[0m\u001b[1;33m\u001b[0m\u001b[0m\n\u001b[0m\u001b[0;32m    294\u001b[0m     \u001b[0m__radd__\u001b[0m \u001b[1;33m=\u001b[0m \u001b[0m__add__\u001b[0m\u001b[1;33m\u001b[0m\u001b[0m\n\u001b[0;32m    295\u001b[0m \u001b[1;33m\u001b[0m\u001b[0m\n",
      "\u001b[1;31mTypeError\u001b[0m: add received an invalid combination of arguments - got (torch.cuda.FloatTensor), but expected one of:\n * (float value)\n      didn't match because some of the arguments have invalid types: (\u001b[31;1mtorch.cuda.FloatTensor\u001b[0m)\n * (torch.FloatTensor other)\n      didn't match because some of the arguments have invalid types: (\u001b[31;1mtorch.cuda.FloatTensor\u001b[0m)\n * (torch.SparseFloatTensor other)\n      didn't match because some of the arguments have invalid types: (\u001b[31;1mtorch.cuda.FloatTensor\u001b[0m)\n * (float value, torch.FloatTensor other)\n * (float value, torch.SparseFloatTensor other)\n"
     ]
    }
   ],
   "source": [
    "a + b"
   ]
  },
  {
   "cell_type": "markdown",
   "metadata": {
    "colab_type": "text",
    "id": "QEtwaIxDYKCk"
   },
   "source": [
    "Вот ещё немного про то, как можно работать с GPU:"
   ]
  },
  {
   "cell_type": "code",
   "execution_count": 0,
   "metadata": {
    "colab": {},
    "colab_type": "code",
    "id": "bJgVfAbUYKCk",
    "outputId": "3d761ebc-89fc-4e2b-9a3f-54bb74d11ebe",
    "scrolled": true
   },
   "outputs": [
    {
     "name": "stdout",
     "output_type": "stream",
     "text": [
      "tensor([[[ 1.4435,  1.3470,  1.3062,  1.4405,  1.2337],\n",
      "         [ 1.7475,  1.2037,  1.7702,  1.0894,  1.2214],\n",
      "         [ 1.5788,  1.3411,  1.7662,  1.4289,  1.4192],\n",
      "         [ 1.2131,  1.8919,  1.9255,  1.7404,  1.2128],\n",
      "         [ 1.2344,  1.8557,  1.0431,  1.2820,  1.1393]],\n",
      "\n",
      "        [[ 1.4193,  1.3347,  1.5175,  1.5933,  1.4449],\n",
      "         [ 1.6636,  1.0913,  1.6360,  1.1679,  1.3635],\n",
      "         [ 1.1754,  1.6012,  1.4388,  1.4961,  1.8299],\n",
      "         [ 1.2644,  1.3119,  1.2737,  1.5933,  1.4822],\n",
      "         [ 1.2119,  1.5497,  1.3665,  1.6801,  1.2678]],\n",
      "\n",
      "        [[ 1.2456,  1.1512,  1.3754,  1.0309,  1.1592],\n",
      "         [ 1.8683,  1.9625,  1.5814,  1.9701,  1.7795],\n",
      "         [ 1.9937,  1.1922,  1.8598,  1.9095,  1.0288],\n",
      "         [ 1.2730,  1.5456,  1.1422,  1.0011,  1.5654],\n",
      "         [ 1.5377,  1.6367,  1.6430,  1.8843,  1.1299]],\n",
      "\n",
      "        [[ 1.8965,  1.1913,  1.9592,  1.4277,  1.1259],\n",
      "         [ 1.4051,  1.4896,  1.7341,  1.3553,  1.3299],\n",
      "         [ 1.7331,  1.4356,  1.8285,  1.2966,  1.4548],\n",
      "         [ 1.0261,  1.8903,  1.0882,  1.1346,  1.0139],\n",
      "         [ 1.7233,  1.8254,  1.1772,  1.7541,  1.2284]],\n",
      "\n",
      "        [[ 1.0069,  1.4792,  1.0656,  1.6060,  1.4483],\n",
      "         [ 1.7174,  1.5598,  1.0447,  1.8487,  1.5990],\n",
      "         [ 1.0678,  1.0093,  1.1584,  1.3766,  1.4594],\n",
      "         [ 1.6086,  1.3086,  1.5398,  1.0595,  1.9090],\n",
      "         [ 1.9287,  1.5674,  1.2051,  1.0922,  1.1770]]], device='cuda:0')\n",
      "tensor([[[ 1.4435,  1.3470,  1.3062,  1.4405,  1.2337],\n",
      "         [ 1.7475,  1.2037,  1.7702,  1.0894,  1.2214],\n",
      "         [ 1.5788,  1.3411,  1.7662,  1.4289,  1.4192],\n",
      "         [ 1.2131,  1.8919,  1.9255,  1.7404,  1.2128],\n",
      "         [ 1.2344,  1.8557,  1.0431,  1.2820,  1.1393]],\n",
      "\n",
      "        [[ 1.4193,  1.3347,  1.5175,  1.5933,  1.4449],\n",
      "         [ 1.6636,  1.0913,  1.6360,  1.1679,  1.3635],\n",
      "         [ 1.1754,  1.6012,  1.4388,  1.4961,  1.8299],\n",
      "         [ 1.2644,  1.3119,  1.2737,  1.5933,  1.4822],\n",
      "         [ 1.2119,  1.5497,  1.3665,  1.6801,  1.2678]],\n",
      "\n",
      "        [[ 1.2456,  1.1512,  1.3754,  1.0309,  1.1592],\n",
      "         [ 1.8683,  1.9625,  1.5814,  1.9701,  1.7795],\n",
      "         [ 1.9937,  1.1922,  1.8598,  1.9095,  1.0288],\n",
      "         [ 1.2730,  1.5456,  1.1422,  1.0011,  1.5654],\n",
      "         [ 1.5377,  1.6367,  1.6430,  1.8843,  1.1299]],\n",
      "\n",
      "        [[ 1.8965,  1.1913,  1.9592,  1.4277,  1.1259],\n",
      "         [ 1.4051,  1.4896,  1.7341,  1.3553,  1.3299],\n",
      "         [ 1.7331,  1.4356,  1.8285,  1.2966,  1.4548],\n",
      "         [ 1.0261,  1.8903,  1.0882,  1.1346,  1.0139],\n",
      "         [ 1.7233,  1.8254,  1.1772,  1.7541,  1.2284]],\n",
      "\n",
      "        [[ 1.0069,  1.4792,  1.0656,  1.6060,  1.4483],\n",
      "         [ 1.7174,  1.5598,  1.0447,  1.8487,  1.5990],\n",
      "         [ 1.0678,  1.0093,  1.1584,  1.3766,  1.4594],\n",
      "         [ 1.6086,  1.3086,  1.5398,  1.0595,  1.9090],\n",
      "         [ 1.9287,  1.5674,  1.2051,  1.0922,  1.1770]]], dtype=torch.float64)\n"
     ]
    }
   ],
   "source": [
    "x = torch.FloatTensor(5, 5, 5).uniform_()\n",
    "\n",
    "# проверяем, есть ли CUDA (то есть NVidia GPU)\n",
    "if torch.cuda.is_available():\n",
    "    # так можно получить имя устройства, которое связано с CUDA\n",
    "    # (полезно в случае с несколькими видеокартами)\n",
    "    device = torch.device('cuda')          # CUDA-device объект\n",
    "    y = torch.ones_like(x, device=device)  # создаём тензор на GPU\n",
    "    x = x.to(device)                       # тут можно просто ``.to(\"cuda\")``\n",
    "    z = x + y\n",
    "    print(z)\n",
    "    # с помощью``.to`` можно и изменить тип при перемещении\n",
    "    print(z.to(\"cpu\", torch.double))"
   ]
  },
  {
   "cell_type": "markdown",
   "metadata": {
    "colab_type": "text",
    "id": "iFg82MJIYKCl"
   },
   "source": [
    "<h3 style=\"text-align: center;\">Autograd<b></b></h3>"
   ]
  },
  {
   "cell_type": "markdown",
   "metadata": {
    "colab_type": "text",
    "id": "udpOWYK-YKCm"
   },
   "source": [
    "Расшифровывается как Automatic Gradients (автоматическое взятие градиентов) - собственно, из названия понятно, что это модуль PyTorch, отвечающий за взятие производных.  \n",
    "\n",
    "Возможно, для вас это бдет шок, но PyTorch (и любой фреймворк глубокого обучения) может продифференцировать функцию практически любой сложности."
   ]
  },
  {
   "cell_type": "markdown",
   "metadata": {
    "colab_type": "text",
    "id": "OAfNuSknYKCm"
   },
   "source": [
    "Импортируем нужный класс:"
   ]
  },
  {
   "cell_type": "code",
   "execution_count": 192,
   "metadata": {
    "colab": {},
    "colab_type": "code",
    "id": "PJdDG51vYKCm"
   },
   "outputs": [],
   "source": [
    "from torch.autograd import Variable"
   ]
  },
  {
   "cell_type": "markdown",
   "metadata": {
    "colab_type": "text",
    "id": "dZzZFE-0YKCm"
   },
   "source": [
    "Идея такая: оборачиваем тензор в класс Variable(), получаем тоже тензор, но он имеет способность вычислять себе градиенты.  "
   ]
  },
  {
   "cell_type": "markdown",
   "metadata": {
    "colab_type": "text",
    "id": "VzMGFf1xYKCm"
   },
   "source": [
    "Если а - тензор, обёрнутый в Variable(), то при вызове a.backward() берутся градиенты по всем переменным, от которых зависит тензор a."
   ]
  },
  {
   "cell_type": "markdown",
   "metadata": {
    "colab_type": "text",
    "id": "bTVyleFWYKCn"
   },
   "source": [
    "**ВНИМАНИЕ!**  \n",
    "\n",
    "Если вы используете версию `pytorch 0.4.0` или более новую, то ***`torch.Tensor` и `torch.Variable` - одно и то же!*** То есть Вам больше не нужно оборачивать в `Variable()`, чтобы брать градиенты - они берутся и по `Tensor()` (`torch.Variable()` - deprecated)."
   ]
  },
  {
   "cell_type": "markdown",
   "metadata": {
    "colab_type": "text",
    "id": "AEDz971fYKCn"
   },
   "source": [
    "Примеры:"
   ]
  },
  {
   "cell_type": "code",
   "execution_count": 205,
   "metadata": {
    "colab": {},
    "colab_type": "code",
    "id": "rYWqXsAjYKCn"
   },
   "outputs": [],
   "source": [
    "x = torch.FloatTensor(3, 1).uniform_()\n",
    "w = torch.FloatTensor(3, 3).uniform_() \n",
    "b = torch.FloatTensor(3, 1).uniform_()\n",
    "\n",
    "x = Variable(x, requires_grad=True)\n",
    "w = Variable(w, requires_grad=True)\n",
    "b = Variable(b, requires_grad=False)\n",
    "\n",
    "y = (w @ x).add_(b)\n",
    "\n",
    "loss = y.sum()\n",
    "\n",
    "# берём градиенты по всем \"листьям\" - в данном случае это тензоры x, w и b\n",
    "loss.backward()"
   ]
  },
  {
   "cell_type": "code",
   "execution_count": 206,
   "metadata": {
    "colab": {},
    "colab_type": "code",
    "id": "ZsePHOo0YKCp",
    "outputId": "652875bc-e5bd-4a73-abc5-7760e49810b1"
   },
   "outputs": [
    {
     "data": {
      "text/plain": [
       "tensor([[1.3157],\n",
       "        [2.0838],\n",
       "        [2.1617]])"
      ]
     },
     "execution_count": 206,
     "metadata": {},
     "output_type": "execute_result"
    }
   ],
   "source": [
    "x.grad"
   ]
  },
  {
   "cell_type": "code",
   "execution_count": 207,
   "metadata": {
    "colab": {},
    "colab_type": "code",
    "id": "qLkn5C7JYKCp",
    "outputId": "3bfd1927-4962-45ac-c8d3-053b1ebae784"
   },
   "outputs": [
    {
     "data": {
      "text/plain": [
       "tensor([[0.2901, 0.4713, 0.7391],\n",
       "        [0.2901, 0.4713, 0.7391],\n",
       "        [0.2901, 0.4713, 0.7391]])"
      ]
     },
     "execution_count": 207,
     "metadata": {},
     "output_type": "execute_result"
    }
   ],
   "source": [
    "w.grad"
   ]
  },
  {
   "cell_type": "code",
   "execution_count": 208,
   "metadata": {
    "colab": {},
    "colab_type": "code",
    "id": "CYkrFbD5YKCq"
   },
   "outputs": [],
   "source": [
    "b.grad"
   ]
  },
  {
   "cell_type": "code",
   "execution_count": 209,
   "metadata": {
    "colab": {},
    "colab_type": "code",
    "id": "ouMNnbtXYKCr"
   },
   "outputs": [],
   "source": [
    "y.grad"
   ]
  },
  {
   "cell_type": "markdown",
   "metadata": {
    "colab_type": "text",
    "id": "DIsqxWIvYKCs"
   },
   "source": [
    "**Обратите внимание** - градиенты лежат в поле `.grad` у тех тензоров (Variable'ов), по которым брали эти градиенты. Градиенты **не лежат** в той Variable, от котороый они брались!"
   ]
  },
  {
   "cell_type": "markdown",
   "metadata": {
    "colab_type": "text",
    "id": "Nf2xLNDgYKCs"
   },
   "source": [
    "Получить тензор из `Variable()` можно с помощью поля `.data`:"
   ]
  },
  {
   "cell_type": "code",
   "execution_count": 210,
   "metadata": {
    "colab": {},
    "colab_type": "code",
    "id": "5wU_TFedYKCt",
    "outputId": "9b98a122-a26b-4f09-b3c6-933e550682a4"
   },
   "outputs": [
    {
     "data": {
      "text/plain": [
       "tensor([[0.2901],\n",
       "        [0.4713],\n",
       "        [0.7391]], requires_grad=True)"
      ]
     },
     "execution_count": 210,
     "metadata": {},
     "output_type": "execute_result"
    }
   ],
   "source": [
    "x"
   ]
  },
  {
   "cell_type": "code",
   "execution_count": 211,
   "metadata": {
    "colab": {},
    "colab_type": "code",
    "id": "_NnBKF9kYKCt",
    "outputId": "f9e34f9d-6442-4a50-cbc4-7ac52a8a026b"
   },
   "outputs": [
    {
     "data": {
      "text/plain": [
       "tensor([[0.2901],\n",
       "        [0.4713],\n",
       "        [0.7391]])"
      ]
     },
     "execution_count": 211,
     "metadata": {},
     "output_type": "execute_result"
    }
   ],
   "source": [
    "x.data"
   ]
  },
  {
   "cell_type": "markdown",
   "metadata": {
    "colab_type": "text",
    "id": "oQnhq5ZdYKCu"
   },
   "source": [
    "### Задача 5"
   ]
  },
  {
   "cell_type": "markdown",
   "metadata": {
    "colab_type": "text",
    "id": "UB95BhgTYKCu"
   },
   "source": [
    "- Объявите тензор `a` размера (2, 3, 4) и тензор `b` размера (1, 8, 3), иницилизируйте их случайно равномерно (`.uniform_()`, как в примере выше)\n",
    "- Создайте их копии на GPU, выведите их сумму и разность\n",
    "- Затем измените форму тензора `b`, чтобы она совпадала с формой тензора `a`, получите тензор `c`  \n",
    "- Переместите `c` на CPU, переместите `a` на CPU  \n",
    "- Оберните их в `Variable()`\n",
    "- Объявите тензор `L = torch.mean((c - a) `**` 2)` и посчитайте градиент `L` по `c` ( то есть $\\frac{\\partial{L}}{\\partial{c}})$\n",
    "- Получите тензор из `c` (то есть сейчас `c` - объект типа `Variable()`, вам нужно получить из него `FloatTensor()`)"
   ]
  },
  {
   "cell_type": "code",
   "execution_count": 0,
   "metadata": {
    "colab": {},
    "colab_type": "code",
    "id": "WESOm5TCYKCv"
   },
   "outputs": [],
   "source": [
    "# Ваш код здесь"
   ]
  },
  {
   "cell_type": "markdown",
   "metadata": {
    "colab_type": "text",
    "id": "J094WEHQYKCv"
   },
   "source": [
    "<h3 style=\"text-align: center;\">Полезные ссылки:<b></b></h3>"
   ]
  },
  {
   "cell_type": "markdown",
   "metadata": {
    "colab_type": "text",
    "id": "l1gNHZwOYKCv"
   },
   "source": [
    "*1). Мегаполезная статья по PyTorch (на русском), на её основе делался этот ноутбук: https://habr.com/post/334380/*"
   ]
  },
  {
   "cell_type": "markdown",
   "metadata": {
    "colab_type": "text",
    "id": "ftVUTfvUYKCv"
   },
   "source": [
    "*2). Туториалы от самих разработчиков фреймворка: https://pytorch.org/tutorials/beginner/blitz/tensor_tutorial.html#sphx-glr-beginner-blitz-tensor-tutorial-py*"
   ]
  },
  {
   "cell_type": "markdown",
   "metadata": {
    "colab_type": "text",
    "id": "ovymy5F6YKCw"
   },
   "source": [
    "*3). Статья на arXiv о сравнении фреймворков глубокого обучения: https://arxiv.org/pdf/1511.06435.pdf*"
   ]
  },
  {
   "cell_type": "markdown",
   "metadata": {
    "colab_type": "text",
    "id": "VXEEowQAYKCx"
   },
   "source": [
    "4). *Ещё туториалы: https://github.com/yunjey/pytorch-tutorial*"
   ]
  },
  {
   "cell_type": "markdown",
   "metadata": {
    "colab_type": "text",
    "id": "9cROZcrYYKC0"
   },
   "source": [
    "*5). Сайт Facebook AI Research - отдела, который разрабатывает PyTorch и другие крутые вещи в AI: https://facebook.ai/developers/tools*"
   ]
  }
 ],
 "metadata": {
  "colab": {
   "collapsed_sections": [],
   "name": "[seminar]pytorch_basics.ipynb",
   "provenance": [],
   "version": "0.3.2"
  },
  "kernelspec": {
   "display_name": "Python 3",
   "language": "python",
   "name": "python3"
  },
  "language_info": {
   "codemirror_mode": {
    "name": "ipython",
    "version": 3
   },
   "file_extension": ".py",
   "mimetype": "text/x-python",
   "name": "python",
   "nbconvert_exporter": "python",
   "pygments_lexer": "ipython3",
   "version": "3.6.4"
  }
 },
 "nbformat": 4,
 "nbformat_minor": 1
}
