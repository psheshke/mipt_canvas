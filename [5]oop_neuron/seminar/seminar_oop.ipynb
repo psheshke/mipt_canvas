{
 "cells": [
  {
   "cell_type": "markdown",
   "metadata": {
    "colab_type": "text",
    "id": "H3DhPViKKByC"
   },
   "source": [
    "<img src=\"https://s8.hostingkartinok.com/uploads/images/2018/08/308b49fcfbc619d629fe4604bceb67ac.jpg\" width=500, height=450>\n",
    "<h3 style=\"text-align: center;\"><b>Физтех-Школа Прикладной математики и информатики (ФПМИ) МФТИ</b></h3>"
   ]
  },
  {
   "cell_type": "markdown",
   "metadata": {
    "colab_type": "text",
    "id": "r17X2cDDKBj2"
   },
   "source": [
    "---"
   ]
  },
  {
   "cell_type": "markdown",
   "metadata": {
    "colab_type": "text",
    "id": "HeMcLtgwJRKY"
   },
   "source": [
    "## Объектно-ориентированное программирование"
   ]
  },
  {
   "cell_type": "markdown",
   "metadata": {
    "colab_type": "text",
    "id": "8g8muHlBKBsL"
   },
   "source": [
    "---"
   ]
  },
  {
   "cell_type": "markdown",
   "metadata": {
    "colab_type": "text",
    "id": "HGv3nqoyJRKZ"
   },
   "source": [
    "Представьте себе, что вы проектируете автомобиль. Вы знаете, что автомобиль должен содержать двигатель, подвеску, две передних фары, 4 колеса, и т.д. Вы описываете все запчасти, из которых состоит ваш автомобиль, а также то, каким образом эти запчасти взаимодействуют между собой. Кроме того, вы описываете, что должен сделать пользователь, чтобы машина затормозила, или включился дальний свет фар. Результатом вашей работы будет некоторый эскиз. Вы только что разработали то, что в ООП называется класс."
   ]
  },
  {
   "cell_type": "code",
   "execution_count": 22,
   "metadata": {
    "colab": {
     "base_uri": "https://localhost:8080/",
     "height": 856
    },
    "colab_type": "code",
    "executionInfo": {
     "elapsed": 746,
     "status": "ok",
     "timestamp": 1539444592271,
     "user": {
      "displayName": "Михаил Владимирович Макаров",
      "photoUrl": "",
      "userId": "00571021236711414160"
     },
     "user_tz": -180
    },
    "id": "oQ0UkrY0JRKa",
    "outputId": "3fda2c59-5b00-43ac-ab4e-452b242b4ad1"
   },
   "outputs": [
    {
     "data": {
      "text/html": [
       "<img src=\"https://cs5.pikabu.ru/post_img/big/2015/12/14/6/1450080142173639353.jpg\"/>"
      ],
      "text/plain": [
       "<IPython.core.display.Image object>"
      ]
     },
     "execution_count": 22,
     "metadata": {},
     "output_type": "execute_result"
    }
   ],
   "source": [
    "import numpy as np\n",
    "import matplotlib.pyplot as plt\n",
    "from IPython.display import Image\n",
    "from IPython.core.display import HTML \n",
    "Image(url= \"https://cs5.pikabu.ru/post_img/big/2015/12/14/6/1450080142173639353.jpg\")"
   ]
  },
  {
   "cell_type": "markdown",
   "metadata": {
    "colab_type": "text",
    "id": "vC1qw0Q5JRKe"
   },
   "source": [
    "<b>Классы</b> играют роль фабрик экземпляров. Их атрибуты обеспечивают поведение – данные и функции – то есть наследуются всеми экземплярами, созданными от них (например, функция, вычисляющая стоимость поездки, исходя\n",
    "из расхода топлива)."
   ]
  },
  {
   "cell_type": "markdown",
   "metadata": {
    "colab_type": "text",
    "id": "WPewBAzFJRKe"
   },
   "source": [
    "<b>Экземпляры</b> представляют конкретные элементы программы. Их атрибуты хранят данные, которые могут отличаться в  конкретных объектах (например, количество колес)."
   ]
  },
  {
   "cell_type": "markdown",
   "metadata": {
    "colab_type": "text",
    "id": "y_zwgcfgJRKg"
   },
   "source": [
    "Команда интерпретации и запуска — python start.py"
   ]
  },
  {
   "cell_type": "code",
   "execution_count": 0,
   "metadata": {
    "colab": {},
    "colab_type": "code",
    "id": "QnHoiUvFJRKg"
   },
   "outputs": [],
   "source": [
    "class Start:\n",
    "    def say_hello (self):\n",
    "        print('Hello, world!')\n",
    "Start().say_hello() "
   ]
  },
  {
   "cell_type": "markdown",
   "metadata": {
    "colab_type": "text",
    "id": "y3-RCh1BJRKk"
   },
   "source": [
    "Создадим class Car: (object можно не указывать)"
   ]
  },
  {
   "cell_type": "code",
   "execution_count": 0,
   "metadata": {
    "colab": {},
    "colab_type": "code",
    "id": "4SuVKVZbJRKk"
   },
   "outputs": [],
   "source": [
    "class Car(object):\n",
    "    def __init__(self, model):\n",
    "        self.model = model\n",
    "\n",
    "my_car = Car(\"BMW\")\n",
    "my_car"
   ]
  },
  {
   "cell_type": "code",
   "execution_count": 0,
   "metadata": {
    "colab": {},
    "colab_type": "code",
    "id": "-aOGERrjJRKo"
   },
   "outputs": [],
   "source": [
    "my_car.model"
   ]
  },
  {
   "cell_type": "markdown",
   "metadata": {
    "colab_type": "text",
    "id": "ufYq5F-6JRKr"
   },
   "source": [
    "Попробуйте создать свой сlass Car, где при создании объекта будет указываться ещё и passengers, color, speed."
   ]
  },
  {
   "cell_type": "code",
   "execution_count": 1,
   "metadata": {
    "colab": {},
    "colab_type": "code",
    "id": "RV4VhX3VJRKs"
   },
   "outputs": [],
   "source": [
    "#your code here:\n",
    "class Car:\n",
    "    def __init__(self, model, passengers, color, speed):\n",
    "        self.model = model\n",
    "        self.passengers = passengers\n",
    "        self.coloe = color\n",
    "        self.speed = speed"
   ]
  },
  {
   "cell_type": "markdown",
   "metadata": {
    "colab_type": "text",
    "id": "Jm8ZEOfLJRKv"
   },
   "source": [
    "Теперь создайте несколько машин с разными параметрами - атрибутами экземпляров:"
   ]
  },
  {
   "cell_type": "code",
   "execution_count": 3,
   "metadata": {
    "colab": {},
    "colab_type": "code",
    "id": "5zLzPe8wJRKw"
   },
   "outputs": [],
   "source": [
    "#your code here:\n",
    "car1 = Car(\"BMW\", 3, \"red\", 80)\n",
    "\n",
    "car2 = Car(\"NeBMW\", 1, \"blue\", 60)"
   ]
  },
  {
   "cell_type": "markdown",
   "metadata": {
    "colab_type": "text",
    "id": "9GZbpDCBJRKz"
   },
   "source": [
    "Теперь попробуйте покрасить любую машины в любимый ваш цвет:"
   ]
  },
  {
   "cell_type": "code",
   "execution_count": 4,
   "metadata": {
    "colab": {},
    "colab_type": "code",
    "id": "I-eKKw1dJRKz"
   },
   "outputs": [],
   "source": [
    "#your code here:\n",
    "car1.color = \"yellow\""
   ]
  },
  {
   "cell_type": "markdown",
   "metadata": {
    "colab_type": "text",
    "id": "4O-n_j65JRK2"
   },
   "source": [
    "Добавим к class Car метод для работы с экземплярами данного класса - атрибут класса "
   ]
  },
  {
   "cell_type": "code",
   "execution_count": 7,
   "metadata": {
    "colab": {},
    "colab_type": "code",
    "id": "uH60XwUcJRK3"
   },
   "outputs": [],
   "source": [
    "class Car:\n",
    "    def __init__(self, model, passengers, color, speed):\n",
    "        self.model = model\n",
    "        self.passengers = passengers\n",
    "        self.color = color\n",
    "        self.speed = speed\n",
    "    def set_cost(self, cost):\n",
    "        self.cost = cost\n",
    "    "
   ]
  },
  {
   "cell_type": "code",
   "execution_count": 8,
   "metadata": {
    "colab": {},
    "colab_type": "code",
    "id": "c0YPFo7lJRK6"
   },
   "outputs": [
    {
     "data": {
      "text/plain": [
       "<function __main__.Car.set_cost>"
      ]
     },
     "execution_count": 8,
     "metadata": {},
     "output_type": "execute_result"
    }
   ],
   "source": [
    "Car.set_cost"
   ]
  },
  {
   "cell_type": "markdown",
   "metadata": {
    "colab_type": "text",
    "id": "GNF7gP-XJRK9"
   },
   "source": [
    "Установим цену на BMW:"
   ]
  },
  {
   "cell_type": "code",
   "execution_count": 9,
   "metadata": {
    "colab": {},
    "colab_type": "code",
    "id": "6rPx_D_PJRK-"
   },
   "outputs": [
    {
     "data": {
      "text/plain": [
       "3000000"
      ]
     },
     "execution_count": 9,
     "metadata": {},
     "output_type": "execute_result"
    }
   ],
   "source": [
    "bmw = Car(\"BMW\", 4, \"red\", 5)\n",
    "bmw.set_cost(3 * 10 ** 6)\n",
    "bmw.cost"
   ]
  },
  {
   "cell_type": "markdown",
   "metadata": {
    "colab_type": "text",
    "id": "asl-2S6fJRLA"
   },
   "source": [
    "Добавьте к class Car метод, который вычисляет стоимость машины через несколько лет:"
   ]
  },
  {
   "cell_type": "code",
   "execution_count": 14,
   "metadata": {
    "colab": {},
    "colab_type": "code",
    "id": "UblOhUmjJRLB"
   },
   "outputs": [],
   "source": [
    "#class Car:\n",
    "    #...\n",
    "    #def new_cost(..., year):\n",
    "        #k = year ** 2 * (3 * 10 ** 4)    коэффициент уменьшение цены\n",
    "        #...\n",
    "#your code here\n",
    "\n",
    "class Car:\n",
    "    def __init__(self,cost):\n",
    "        self.cost = cost\n",
    "        \n",
    "    def new_cost(self, year):\n",
    "        k = year ** 2 * (3 * 10 ** 4)\n",
    "        return self.cost / k\n",
    "        "
   ]
  },
  {
   "cell_type": "markdown",
   "metadata": {
    "colab_type": "text",
    "id": "moIGgeWCJRLH"
   },
   "source": [
    "Вычислите эту стоимость в течение 5 лет с периодом 1 год и нарисуте график:"
   ]
  },
  {
   "cell_type": "code",
   "execution_count": 17,
   "metadata": {
    "colab": {},
    "colab_type": "code",
    "id": "EsNAYziQJRLH"
   },
   "outputs": [],
   "source": [
    "#your code here\n",
    "car = Car(1e6)"
   ]
  },
  {
   "cell_type": "code",
   "execution_count": 19,
   "metadata": {
    "colab": {},
    "colab_type": "code",
    "id": "ucj-KmRxJRLK"
   },
   "outputs": [],
   "source": [
    "costs = [car.new_cost(year) for year in range(1, 6)]"
   ]
  },
  {
   "cell_type": "code",
   "execution_count": 20,
   "metadata": {},
   "outputs": [
    {
     "data": {
      "text/plain": [
       "[33.333333333333336,\n",
       " 8.333333333333334,\n",
       " 3.7037037037037037,\n",
       " 2.0833333333333335,\n",
       " 1.3333333333333333]"
      ]
     },
     "execution_count": 20,
     "metadata": {},
     "output_type": "execute_result"
    }
   ],
   "source": [
    "costs"
   ]
  },
  {
   "cell_type": "code",
   "execution_count": 23,
   "metadata": {},
   "outputs": [
    {
     "data": {
      "image/png": "[encoded data removed]",
      "text/plain": [
       "<matplotlib.figure.Figure at 0x2408b11f2b0>"
      ]
     },
     "metadata": {
      "needs_background": "light"
     },
     "output_type": "display_data"
    }
   ],
   "source": [
    "plt.plot(costs)\n",
    "\n",
    "plt.show()"
   ]
  },
  {
   "cell_type": "code",
   "execution_count": null,
   "metadata": {},
   "outputs": [],
   "source": []
  }
 ],
 "metadata": {
  "colab": {
   "collapsed_sections": [],
   "name": "[seminar]oop.ipynb",
   "provenance": [],
   "version": "0.3.2"
  },
  "kernelspec": {
   "display_name": "Python 3",
   "language": "python",
   "name": "python3"
  },
  "language_info": {
   "codemirror_mode": {
    "name": "ipython",
    "version": 3
   },
   "file_extension": ".py",
   "mimetype": "text/x-python",
   "name": "python",
   "nbconvert_exporter": "python",
   "pygments_lexer": "ipython3",
   "version": "3.6.4"
  }
 },
 "nbformat": 4,
 "nbformat_minor": 1
}
